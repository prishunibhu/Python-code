{
 "cells": [
  {
   "cell_type": "code",
   "execution_count": 20,
   "metadata": {},
   "outputs": [],
   "source": [
    "import pandas as pd\n",
    "import numpy as np\n",
    "import matplotlib.pyplot as plt\n",
    "from sklearn.model_selection import train_test_split\n",
    "from sklearn.metrics import *\n",
    "from sklearn.linear_model import *\n",
    "from sklearn.tree import *\n",
    "import math"
   ]
  },
  {
   "cell_type": "code",
   "execution_count": 14,
   "metadata": {},
   "outputs": [],
   "source": [
    "df_Iris=pd.read_csv(\"Iris.csv\")\n",
    "x=df_Iris.iloc[:,:-1]\n",
    "y=df_Iris.iloc[:,-1]\n",
    "\n",
    "x_train,x_test,y_train,y_test=train_test_split(x,y,test_size=0.2,random_state=1)"
   ]
  },
  {
   "cell_type": "code",
   "execution_count": 33,
   "metadata": {},
   "outputs": [
    {
     "name": "stdout",
     "output_type": "stream",
     "text": [
      "Logistic Regression Results\n",
      "Accurancy_score: 0.9666666666666667\n",
      "confusion_score_log:\n",
      " [[11  0  0]\n",
      " [ 0 12  1]\n",
      " [ 0  0  6]]\n",
      "classification_score_log:\n",
      "                  precision    recall  f1-score   support\n",
      "\n",
      "    Iris-setosa       1.00      1.00      1.00        11\n",
      "Iris-versicolor       1.00      0.92      0.96        13\n",
      " Iris-virginica       0.86      1.00      0.92         6\n",
      "\n",
      "       accuracy                           0.97        30\n",
      "      macro avg       0.95      0.97      0.96        30\n",
      "   weighted avg       0.97      0.97      0.97        30\n",
      "\n",
      "\n",
      "\n",
      " Decision Tree Results\n",
      "Accurancy_score: 0.9666666666666667\n",
      "confusion_score_log:\n",
      " [[11  0  0]\n",
      " [ 0 12  1]\n",
      " [ 0  0  6]]\n",
      "classification_score_dec:\n",
      "                  precision    recall  f1-score   support\n",
      "\n",
      "    Iris-setosa       1.00      1.00      1.00        11\n",
      "Iris-versicolor       1.00      0.92      0.96        13\n",
      " Iris-virginica       0.86      1.00      0.92         6\n",
      "\n",
      "       accuracy                           0.97        30\n",
      "      macro avg       0.95      0.97      0.96        30\n",
      "   weighted avg       0.97      0.97      0.97        30\n",
      "\n"
     ]
    }
   ],
   "source": [
    "#Lin_reg = LinearRegression()\n",
    "Log_reg = LogisticRegression()\n",
    "Dec_reg = DecisionTreeClassifier()\n",
    "\n",
    "Log_reg.fit(x_train,y_train)\n",
    "y_pred_log = Log_reg.predict(x_test)\n",
    "accurancy_score_log = accuracy_score(y_test,y_pred_log)\n",
    "confusion_score_log = confusion_matrix(y_test,y_pred_log)\n",
    "classification_score_log = classification_report(y_test,y_pred_log)\n",
    "print(\"Logistic Regression Results\")\n",
    "print(\"Accurancy_score:\",accurancy_score_log)\n",
    "print(\"confusion_score_log:\\n\",confusion_score_log)\n",
    "print(\"classification_score_log:\\n\",classification_score_log)\n",
    "Dec_reg.fit(x_train,y_train)\n",
    "y_pred_dec = Dec_reg.predict(x_test)\n",
    "accurancy_score_dec = accuracy_score(y_test,y_pred_dec)\n",
    "confusion_score_dec = confusion_matrix(y_test,y_pred_dec)\n",
    "classification_score_dec = classification_report(y_test,y_pred_dec)\n",
    "print(\"\\n\\n Decision Tree Results\")\n",
    "print(\"Accurancy_score:\",accurancy_score_dec)\n",
    "print(\"confusion_score_log:\\n\",confusion_score_dec)\n",
    "print(\"classification_score_dec:\\n\",classification_score_dec)"
   ]
  }
 ],
 "metadata": {
  "kernelspec": {
   "display_name": "Python 3",
   "language": "python",
   "name": "python3"
  },
  "language_info": {
   "codemirror_mode": {
    "name": "ipython",
    "version": 3
   },
   "file_extension": ".py",
   "mimetype": "text/x-python",
   "name": "python",
   "nbconvert_exporter": "python",
   "pygments_lexer": "ipython3",
   "version": "3.8.5"
  }
 },
 "nbformat": 4,
 "nbformat_minor": 4
}
