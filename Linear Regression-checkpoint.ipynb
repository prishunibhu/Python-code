{
 "cells": [
  {
   "cell_type": "markdown",
   "metadata": {},
   "source": [
    "# Linear Regression - 25th Sep\n",
    "\n"
   ]
  },
  {
   "cell_type": "code",
   "execution_count": null,
   "metadata": {},
   "outputs": [],
   "source": [
    "Regresion problems are also called as Function approximation problems\n",
    "\n",
    "Regression problems are applied on contionous/ numberical data\n",
    "\n",
    "This is about deriving \n",
    "\n",
    "y =mx+c.\n",
    "\n",
    "y can be multiple dependent variables - y1,y2,y3\n",
    "x can be multiple independent variables/features - x1,x2,x3\n",
    "\n",
    "and accordingly called univariate/multivariate.\n",
    "\n",
    "\n",
    "Linear / non linear is different from each other basis co efficients\n",
    "\n",
    "eg => y=mx+c is linear.\n",
    "      y =m1m2x +c is non linear\n",
    "    \n",
    "\n",
    "Epsilon or error = ypred - ytest.\n",
    "\n",
    "Facts about epsilon:\n",
    "\n",
    "*Epsilon is not co related xi. plot the graph and if there no pattern or data is scatterd , then we can conclude.\n",
    "*Epsilon follows normal distribution with mean =0\n",
    "*Homoscedasticity - Var(Epsilon) is constant for all values of xi\n",
    "*Hetroscedasticity - \n",
    "*The residuals(epsilon) should follow a normal distribution\n",
    "\n",
    "Sum squared error(SSE):\n",
    "\n",
    "y = B0+B1x+Epsilon\n",
    "\n",
    "Functions to determine the validity of the model\n",
    "\n",
    "a)co efficient determination - (r squared)\n",
    "\n",
    "R squared close to 0 is poor fit and close to 1 is good fit and greter than > 0.6 is acceptable.\n",
    "\n",
    "b)Test on model parameters - hypothesis testing.\n",
    "\n",
    "Whether B0 and B1 are produced in the acceptable range.\n",
    "\n",
    "c)Confidence intervals on B0 and B1 is determined by t distribution which is a normal distribution\n",
    "\n",
    "go through - https://www.coursera.org/lecture/linear-regression-business-statistics/hypothesis-testing-in-a-linear-regression-gqxpq\n",
    "\n",
    "tstat= (calculated B1  - expected B1)/ standard deviation of B1\n",
    "\n",
    "t cutoff= +-[T.inv(aplpha/2,residual degree of freedom)]\n",
    "\n",
    "if tstat is within tcutoff then it passes hypothesis testing and is within confidence intervals.\n",
    "\n",
    "d) Plot epsilon vs Xi variables if no pattern found, there is no co - relation and the model is good fit.\n",
    "\n",
    "e)QQ plot\n",
    "\n",
    "Plot graph between theroetical quantiles and sample quantiles(epsilon) it has to be close to the 45 degree line to be acceptable.\n",
    "\n",
    "Outlier prediction:\n",
    "    \n",
    "\n",
    "small datasets - The residuals should fit between -2,2 in the normal distribution\n",
    "\n",
    "large datasets - it should fit between -4,4\n",
    "\n",
    "\n",
    "Find the \n",
    "    \n",
    "MAE = Average of the residual of the dataset i.e sum (ytest-ypred) /N\n",
    "MSE = This is the variance of the prediction i.e sum (ytest-ypred)^2 /N\n",
    "RMSE = It is the Standard deviation - sqrt(MSE)\n",
    "\n",
    "R squared = 1- (sum((ypred-mean)^2)/sum((y-mean(y)^2))\n",
    "                \n",
    "Adjusted R squared is used to determine when there are more than 1 independent variable.\n",
    "                \n",
    "The lower value of MAE, MSE, and RMSE implies higher accuracy of a regression model. \n",
    "However, a higher value of R square is considered desirable.\n",
    "                \n",
    "Cross validation - This is also perform to analyse the model. \n",
    "                \n",
    "Divide the sample into diff datasets and build the model on different datasets and if the results are same \n",
    "then it is an acceptable model.The results  can be predicted for R squared of any other parameter.\n",
    "                \n",
    "                \n",
    "                \n",
    "                \n"
   ]
  },
  {
   "cell_type": "code",
   "execution_count": null,
   "metadata": {},
   "outputs": [],
   "source": []
  },
  {
   "cell_type": "code",
   "execution_count": null,
   "metadata": {},
   "outputs": [],
   "source": []
  },
  {
   "cell_type": "markdown",
   "metadata": {},
   "source": [
    "# Sample plotting between house size and cost\n",
    "y=mx+c or y=b0x+b1 . To determine c, y=mean(y) and x=mean(x) R2= (predicted distance-mean)^2 / (Actual distance-mean)^2\n",
    "\n",
    "Mean Absolute error = sum(actual-predicted)/total no of recs Mean squared error = sum((actual-predicted)^2)/total no of recs root mean squared error = sqrt(mean squared error)"
   ]
  },
  {
   "cell_type": "code",
   "execution_count": 1,
   "metadata": {},
   "outputs": [],
   "source": [
    "import numpy as np\n",
    "import matplotlib.pyplot as plt\n",
    "import pandas as pd\n",
    "from sklearn.linear_model import LinearRegression\n",
    "from sklearn.model_selection import train_test_split\n",
    "from sklearn import metrics\n",
    "import math"
   ]
  },
  {
   "cell_type": "code",
   "execution_count": 2,
   "metadata": {},
   "outputs": [
    {
     "name": "stdout",
     "output_type": "stream",
     "text": [
      "(92.72727272727273, 239.99999999999994)\n",
      "R squared 0.9458181818181818\n"
     ]
    },
    {
     "data": {
      "image/png": "[encoded data removed]",
      "text/plain": [
       "<Figure size 432x288 with 1 Axes>"
      ]
     },
     "metadata": {
      "needs_background": "light"
     },
     "output_type": "display_data"
    }
   ],
   "source": [
    "def coefficients(x,y):\n",
    "    mean_x = np.mean(x)\n",
    "    mean_y = np.mean(y)\n",
    "    Diffx  = x-mean_x \n",
    "    Diffy  = y-mean_y\n",
    "    nr=np.sum((Diffx * Diffy))\n",
    "    dr= np.sum((Diffx * Diffx))\n",
    "    b0 = nr/dr\n",
    "    b1 = mean_y - (b0 * mean_x)\n",
    "    return(b0,b1)\n",
    "\n",
    "def plotitout(x,y,b):\n",
    "    plt.scatter(x,y,marker='o',color='r')\n",
    "    b0=b[0]\n",
    "    b1=b[1]\n",
    "    ymean = np.mean(y)\n",
    "    ypred = (b0 * x) + b1\n",
    "    plt.plot(x,ypred,color='g')\n",
    "\n",
    "    r2 = np.sum((pow((ypred-ymean),2)))/np.sum((pow((y-ymean),2)))\n",
    "    print(\"R squared\",r2)\n",
    "\n",
    "sqft_flat=np.array([1,2,3,4,5,6,7,8,9,10])\n",
    "cost_flat=np.array([300,350,500,700,800,850,900,900,1000,1200])\n",
    "b=coefficients(sqft_flat,cost_flat)\n",
    "print(b)\n",
    "plotitout(sqft_flat,cost_flat,b)\n",
    "    \n"
   ]
  },
  {
   "cell_type": "code",
   "execution_count": 3,
   "metadata": {},
   "outputs": [
    {
     "data": {
      "text/plain": [
       "<matplotlib.collections.PathCollection at 0x201ded444c0>"
      ]
     },
     "execution_count": 3,
     "metadata": {},
     "output_type": "execute_result"
    },
    {
     "data": {
      "image/png": "[encoded data removed]",
      "text/plain": [
       "<Figure size 432x288 with 1 Axes>"
      ]
     },
     "metadata": {
      "needs_background": "light"
     },
     "output_type": "display_data"
    }
   ],
   "source": [
    "df_Boston = pd.read_csv(\"Boston.csv\")\n",
    "df_Boston.head()\n",
    "x_data=pd.DataFrame(df_Boston.iloc[:,-1:])\n",
    "y_data=pd.DataFrame(df_Boston.iloc[:,-2])\n",
    "plt.scatter(x_data,y_data,color='b')\n"
   ]
  },
  {
   "cell_type": "code",
   "execution_count": null,
   "metadata": {},
   "outputs": [],
   "source": []
  },
  {
   "cell_type": "code",
   "execution_count": 6,
   "metadata": {},
   "outputs": [
    {
     "name": "stdout",
     "output_type": "stream",
     "text": [
      "     medv\n",
      "42   25.3\n",
      "58   23.3\n",
      "385   7.2\n",
      "78   21.2\n",
      "424  11.7\n",
      "..    ...\n",
      "255  20.9\n",
      "72   22.8\n",
      "396  12.5\n",
      "235  24.0\n",
      "37   21.0\n",
      "\n",
      "[404 rows x 1 columns]      lstat\n",
      "42    5.81\n",
      "58    6.86\n",
      "385  30.81\n",
      "78   12.34\n",
      "424  17.16\n",
      "..     ...\n",
      "255   9.25\n",
      "72    5.52\n",
      "396  19.37\n",
      "235  10.88\n",
      "37    8.77\n",
      "\n",
      "[404 rows x 1 columns]\n",
      "Regression intercept [26.16710963]\n",
      "Regression Coeff [[-0.59445898]]\n"
     ]
    }
   ],
   "source": [
    "x_train,x_test,y_train,y_test=train_test_split(x_data,y_data,test_size=0.2,random_state=1)\n",
    "print(x_train,y_train)\n",
    "regressor=LinearRegression()\n",
    "regressor.fit(x_train,y_train)\n",
    "print(\"Regression intercept\",regressor.intercept_)  #C\n",
    "print(\"Regression Coeff\",regressor.coef_)  #M\n",
    "\n"
   ]
  },
  {
   "cell_type": "code",
   "execution_count": 8,
   "metadata": {},
   "outputs": [
    {
     "name": "stdout",
     "output_type": "stream",
     "text": [
      "Mean Absolute Error 3.788510721275957\n",
      "Mean Squared Error 22.673004713579473\n",
      "Root mean squared error 4.761617867235827\n",
      "Rsquared 0.5114797903256221\n"
     ]
    }
   ],
   "source": [
    "ypred=regressor.predict(x_test)\n",
    "ypred=pd.DataFrame(ypred,columns=['Predicted'])\n",
    "print(\"Mean Absolute Error\",metrics.mean_absolute_error(y_test,ypred))\n",
    "print(\"Mean Squared Error\",metrics.mean_squared_error(y_test,ypred))\n",
    "print(\"Root mean squared error\",math.sqrt(metrics.mean_squared_error(y_test,ypred)))\n",
    "print(\"Rsquared\",metrics.r2_score(y_test,ypred))\n"
   ]
  },
  {
   "cell_type": "code",
   "execution_count": 5,
   "metadata": {},
   "outputs": [],
   "source": []
  },
  {
   "cell_type": "markdown",
   "metadata": {},
   "source": [
    "# Multiple regression. All the columns together contribute to the last dependent column\n"
   ]
  },
  {
   "cell_type": "code",
   "execution_count": 9,
   "metadata": {},
   "outputs": [
    {
     "name": "stdout",
     "output_type": "stream",
     "text": [
      "     Unnamed: 0      crim    zn  indus  chas    nox     rm   age     dis  rad  \\\n",
      "42           43   0.14150   0.0   6.91     0  0.448  6.169   6.6  5.7209    3   \n",
      "58           59   0.15445  25.0   5.13     0  0.453  6.145  29.2  7.8148    8   \n",
      "385         386  16.81180   0.0  18.10     0  0.700  5.277  98.1  1.4261   24   \n",
      "78           79   0.05646   0.0  12.83     0  0.437  6.232  53.7  5.0141    5   \n",
      "424         425   8.79212   0.0  18.10     0  0.584  5.565  70.6  2.0635   24   \n",
      "..          ...       ...   ...    ...   ...    ...    ...   ...     ...  ...   \n",
      "255         256   0.03548  80.0   3.64     0  0.392  5.876  19.1  9.2203    1   \n",
      "72           73   0.09164   0.0  10.81     0  0.413  6.065   7.8  5.2873    4   \n",
      "396         397   5.87205   0.0  18.10     0  0.693  6.405  96.0  1.6768   24   \n",
      "235         236   0.33045   0.0   6.20     0  0.507  6.086  61.5  3.6519    8   \n",
      "37           38   0.08014   0.0   5.96     0  0.499  5.850  41.5  3.9342    5   \n",
      "\n",
      "     tax  ptratio   black  lstat  \n",
      "42   233     17.9  383.37   5.81  \n",
      "58   284     19.7  390.68   6.86  \n",
      "385  666     20.2  396.90  30.81  \n",
      "78   398     18.7  386.40  12.34  \n",
      "424  666     20.2    3.65  17.16  \n",
      "..   ...      ...     ...    ...  \n",
      "255  315     16.4  395.18   9.25  \n",
      "72   305     19.2  390.91   5.52  \n",
      "396  666     20.2  396.90  19.37  \n",
      "235  307     17.4  376.75  10.88  \n",
      "37   279     19.2  396.90   8.77  \n",
      "\n",
      "[404 rows x 14 columns]      medv\n",
      "42   25.3\n",
      "58   23.3\n",
      "385   7.2\n",
      "78   21.2\n",
      "424  11.7\n",
      "..    ...\n",
      "255  20.9\n",
      "72   22.8\n",
      "396  12.5\n",
      "235  24.0\n",
      "37   21.0\n",
      "\n",
      "[404 rows x 1 columns]\n",
      "Regression intercept [43.26611844]\n",
      "Regression Coeff [[-2.71728597e-03 -1.13467495e-01  6.06698110e-02  1.94615327e-02\n",
      "   2.15521819e+00 -1.94417972e+01  3.10684504e+00  2.29598919e-03\n",
      "  -1.52341710e+00  3.33528191e-01 -1.07372791e-02 -9.88932943e-01\n",
      "   7.30435224e-03 -5.47094906e-01]]\n",
      "Mean Absolute Error 3.7357095670940055\n",
      "Mean Squared Error 23.369625899561125\n",
      "Root mean squared error 4.834214093269052\n",
      "Rsquared 0.7635308791830631\n"
     ]
    }
   ],
   "source": [
    "x_data=pd.DataFrame(df_Boston.iloc[:,:-1])\n",
    "y_data=pd.DataFrame(df_Boston.iloc[:,-1])\n",
    "x_train,x_test,y_train,y_test=train_test_split(x_data,y_data,test_size=0.2,random_state=1)\n",
    "print(x_train,y_train)\n",
    "regressor=LinearRegression()\n",
    "regressor.fit(x_train,y_train)\n",
    "print(\"Regression intercept\",regressor.intercept_)  #C\n",
    "print(\"Regression Coeff\",regressor.coef_)  #M\n",
    "ypred=regressor.predict(x_test)\n",
    "ypred=pd.DataFrame(ypred,columns=['Predicted'])\n",
    "print(\"Mean Absolute Error\",metrics.mean_absolute_error(y_test,ypred))\n",
    "print(\"Mean Squared Error\",metrics.mean_squared_error(y_test,ypred))\n",
    "print(\"Root mean squared error\",math.sqrt(metrics.mean_squared_error(y_test,ypred)))\n",
    "print(\"Rsquared\",metrics.r2_score(y_test,ypred))"
   ]
  },
  {
   "cell_type": "code",
   "execution_count": null,
   "metadata": {},
   "outputs": [],
   "source": []
  }
 ],
 "metadata": {
  "kernelspec": {
   "display_name": "Python 3",
   "language": "python",
   "name": "python3"
  },
  "language_info": {
   "codemirror_mode": {
    "name": "ipython",
    "version": 3
   },
   "file_extension": ".py",
   "mimetype": "text/x-python",
   "name": "python",
   "nbconvert_exporter": "python",
   "pygments_lexer": "ipython3",
   "version": "3.8.5"
  }
 },
 "nbformat": 4,
 "nbformat_minor": 4
}
