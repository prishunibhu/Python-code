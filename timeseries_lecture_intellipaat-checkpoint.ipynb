{
 "cells": [
  {
   "cell_type": "code",
   "execution_count": 1,
   "id": "0b2cbde9",
   "metadata": {},
   "outputs": [
    {
     "name": "stdout",
     "output_type": "stream",
     "text": [
      "Collecting pmdarimaNote: you may need to restart the kernel to use updated packages.\n",
      "  Downloading pmdarima-1.8.3-cp38-cp38-win_amd64.whl (600 kB)\n",
      "Requirement already satisfied: scipy>=1.3.2 in c:\\users\\admin\\anaconda3\\lib\\site-packages (from pmdarima) (1.6.2)\n",
      "Requirement already satisfied: numpy>=1.19.3 in c:\\users\\admin\\anaconda3\\lib\\site-packages (from pmdarima) (1.20.1)\n",
      "Requirement already satisfied: setuptools!=50.0.0,>=38.6.0 in c:\\users\\admin\\anaconda3\\lib\\site-packages (from pmdarima) (52.0.0.post20210125)\n",
      "Requirement already satisfied: joblib>=0.11 in c:\\users\\admin\\anaconda3\\lib\\site-packages (from pmdarima) (1.0.1)\n",
      "Requirement already satisfied: statsmodels!=0.12.0,>=0.11 in c:\\users\\admin\\anaconda3\\lib\\site-packages (from pmdarima) (0.12.2)\n",
      "Requirement already satisfied: urllib3 in c:\\users\\admin\\anaconda3\\lib\\site-packages (from pmdarima) (1.26.4)\n",
      "Requirement already satisfied: scikit-learn>=0.22 in c:\\users\\admin\\anaconda3\\lib\\site-packages (from pmdarima) (0.24.1)\n",
      "Requirement already satisfied: Cython!=0.29.18,>=0.29 in c:\\users\\admin\\anaconda3\\lib\\site-packages (from pmdarima) (0.29.23)\n",
      "Requirement already satisfied: pandas>=0.19 in c:\\users\\admin\\anaconda3\\lib\\site-packages (from pmdarima) (1.2.4)\n",
      "Requirement already satisfied: pytz>=2017.3 in c:\\users\\admin\\anaconda3\\lib\\site-packages (from pandas>=0.19->pmdarima) (2021.1)\n",
      "Requirement already satisfied: python-dateutil>=2.7.3 in c:\\users\\admin\\anaconda3\\lib\\site-packages (from pandas>=0.19->pmdarima) (2.8.1)\n",
      "Requirement already satisfied: six>=1.5 in c:\\users\\admin\\anaconda3\\lib\\site-packages (from python-dateutil>=2.7.3->pandas>=0.19->pmdarima) (1.15.0)\n",
      "Requirement already satisfied: threadpoolctl>=2.0.0 in c:\\users\\admin\\anaconda3\\lib\\site-packages (from scikit-learn>=0.22->pmdarima) (2.1.0)\n",
      "Requirement already satisfied: patsy>=0.5 in c:\\users\\admin\\anaconda3\\lib\\site-packages (from statsmodels!=0.12.0,>=0.11->pmdarima) (0.5.1)\n",
      "Installing collected packages: pmdarima\n",
      "\n",
      "Successfully installed pmdarima-1.8.3\n"
     ]
    }
   ],
   "source": [
    "pip install pmdarima\n",
    "#helps us identify the most optimal p,d,q parameters \n",
    "#and return a fitted ARIMA model"
   ]
  },
  {
   "cell_type": "code",
   "execution_count": 33,
   "id": "990e5183",
   "metadata": {},
   "outputs": [],
   "source": [
    "#p is the number of autoregressive terms,\n",
    "#d is the number of nonseasonal differences needed for stationarity, and\n",
    "#q is the number of lagged forecast errors in the prediction equation."
   ]
  },
  {
   "cell_type": "code",
   "execution_count": null,
   "id": "a8f1f5f4",
   "metadata": {},
   "outputs": [],
   "source": [
    "#Stationary time series is when the mean and variance are constant over time.\n",
    "#It is easier to predict when the series is stationary.\n",
    "#Differencing is a method of transforming a non-stationary time series into a stationary one. "
   ]
  },
  {
   "cell_type": "code",
   "execution_count": null,
   "id": "daae8d3d",
   "metadata": {},
   "outputs": [],
   "source": [
    "#Lags of the stationarized series in the forecasting equation are called \"autoregressive\" terms,\n",
    "#lags of the forecast errors are called \"moving average\" terms, \n",
    "#and a time series which needs to be differenced to be made stationary is said to be an\n",
    "#\"integrated\" version of a stationary series."
   ]
  },
  {
   "cell_type": "code",
   "execution_count": 2,
   "id": "c0d8dbca",
   "metadata": {},
   "outputs": [],
   "source": [
    "import pandas as pd\n",
    "import numpy as np"
   ]
  },
  {
   "cell_type": "code",
   "execution_count": 34,
   "id": "06ff4cd7",
   "metadata": {},
   "outputs": [],
   "source": [
    "#Read Data\n",
    "\n",
    "\n",
    "#Q1. Load the Dataset  using Pandas library along with  needed formatting. \n",
    "#a. Check and remove the null Values.\n",
    "#b. Plot the needed feature."
   ]
  },
  {
   "cell_type": "code",
   "execution_count": 3,
   "id": "c86e6f44",
   "metadata": {},
   "outputs": [
    {
     "name": "stdout",
     "output_type": "stream",
     "text": [
      "Shape of data (1821, 5)\n"
     ]
    },
    {
     "data": {
      "text/html": [
       "<div>\n",
       "<style scoped>\n",
       "    .dataframe tbody tr th:only-of-type {\n",
       "        vertical-align: middle;\n",
       "    }\n",
       "\n",
       "    .dataframe tbody tr th {\n",
       "        vertical-align: top;\n",
       "    }\n",
       "\n",
       "    .dataframe thead th {\n",
       "        text-align: right;\n",
       "    }\n",
       "</style>\n",
       "<table border=\"1\" class=\"dataframe\">\n",
       "  <thead>\n",
       "    <tr style=\"text-align: right;\">\n",
       "      <th></th>\n",
       "      <th>MinTemp</th>\n",
       "      <th>MaxTemp</th>\n",
       "      <th>AvgTemp</th>\n",
       "      <th>Sunrise</th>\n",
       "      <th>Sunset</th>\n",
       "    </tr>\n",
       "    <tr>\n",
       "      <th>DATE</th>\n",
       "      <th></th>\n",
       "      <th></th>\n",
       "      <th></th>\n",
       "      <th></th>\n",
       "      <th></th>\n",
       "    </tr>\n",
       "  </thead>\n",
       "  <tbody>\n",
       "    <tr>\n",
       "      <th>2014-01-01</th>\n",
       "      <td>33.0</td>\n",
       "      <td>46.0</td>\n",
       "      <td>40.0</td>\n",
       "      <td>657</td>\n",
       "      <td>1756</td>\n",
       "    </tr>\n",
       "    <tr>\n",
       "      <th>2014-01-02</th>\n",
       "      <td>35.0</td>\n",
       "      <td>50.0</td>\n",
       "      <td>43.0</td>\n",
       "      <td>657</td>\n",
       "      <td>1756</td>\n",
       "    </tr>\n",
       "    <tr>\n",
       "      <th>2014-01-03</th>\n",
       "      <td>36.0</td>\n",
       "      <td>45.0</td>\n",
       "      <td>41.0</td>\n",
       "      <td>657</td>\n",
       "      <td>1757</td>\n",
       "    </tr>\n",
       "    <tr>\n",
       "      <th>2014-01-04</th>\n",
       "      <td>32.0</td>\n",
       "      <td>41.0</td>\n",
       "      <td>37.0</td>\n",
       "      <td>658</td>\n",
       "      <td>1757</td>\n",
       "    </tr>\n",
       "    <tr>\n",
       "      <th>2014-01-05</th>\n",
       "      <td>24.0</td>\n",
       "      <td>38.0</td>\n",
       "      <td>31.0</td>\n",
       "      <td>658</td>\n",
       "      <td>1758</td>\n",
       "    </tr>\n",
       "  </tbody>\n",
       "</table>\n",
       "</div>"
      ],
      "text/plain": [
       "            MinTemp  MaxTemp  AvgTemp  Sunrise  Sunset\n",
       "DATE                                                  \n",
       "2014-01-01     33.0     46.0     40.0      657    1756\n",
       "2014-01-02     35.0     50.0     43.0      657    1756\n",
       "2014-01-03     36.0     45.0     41.0      657    1757\n",
       "2014-01-04     32.0     41.0     37.0      658    1757\n",
       "2014-01-05     24.0     38.0     31.0      658    1758"
      ]
     },
     "execution_count": 3,
     "metadata": {},
     "output_type": "execute_result"
    }
   ],
   "source": [
    "df=pd.read_csv('MaunaLoaDailyTemps.csv',index_col='DATE',parse_dates=True)\n",
    "df=df.dropna()\n",
    "print('Shape of data',df.shape)\n",
    "df.head()"
   ]
  },
  {
   "cell_type": "code",
   "execution_count": 14,
   "id": "06a2787b",
   "metadata": {},
   "outputs": [],
   "source": [
    "#Plot Your Data"
   ]
  },
  {
   "cell_type": "code",
   "execution_count": 4,
   "id": "f22b5151",
   "metadata": {},
   "outputs": [
    {
     "data": {
      "text/plain": [
       "<AxesSubplot:xlabel='DATE'>"
      ]
     },
     "execution_count": 4,
     "metadata": {},
     "output_type": "execute_result"
    },
    {
     "data": {
      "image/png": "[encoded data removed]",
      "text/plain": [
       "<Figure size 864x360 with 1 Axes>"
      ]
     },
     "metadata": {
      "needs_background": "light"
     },
     "output_type": "display_data"
    }
   ],
   "source": [
    "df['AvgTemp'].plot(figsize=(12,5))"
   ]
  },
  {
   "cell_type": "code",
   "execution_count": 36,
   "id": "940bf8bf",
   "metadata": {},
   "outputs": [],
   "source": [
    "#Q2. Build  a function to check whether the given Data is Stationary or not.\n"
   ]
  },
  {
   "cell_type": "code",
   "execution_count": 15,
   "id": "ec9cb2da",
   "metadata": {},
   "outputs": [],
   "source": [
    "#Check For Stationarity"
   ]
  },
  {
   "cell_type": "code",
   "execution_count": 5,
   "id": "dd4bce7a",
   "metadata": {},
   "outputs": [],
   "source": [
    "from statsmodels.tsa.stattools import adfuller\n",
    "\n",
    "def adf_test(dataset):\n",
    "  dftest = adfuller(dataset, autolag = 'AIC')\n",
    "  print(\"1. ADF : \",dftest[0])\n",
    "  print(\"2. P-Value : \", dftest[1])\n",
    "  print(\"3. Num Of Lags : \", dftest[2])\n",
    "  print(\"4. Num Of Observations Used For ADF Regression and Critical Values Calculation :\", dftest[3])\n",
    "  print(\"5. Critical Values :\")\n",
    "  for key, val in dftest[4].items():\n",
    "      print(\"\\t\",key, \": \", val)"
   ]
  },
  {
   "cell_type": "code",
   "execution_count": 6,
   "id": "9fd27e4d",
   "metadata": {},
   "outputs": [
    {
     "name": "stdout",
     "output_type": "stream",
     "text": [
      "1. ADF :  -6.554680125068778\n",
      "2. P-Value :  8.675937480199557e-09\n",
      "3. Num Of Lags :  12\n",
      "4. Num Of Observations Used For ADF Regression and Critical Values Calculation : 1808\n",
      "5. Critical Values :\n",
      "\t 1% :  -3.433972018026501\n",
      "\t 5% :  -2.8631399192826676\n",
      "\t 10% :  -2.5676217442756872\n"
     ]
    }
   ],
   "source": [
    "adf_test(df['AvgTemp'])\n",
    "#p<0.05--->stationary"
   ]
  },
  {
   "cell_type": "code",
   "execution_count": 37,
   "id": "eb60ed61",
   "metadata": {},
   "outputs": [],
   "source": [
    "#Q3. Load the Required Package used for Implementing ARIMA.(Hint: pmdarima)\n",
    "from pmdarima import auto_arima\n",
    "# Ignore harmless warnings\n",
    "import warnings\n",
    "warnings.filterwarnings(\"ignore\")"
   ]
  },
  {
   "cell_type": "code",
   "execution_count": 16,
   "id": "831461f8",
   "metadata": {},
   "outputs": [],
   "source": [
    "#Figure Out Order for ARIMA Model\n",
    "\n",
    "#Q4.Identify the Best suit Model along with the Orders"
   ]
  },
  {
   "cell_type": "code",
   "execution_count": null,
   "id": "5bf0bbfe",
   "metadata": {},
   "outputs": [],
   "source": [
    "#p is the number of autoregressive terms,\n",
    "#d is the number of nonseasonal differences needed for stationarity, and\n",
    "#q is the number of lagged forecast errors in the prediction equation."
   ]
  },
  {
   "cell_type": "code",
   "execution_count": 39,
   "id": "2e5e2b10",
   "metadata": {},
   "outputs": [
    {
     "data": {
      "text/html": [
       "<table class=\"simpletable\">\n",
       "<caption>SARIMAX Results</caption>\n",
       "<tr>\n",
       "  <th>Dep. Variable:</th>           <td>y</td>        <th>  No. Observations:  </th>   <td>1821</td>   \n",
       "</tr>\n",
       "<tr>\n",
       "  <th>Model:</th>           <td>SARIMAX(1, 0, 5)</td> <th>  Log Likelihood     </th> <td>-4139.659</td>\n",
       "</tr>\n",
       "<tr>\n",
       "  <th>Date:</th>            <td>Sun, 31 Oct 2021</td> <th>  AIC                </th> <td>8295.317</td> \n",
       "</tr>\n",
       "<tr>\n",
       "  <th>Time:</th>                <td>19:31:54</td>     <th>  BIC                </th> <td>8339.374</td> \n",
       "</tr>\n",
       "<tr>\n",
       "  <th>Sample:</th>                  <td>0</td>        <th>  HQIC               </th> <td>8311.571</td> \n",
       "</tr>\n",
       "<tr>\n",
       "  <th></th>                      <td> - 1821</td>     <th>                     </th>     <td> </td>    \n",
       "</tr>\n",
       "<tr>\n",
       "  <th>Covariance Type:</th>        <td>opg</td>       <th>                     </th>     <td> </td>    \n",
       "</tr>\n",
       "</table>\n",
       "<table class=\"simpletable\">\n",
       "<tr>\n",
       "      <td></td>         <th>coef</th>     <th>std err</th>      <th>z</th>      <th>P>|z|</th>  <th>[0.025</th>    <th>0.975]</th>  \n",
       "</tr>\n",
       "<tr>\n",
       "  <th>intercept</th> <td>    1.2806</td> <td>    0.379</td> <td>    3.377</td> <td> 0.001</td> <td>    0.537</td> <td>    2.024</td>\n",
       "</tr>\n",
       "<tr>\n",
       "  <th>ar.L1</th>     <td>    0.9724</td> <td>    0.008</td> <td>  118.924</td> <td> 0.000</td> <td>    0.956</td> <td>    0.988</td>\n",
       "</tr>\n",
       "<tr>\n",
       "  <th>ma.L1</th>     <td>   -0.1261</td> <td>    0.024</td> <td>   -5.283</td> <td> 0.000</td> <td>   -0.173</td> <td>   -0.079</td>\n",
       "</tr>\n",
       "<tr>\n",
       "  <th>ma.L2</th>     <td>   -0.2194</td> <td>    0.024</td> <td>   -9.021</td> <td> 0.000</td> <td>   -0.267</td> <td>   -0.172</td>\n",
       "</tr>\n",
       "<tr>\n",
       "  <th>ma.L3</th>     <td>   -0.2015</td> <td>    0.024</td> <td>   -8.374</td> <td> 0.000</td> <td>   -0.249</td> <td>   -0.154</td>\n",
       "</tr>\n",
       "<tr>\n",
       "  <th>ma.L4</th>     <td>   -0.1352</td> <td>    0.023</td> <td>   -5.906</td> <td> 0.000</td> <td>   -0.180</td> <td>   -0.090</td>\n",
       "</tr>\n",
       "<tr>\n",
       "  <th>ma.L5</th>     <td>   -0.0493</td> <td>    0.024</td> <td>   -2.011</td> <td> 0.044</td> <td>   -0.097</td> <td>   -0.001</td>\n",
       "</tr>\n",
       "<tr>\n",
       "  <th>sigma2</th>    <td>    5.5157</td> <td>    0.173</td> <td>   31.847</td> <td> 0.000</td> <td>    5.176</td> <td>    5.855</td>\n",
       "</tr>\n",
       "</table>\n",
       "<table class=\"simpletable\">\n",
       "<tr>\n",
       "  <th>Ljung-Box (L1) (Q):</th>     <td>0.01</td> <th>  Jarque-Bera (JB):  </th> <td>20.90</td>\n",
       "</tr>\n",
       "<tr>\n",
       "  <th>Prob(Q):</th>                <td>0.94</td> <th>  Prob(JB):          </th> <td>0.00</td> \n",
       "</tr>\n",
       "<tr>\n",
       "  <th>Heteroskedasticity (H):</th> <td>0.81</td> <th>  Skew:              </th> <td>-0.17</td>\n",
       "</tr>\n",
       "<tr>\n",
       "  <th>Prob(H) (two-sided):</th>    <td>0.01</td> <th>  Kurtosis:          </th> <td>3.39</td> \n",
       "</tr>\n",
       "</table><br/><br/>Warnings:<br/>[1] Covariance matrix calculated using the outer product of gradients (complex-step)."
      ],
      "text/plain": [
       "<class 'statsmodels.iolib.summary.Summary'>\n",
       "\"\"\"\n",
       "                               SARIMAX Results                                \n",
       "==============================================================================\n",
       "Dep. Variable:                      y   No. Observations:                 1821\n",
       "Model:               SARIMAX(1, 0, 5)   Log Likelihood               -4139.659\n",
       "Date:                Sun, 31 Oct 2021   AIC                           8295.317\n",
       "Time:                        19:31:54   BIC                           8339.374\n",
       "Sample:                             0   HQIC                          8311.571\n",
       "                               - 1821                                         \n",
       "Covariance Type:                  opg                                         \n",
       "==============================================================================\n",
       "                 coef    std err          z      P>|z|      [0.025      0.975]\n",
       "------------------------------------------------------------------------------\n",
       "intercept      1.2806      0.379      3.377      0.001       0.537       2.024\n",
       "ar.L1          0.9724      0.008    118.924      0.000       0.956       0.988\n",
       "ma.L1         -0.1261      0.024     -5.283      0.000      -0.173      -0.079\n",
       "ma.L2         -0.2194      0.024     -9.021      0.000      -0.267      -0.172\n",
       "ma.L3         -0.2015      0.024     -8.374      0.000      -0.249      -0.154\n",
       "ma.L4         -0.1352      0.023     -5.906      0.000      -0.180      -0.090\n",
       "ma.L5         -0.0493      0.024     -2.011      0.044      -0.097      -0.001\n",
       "sigma2         5.5157      0.173     31.847      0.000       5.176       5.855\n",
       "===================================================================================\n",
       "Ljung-Box (L1) (Q):                   0.01   Jarque-Bera (JB):                20.90\n",
       "Prob(Q):                              0.94   Prob(JB):                         0.00\n",
       "Heteroskedasticity (H):               0.81   Skew:                            -0.17\n",
       "Prob(H) (two-sided):                  0.01   Kurtosis:                         3.39\n",
       "===================================================================================\n",
       "\n",
       "Warnings:\n",
       "[1] Covariance matrix calculated using the outer product of gradients (complex-step).\n",
       "\"\"\""
      ]
     },
     "execution_count": 39,
     "metadata": {},
     "output_type": "execute_result"
    }
   ],
   "source": [
    "stepwise_fit = auto_arima(df['AvgTemp'], suppress_warnings=True)           \n",
    "#to determine the best combination of parameters--->auto_arima-----p,d,q\n",
    "stepwise_fit.summary()\n",
    "#how many times AR,I,MA so we get best model\n",
    "\n",
    "#seasonality arima model\n",
    "#AIC---->score given to diffent arima  odels \n",
    "#best odel=low score"
   ]
  },
  {
   "cell_type": "code",
   "execution_count": 42,
   "id": "c2ad3bdd",
   "metadata": {},
   "outputs": [],
   "source": [
    "#Q5. Train Model\n",
    "#a. Split the Data in Training and Testing Datasets.\n",
    "#b. Fit the Model on top up Algorithm. \n",
    "#c. Perform Time Series forecasting with the help of Test dataset.\n",
    "#d. Plot the Prediction along with Actual values"
   ]
  },
  {
   "cell_type": "code",
   "execution_count": 12,
   "id": "d757772b",
   "metadata": {},
   "outputs": [],
   "source": [
    "from statsmodels.tsa.arima_model import ARIMA"
   ]
  },
  {
   "cell_type": "code",
   "execution_count": 17,
   "id": "fefeb113",
   "metadata": {},
   "outputs": [],
   "source": [
    "#Split Data into Training and Testing"
   ]
  },
  {
   "cell_type": "code",
   "execution_count": 18,
   "id": "448b9e1b",
   "metadata": {},
   "outputs": [
    {
     "name": "stdout",
     "output_type": "stream",
     "text": [
      "(1821, 5)\n",
      "(1791, 5) (30, 5)\n",
      "MinTemp      36.0\n",
      "MaxTemp      52.0\n",
      "AvgTemp      44.0\n",
      "Sunrise     640.0\n",
      "Sunset     1743.0\n",
      "Name: 2018-12-01 00:00:00, dtype: float64 MinTemp      39.0\n",
      "MaxTemp      52.0\n",
      "AvgTemp      46.0\n",
      "Sunrise     656.0\n",
      "Sunset     1754.0\n",
      "Name: 2018-12-30 00:00:00, dtype: float64\n"
     ]
    }
   ],
   "source": [
    "print(df.shape)\n",
    "train=df.iloc[:-30]\n",
    "test=df.iloc[-30:]\n",
    "print(train.shape,test.shape)\n",
    "print(test.iloc[0],test.iloc[-1])"
   ]
  },
  {
   "cell_type": "code",
   "execution_count": 19,
   "id": "7fd62895",
   "metadata": {},
   "outputs": [],
   "source": [
    "#Train the Model"
   ]
  },
  {
   "cell_type": "code",
   "execution_count": 20,
   "id": "5bd0ad0d",
   "metadata": {},
   "outputs": [
    {
     "data": {
      "text/html": [
       "<table class=\"simpletable\">\n",
       "<caption>ARMA Model Results</caption>\n",
       "<tr>\n",
       "  <th>Dep. Variable:</th>      <td>AvgTemp</td>     <th>  No. Observations:  </th>   <td>1791</td>   \n",
       "</tr>\n",
       "<tr>\n",
       "  <th>Model:</th>            <td>ARMA(1, 5)</td>    <th>  Log Likelihood     </th> <td>-4070.198</td>\n",
       "</tr>\n",
       "<tr>\n",
       "  <th>Method:</th>             <td>css-mle</td>     <th>  S.D. of innovations</th>   <td>2.347</td>  \n",
       "</tr>\n",
       "<tr>\n",
       "  <th>Date:</th>          <td>Sun, 31 Oct 2021</td> <th>  AIC                </th> <td>8156.395</td> \n",
       "</tr>\n",
       "<tr>\n",
       "  <th>Time:</th>              <td>18:39:44</td>     <th>  BIC                </th> <td>8200.320</td> \n",
       "</tr>\n",
       "<tr>\n",
       "  <th>Sample:</th>                <td>0</td>        <th>  HQIC               </th> <td>8172.614</td> \n",
       "</tr>\n",
       "<tr>\n",
       "  <th></th>                       <td> </td>        <th>                     </th>     <td> </td>    \n",
       "</tr>\n",
       "</table>\n",
       "<table class=\"simpletable\">\n",
       "<tr>\n",
       "        <td></td>           <th>coef</th>     <th>std err</th>      <th>z</th>      <th>P>|z|</th>  <th>[0.025</th>    <th>0.975]</th>  \n",
       "</tr>\n",
       "<tr>\n",
       "  <th>const</th>         <td>   46.5857</td> <td>    0.785</td> <td>   59.355</td> <td> 0.000</td> <td>   45.047</td> <td>   48.124</td>\n",
       "</tr>\n",
       "<tr>\n",
       "  <th>ar.L1.AvgTemp</th> <td>    0.9856</td> <td>    0.007</td> <td>  150.630</td> <td> 0.000</td> <td>    0.973</td> <td>    0.998</td>\n",
       "</tr>\n",
       "<tr>\n",
       "  <th>ma.L1.AvgTemp</th> <td>   -0.1412</td> <td>    0.025</td> <td>   -5.735</td> <td> 0.000</td> <td>   -0.190</td> <td>   -0.093</td>\n",
       "</tr>\n",
       "<tr>\n",
       "  <th>ma.L2.AvgTemp</th> <td>   -0.2268</td> <td>    0.024</td> <td>   -9.295</td> <td> 0.000</td> <td>   -0.275</td> <td>   -0.179</td>\n",
       "</tr>\n",
       "<tr>\n",
       "  <th>ma.L3.AvgTemp</th> <td>   -0.2168</td> <td>    0.026</td> <td>   -8.416</td> <td> 0.000</td> <td>   -0.267</td> <td>   -0.166</td>\n",
       "</tr>\n",
       "<tr>\n",
       "  <th>ma.L4.AvgTemp</th> <td>   -0.1479</td> <td>    0.023</td> <td>   -6.300</td> <td> 0.000</td> <td>   -0.194</td> <td>   -0.102</td>\n",
       "</tr>\n",
       "<tr>\n",
       "  <th>ma.L5.AvgTemp</th> <td>   -0.0594</td> <td>    0.025</td> <td>   -2.411</td> <td> 0.016</td> <td>   -0.108</td> <td>   -0.011</td>\n",
       "</tr>\n",
       "</table>\n",
       "<table class=\"simpletable\">\n",
       "<caption>Roots</caption>\n",
       "<tr>\n",
       "    <td></td>   <th>            Real</th>  <th>         Imaginary</th> <th>         Modulus</th>  <th>        Frequency</th>\n",
       "</tr>\n",
       "<tr>\n",
       "  <th>AR.1</th> <td>           1.0146</td> <td>          +0.0000j</td> <td>           1.0146</td> <td>           0.0000</td>\n",
       "</tr>\n",
       "<tr>\n",
       "  <th>MA.1</th> <td>           1.0883</td> <td>          -0.0000j</td> <td>           1.0883</td> <td>          -0.0000</td>\n",
       "</tr>\n",
       "<tr>\n",
       "  <th>MA.2</th> <td>           0.0555</td> <td>          -1.8423j</td> <td>           1.8431</td> <td>          -0.2452</td>\n",
       "</tr>\n",
       "<tr>\n",
       "  <th>MA.3</th> <td>           0.0555</td> <td>          +1.8423j</td> <td>           1.8431</td> <td>           0.2452</td>\n",
       "</tr>\n",
       "<tr>\n",
       "  <th>MA.4</th> <td>          -1.8432</td> <td>          -1.0734j</td> <td>           2.1330</td> <td>          -0.4161</td>\n",
       "</tr>\n",
       "<tr>\n",
       "  <th>MA.5</th> <td>          -1.8432</td> <td>          +1.0734j</td> <td>           2.1330</td> <td>           0.4161</td>\n",
       "</tr>\n",
       "</table>"
      ],
      "text/plain": [
       "<class 'statsmodels.iolib.summary.Summary'>\n",
       "\"\"\"\n",
       "                              ARMA Model Results                              \n",
       "==============================================================================\n",
       "Dep. Variable:                AvgTemp   No. Observations:                 1791\n",
       "Model:                     ARMA(1, 5)   Log Likelihood               -4070.198\n",
       "Method:                       css-mle   S.D. of innovations              2.347\n",
       "Date:                Sun, 31 Oct 2021   AIC                           8156.395\n",
       "Time:                        18:39:44   BIC                           8200.320\n",
       "Sample:                             0   HQIC                          8172.614\n",
       "                                                                              \n",
       "=================================================================================\n",
       "                    coef    std err          z      P>|z|      [0.025      0.975]\n",
       "---------------------------------------------------------------------------------\n",
       "const            46.5857      0.785     59.355      0.000      45.047      48.124\n",
       "ar.L1.AvgTemp     0.9856      0.007    150.630      0.000       0.973       0.998\n",
       "ma.L1.AvgTemp    -0.1412      0.025     -5.735      0.000      -0.190      -0.093\n",
       "ma.L2.AvgTemp    -0.2268      0.024     -9.295      0.000      -0.275      -0.179\n",
       "ma.L3.AvgTemp    -0.2168      0.026     -8.416      0.000      -0.267      -0.166\n",
       "ma.L4.AvgTemp    -0.1479      0.023     -6.300      0.000      -0.194      -0.102\n",
       "ma.L5.AvgTemp    -0.0594      0.025     -2.411      0.016      -0.108      -0.011\n",
       "                                    Roots                                    \n",
       "=============================================================================\n",
       "                  Real          Imaginary           Modulus         Frequency\n",
       "-----------------------------------------------------------------------------\n",
       "AR.1            1.0146           +0.0000j            1.0146            0.0000\n",
       "MA.1            1.0883           -0.0000j            1.0883           -0.0000\n",
       "MA.2            0.0555           -1.8423j            1.8431           -0.2452\n",
       "MA.3            0.0555           +1.8423j            1.8431            0.2452\n",
       "MA.4           -1.8432           -1.0734j            2.1330           -0.4161\n",
       "MA.5           -1.8432           +1.0734j            2.1330            0.4161\n",
       "-----------------------------------------------------------------------------\n",
       "\"\"\""
      ]
     },
     "execution_count": 20,
     "metadata": {},
     "output_type": "execute_result"
    }
   ],
   "source": [
    "from statsmodels.tsa.arima_model import ARIMA\n",
    "model=ARIMA(train['AvgTemp'],order=(1,0,5))\n",
    "model=model.fit()\n",
    "model.summary()"
   ]
  },
  {
   "cell_type": "code",
   "execution_count": 21,
   "id": "4862e65e",
   "metadata": {},
   "outputs": [],
   "source": [
    "#Make Predictions on Test Set"
   ]
  },
  {
   "cell_type": "code",
   "execution_count": 25,
   "id": "b77f2134",
   "metadata": {},
   "outputs": [
    {
     "data": {
      "text/plain": [
       "<AxesSubplot:xlabel='DATE'>"
      ]
     },
     "execution_count": 25,
     "metadata": {},
     "output_type": "execute_result"
    },
    {
     "data": {
      "image/png": "[encoded data removed]",
      "text/plain": [
       "<Figure size 432x288 with 1 Axes>"
      ]
     },
     "metadata": {
      "needs_background": "light"
     },
     "output_type": "display_data"
    }
   ],
   "source": [
    "start=len(train)\n",
    "end=len(train)+len(test)-1\n",
    "#if the predicted values dont have date values as index, you will have to uncomment the following two commented lines to plot a graph\n",
    "index_future_dates=pd.date_range(start='2018-12-01',end='2018-12-30')\n",
    "pred=model.predict(start=start,end=end,typ='levels').rename('ARIMA predictions')\n",
    "pred.index=index_future_dates\n",
    "pred.plot(legend=True)\n",
    "test['AvgTemp'].plot(legend=True)"
   ]
  },
  {
   "cell_type": "code",
   "execution_count": 26,
   "id": "d7772c2a",
   "metadata": {},
   "outputs": [
    {
     "data": {
      "text/plain": [
       "<AxesSubplot:xlabel='DATE'>"
      ]
     },
     "execution_count": 26,
     "metadata": {},
     "output_type": "execute_result"
    },
    {
     "data": {
      "image/png": "[encoded data removed]",
      "text/plain": [
       "<Figure size 432x288 with 1 Axes>"
      ]
     },
     "metadata": {
      "needs_background": "light"
     },
     "output_type": "display_data"
    }
   ],
   "source": [
    "pred.plot(legend='ARIMA Predictions')\n",
    "test['AvgTemp'].plot(legend=True)"
   ]
  },
  {
   "cell_type": "code",
   "execution_count": 27,
   "id": "594a23f7",
   "metadata": {},
   "outputs": [
    {
     "data": {
      "text/plain": [
       "45.0"
      ]
     },
     "execution_count": 27,
     "metadata": {},
     "output_type": "execute_result"
    }
   ],
   "source": [
    "test['AvgTemp'].mean()"
   ]
  },
  {
   "cell_type": "code",
   "execution_count": 41,
   "id": "cdbb51ac",
   "metadata": {},
   "outputs": [],
   "source": [
    "#Q6. Check the RMSE to compare the Efficiency of the Model.\n",
    "\n",
    "#rmse<5\n",
    "#1.train test\n",
    "#2. forecast"
   ]
  },
  {
   "cell_type": "code",
   "execution_count": 28,
   "id": "025fde94",
   "metadata": {},
   "outputs": [
    {
     "name": "stdout",
     "output_type": "stream",
     "text": [
      "3.0004976423656977\n"
     ]
    }
   ],
   "source": [
    "from sklearn.metrics import mean_squared_error\n",
    "from math import sqrt\n",
    "rmse=sqrt(mean_squared_error(pred,test['AvgTemp']))\n",
    "print(rmse)\n"
   ]
  },
  {
   "cell_type": "code",
   "execution_count": 29,
   "id": "f09f2b6f",
   "metadata": {},
   "outputs": [
    {
     "data": {
      "text/html": [
       "<div>\n",
       "<style scoped>\n",
       "    .dataframe tbody tr th:only-of-type {\n",
       "        vertical-align: middle;\n",
       "    }\n",
       "\n",
       "    .dataframe tbody tr th {\n",
       "        vertical-align: top;\n",
       "    }\n",
       "\n",
       "    .dataframe thead th {\n",
       "        text-align: right;\n",
       "    }\n",
       "</style>\n",
       "<table border=\"1\" class=\"dataframe\">\n",
       "  <thead>\n",
       "    <tr style=\"text-align: right;\">\n",
       "      <th></th>\n",
       "      <th>MinTemp</th>\n",
       "      <th>MaxTemp</th>\n",
       "      <th>AvgTemp</th>\n",
       "      <th>Sunrise</th>\n",
       "      <th>Sunset</th>\n",
       "    </tr>\n",
       "    <tr>\n",
       "      <th>DATE</th>\n",
       "      <th></th>\n",
       "      <th></th>\n",
       "      <th></th>\n",
       "      <th></th>\n",
       "      <th></th>\n",
       "    </tr>\n",
       "  </thead>\n",
       "  <tbody>\n",
       "    <tr>\n",
       "      <th>2018-12-26</th>\n",
       "      <td>35.0</td>\n",
       "      <td>45.0</td>\n",
       "      <td>40.0</td>\n",
       "      <td>654</td>\n",
       "      <td>1752</td>\n",
       "    </tr>\n",
       "    <tr>\n",
       "      <th>2018-12-27</th>\n",
       "      <td>33.0</td>\n",
       "      <td>44.0</td>\n",
       "      <td>39.0</td>\n",
       "      <td>655</td>\n",
       "      <td>1752</td>\n",
       "    </tr>\n",
       "    <tr>\n",
       "      <th>2018-12-28</th>\n",
       "      <td>33.0</td>\n",
       "      <td>47.0</td>\n",
       "      <td>40.0</td>\n",
       "      <td>655</td>\n",
       "      <td>1753</td>\n",
       "    </tr>\n",
       "    <tr>\n",
       "      <th>2018-12-29</th>\n",
       "      <td>36.0</td>\n",
       "      <td>47.0</td>\n",
       "      <td>42.0</td>\n",
       "      <td>655</td>\n",
       "      <td>1753</td>\n",
       "    </tr>\n",
       "    <tr>\n",
       "      <th>2018-12-30</th>\n",
       "      <td>39.0</td>\n",
       "      <td>52.0</td>\n",
       "      <td>46.0</td>\n",
       "      <td>656</td>\n",
       "      <td>1754</td>\n",
       "    </tr>\n",
       "  </tbody>\n",
       "</table>\n",
       "</div>"
      ],
      "text/plain": [
       "            MinTemp  MaxTemp  AvgTemp  Sunrise  Sunset\n",
       "DATE                                                  \n",
       "2018-12-26     35.0     45.0     40.0      654    1752\n",
       "2018-12-27     33.0     44.0     39.0      655    1752\n",
       "2018-12-28     33.0     47.0     40.0      655    1753\n",
       "2018-12-29     36.0     47.0     42.0      655    1753\n",
       "2018-12-30     39.0     52.0     46.0      656    1754"
      ]
     },
     "execution_count": 29,
     "metadata": {},
     "output_type": "execute_result"
    }
   ],
   "source": [
    "model2=ARIMA(df['AvgTemp'],order=(1,0,5))\n",
    "model2=model2.fit()\n",
    "df.tail()"
   ]
  },
  {
   "cell_type": "code",
   "execution_count": 30,
   "id": "be7323cc",
   "metadata": {},
   "outputs": [],
   "source": [
    "#For Future Dates\n",
    "\n",
    "#Q7. Perform Time Series Forecasting and try to Forecast the Average Temperature for Next 30 days."
   ]
  },
  {
   "cell_type": "code",
   "execution_count": 31,
   "id": "a661ca8c",
   "metadata": {},
   "outputs": [
    {
     "name": "stdout",
     "output_type": "stream",
     "text": [
      "2018-12-30    46.418067\n",
      "2018-12-31    46.113788\n",
      "2019-01-01    45.617779\n",
      "2019-01-02    45.249564\n",
      "2019-01-03    45.116994\n",
      "2019-01-04    45.136781\n",
      "2019-01-05    45.156291\n",
      "2019-01-06    45.175528\n",
      "2019-01-07    45.194495\n",
      "2019-01-08    45.213196\n",
      "2019-01-09    45.231636\n",
      "2019-01-10    45.249817\n",
      "2019-01-11    45.267743\n",
      "2019-01-12    45.285418\n",
      "2019-01-13    45.302846\n",
      "2019-01-14    45.320030\n",
      "2019-01-15    45.336972\n",
      "2019-01-16    45.353678\n",
      "2019-01-17    45.370149\n",
      "2019-01-18    45.386390\n",
      "2019-01-19    45.402403\n",
      "2019-01-20    45.418191\n",
      "2019-01-21    45.433759\n",
      "2019-01-22    45.449108\n",
      "2019-01-23    45.464243\n",
      "2019-01-24    45.479165\n",
      "2019-01-25    45.493879\n",
      "2019-01-26    45.508386\n",
      "2019-01-27    45.522690\n",
      "2019-01-28    45.536793\n",
      "2019-01-29    45.550699\n",
      "Freq: D, Name: ARIMA Predictions, dtype: float64\n"
     ]
    }
   ],
   "source": [
    "index_future_dates=pd.date_range(start='2018-12-30',end='2019-01-29')\n",
    "#print(index_future_dates)\n",
    "pred=model2.predict(start=len(df),end=len(df)+30,typ='levels').rename('ARIMA Predictions')\n",
    "#print(comp_pred)\n",
    "pred.index=index_future_dates\n",
    "print(pred)"
   ]
  },
  {
   "cell_type": "code",
   "execution_count": 32,
   "id": "fe39f7a3",
   "metadata": {},
   "outputs": [
    {
     "data": {
      "text/plain": [
       "<AxesSubplot:>"
      ]
     },
     "execution_count": 32,
     "metadata": {},
     "output_type": "execute_result"
    },
    {
     "data": {
      "image/png": "[encoded data removed]",
      "text/plain": [
       "<Figure size 864x360 with 1 Axes>"
      ]
     },
     "metadata": {
      "needs_background": "light"
     },
     "output_type": "display_data"
    }
   ],
   "source": [
    "pred.plot(figsize=(12,5),legend=True)"
   ]
  },
  {
   "cell_type": "code",
   "execution_count": null,
   "id": "ad66cec6",
   "metadata": {},
   "outputs": [],
   "source": []
  }
 ],
 "metadata": {
  "kernelspec": {
   "display_name": "Python 3",
   "language": "python",
   "name": "python3"
  },
  "language_info": {
   "codemirror_mode": {
    "name": "ipython",
    "version": 3
   },
   "file_extension": ".py",
   "mimetype": "text/x-python",
   "name": "python",
   "nbconvert_exporter": "python",
   "pygments_lexer": "ipython3",
   "version": "3.8.8"
  }
 },
 "nbformat": 4,
 "nbformat_minor": 5
}
