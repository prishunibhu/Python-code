{
 "cells": [
  {
   "cell_type": "code",
   "execution_count": 51,
   "metadata": {},
   "outputs": [],
   "source": [
    "\n",
    "    \n",
    "Ensemble of trees.\n",
    "\n",
    "Ensemble average: I have L learning set and M is a model. I predict different learning sets(L1,L2,L3..) on diff models(M1,M2,M3..)\n",
    "    \n",
    "Then my ensemble average = average of the bias variance of the each model/learning.\n",
    "\n",
    "poor methods results will increase the bias. Therefore , I can have a control on the methods I choose.\n",
    "\n",
    "variance = variance tends to 0 when the M tends to infinity and also the methods must not be co related to one another.\n",
    "\n",
    "worst case of ensemble method = if all methods are highly co related, then it is a problem\n",
    "\n",
    "Requirement for ensemble\n",
    "\n",
    "* classifiers must be accurate(error is small) and diverse(different error rate by each classifier)\n",
    "\n",
    "* no 2 classifiers should give same error.\n",
    "\n",
    "Ensemble fails:\n",
    "    \n",
    "when base model is wrong. high bias on train model\n",
    "\n",
    "when every ensemble gives same error\n",
    "\n",
    "\n",
    "Bagging:\n",
    "\n",
    "    It is also called bootstrap aggregation. sample with replacement. Key idea is to reduce errors.\n",
    "    \n",
    "We take many strong learners and combine them to reduce variance\n",
    "\n",
    "Boosting : we take weak learners and combine them to reduce bias\n",
    "    \n",
    "            learners are incrementally built.\n",
    "\n",
    "Ada boost :\n",
    "    \n",
    "This is a technique where we assign weights to each prediction. Whenever it is predicted correct, the weight reduces and \n",
    "predicted wrong it increases weight.\n",
    "\n",
    "The intent is to reduce to weights and help in correct predictions and reduce errorss\n",
    "\n",
    "Randome Forest: Ensemble of decision trees with each tree having different feature and diff depth.\n",
    "\n",
    "Feature importance must be calculated using impurity function(IG/Gini index)\n",
    "\n",
    "They are combined together using bagging/boosting algos.\n",
    "\n",
    "PErformance measure calculations for ensemble:\n",
    "\n",
    "*accuracy score\n",
    "    \n",
    "*weighted accuracy\n",
    "\n",
    "* lift\n",
    "\n",
    "* precision\n",
    "\n",
    "* ROC - Region of characteristics\n",
    "\n",
    "problems with accuracy score - it computes type1 error and type 2 error in same fashion.fixing the base accuracy rate is \n",
    "difficult.\n",
    "\n",
    "weightage is given for each category and weighted accuracy is computed\n",
    "\n",
    "Lift = % positives > threshold / % dataset > threshold. used in marketing to project the lift is predictions.\n",
    "\n",
    "lift = a/(a+b)/(a+c)/(a+b+c+d)\n",
    "\n",
    "precision = a/a+c\n",
    "\n",
    "recall= a/a+b\n",
    "\n",
    "f= 2*(precision * recall )/(precision + recall)\n",
    "\n",
    "break even point = precision = recall\n",
    "\n",
    "ROC plot and ROC area:\n",
    "    \n",
    "to find false postive (type 1 ) and false negative(type 2)\n",
    "\n",
    "It is a plot between false positive and true positive.\n",
    "\n",
    "ROC should be closee to 1 for model to be good."
   ]
  },
  {
   "cell_type": "code",
   "execution_count": null,
   "metadata": {},
   "outputs": [],
   "source": [
    "import pandas as pd\n",
    "import numpy as np\n",
    "import matplotlib.pyplot as plt\n",
    "from sklearn.metrics import *\n",
    "from sklearn.svm import *\n",
    "from sklearn import datasets\n",
    "from sklearn.model_selection import train_test_split\n",
    "from sklearn.ensemble import RandomForestClassifier\n",
    "import seaborn as sns"
   ]
  },
  {
   "cell_type": "code",
   "execution_count": 17,
   "metadata": {},
   "outputs": [
    {
     "name": "stdout",
     "output_type": "stream",
     "text": [
      "['setosa' 'versicolor' 'virginica']\n",
      "['sepal length (cm)', 'sepal width (cm)', 'petal length (cm)', 'petal width (cm)']\n"
     ]
    }
   ],
   "source": [
    "Iris=datasets.load_iris()\n",
    "print(Iris.target_names)\n",
    "print(Iris.feature_names)"
   ]
  },
  {
   "cell_type": "code",
   "execution_count": 23,
   "metadata": {},
   "outputs": [
    {
     "data": {
      "text/html": [
       "<div>\n",
       "<style scoped>\n",
       "    .dataframe tbody tr th:only-of-type {\n",
       "        vertical-align: middle;\n",
       "    }\n",
       "\n",
       "    .dataframe tbody tr th {\n",
       "        vertical-align: top;\n",
       "    }\n",
       "\n",
       "    .dataframe thead th {\n",
       "        text-align: right;\n",
       "    }\n",
       "</style>\n",
       "<table border=\"1\" class=\"dataframe\">\n",
       "  <thead>\n",
       "    <tr style=\"text-align: right;\">\n",
       "      <th></th>\n",
       "      <th>sepal_length</th>\n",
       "      <th>sepal_width</th>\n",
       "      <th>petal_length</th>\n",
       "      <th>petal_width</th>\n",
       "      <th>category</th>\n",
       "    </tr>\n",
       "  </thead>\n",
       "  <tbody>\n",
       "    <tr>\n",
       "      <th>0</th>\n",
       "      <td>5.1</td>\n",
       "      <td>3.5</td>\n",
       "      <td>1.4</td>\n",
       "      <td>0.2</td>\n",
       "      <td>0</td>\n",
       "    </tr>\n",
       "    <tr>\n",
       "      <th>1</th>\n",
       "      <td>4.9</td>\n",
       "      <td>3.0</td>\n",
       "      <td>1.4</td>\n",
       "      <td>0.2</td>\n",
       "      <td>0</td>\n",
       "    </tr>\n",
       "    <tr>\n",
       "      <th>2</th>\n",
       "      <td>4.7</td>\n",
       "      <td>3.2</td>\n",
       "      <td>1.3</td>\n",
       "      <td>0.2</td>\n",
       "      <td>0</td>\n",
       "    </tr>\n",
       "    <tr>\n",
       "      <th>3</th>\n",
       "      <td>4.6</td>\n",
       "      <td>3.1</td>\n",
       "      <td>1.5</td>\n",
       "      <td>0.2</td>\n",
       "      <td>0</td>\n",
       "    </tr>\n",
       "    <tr>\n",
       "      <th>4</th>\n",
       "      <td>5.0</td>\n",
       "      <td>3.6</td>\n",
       "      <td>1.4</td>\n",
       "      <td>0.2</td>\n",
       "      <td>0</td>\n",
       "    </tr>\n",
       "  </tbody>\n",
       "</table>\n",
       "</div>"
      ],
      "text/plain": [
       "   sepal_length  sepal_width  petal_length  petal_width  category\n",
       "0           5.1          3.5           1.4          0.2         0\n",
       "1           4.9          3.0           1.4          0.2         0\n",
       "2           4.7          3.2           1.3          0.2         0\n",
       "3           4.6          3.1           1.5          0.2         0\n",
       "4           5.0          3.6           1.4          0.2         0"
      ]
     },
     "execution_count": 23,
     "metadata": {},
     "output_type": "execute_result"
    }
   ],
   "source": [
    "df_Iris=pd.DataFrame({\n",
    "    'sepal_length' : Iris.data[:,0],\n",
    "    'sepal_width' : Iris.data[:,1],\n",
    "    'petal_length' : Iris.data[:,2],\n",
    "    'petal_width' : Iris.data[:,3],\n",
    "    'category' : Iris.target\n",
    "})\n",
    "\n",
    "df_Iris.head()\n"
   ]
  },
  {
   "cell_type": "code",
   "execution_count": 28,
   "metadata": {},
   "outputs": [],
   "source": [
    "x=df_Iris.iloc[:,:4]\n",
    "y=df_Iris.iloc[:,4]\n",
    "x_train,x_test,y_train,y_test=train_test_split(x,y,test_size=0.3,random_state=2)\n"
   ]
  },
  {
   "cell_type": "code",
   "execution_count": 56,
   "metadata": {},
   "outputs": [
    {
     "name": "stdout",
     "output_type": "stream",
     "text": [
      "0.9777777777777777\n",
      "[[17  0  0]\n",
      " [ 0 14  1]\n",
      " [ 0  0 13]]\n",
      "petal width (cm)     0.477594\n",
      "petal length (cm)    0.396622\n",
      "sepal length (cm)    0.083410\n",
      "sepal width (cm)     0.042374\n",
      "dtype: float64\n"
     ]
    }
   ],
   "source": [
    "rd_class= RandomForestClassifier(n_estimators=100)\n",
    "rd_class.fit(x_train,y_train)\n",
    "y_pred=rd_class.predict(x_test)\n",
    "score=accuracy_score(y_test,y_pred)\n",
    "print(score)\n",
    "print(confusion_matrix(y_test,y_pred))\n",
    "feature_imp = pd.Series(rd_class.feature_importances_,index=Iris.feature_names).sort_values(ascending=False)\n",
    "print(feature_imp)"
   ]
  },
  {
   "cell_type": "code",
   "execution_count": 61,
   "metadata": {},
   "outputs": [
    {
     "data": {
      "text/plain": [
       "<AxesSubplot:>"
      ]
     },
     "execution_count": 61,
     "metadata": {},
     "output_type": "execute_result"
    },
    {
     "data": {
      "image/png": "[encoded data removed]",
      "text/plain": [
       "<Figure size 432x288 with 1 Axes>"
      ]
     },
     "metadata": {
      "needs_background": "light"
     },
     "output_type": "display_data"
    }
   ],
   "source": [
    "sns.barplot(x=feature_imp,y=feature_imp.index)"
   ]
  }
 ],
 "metadata": {
  "kernelspec": {
   "display_name": "Python 3",
   "language": "python",
   "name": "python3"
  },
  "language_info": {
   "codemirror_mode": {
    "name": "ipython",
    "version": 3
   },
   "file_extension": ".py",
   "mimetype": "text/x-python",
   "name": "python",
   "nbconvert_exporter": "python",
   "pygments_lexer": "ipython3",
   "version": "3.8.5"
  }
 },
 "nbformat": 4,
 "nbformat_minor": 4
}
