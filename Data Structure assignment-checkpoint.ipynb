{
 "cells": [
  {
   "cell_type": "code",
   "execution_count": 4,
   "metadata": {},
   "outputs": [
    {
     "name": "stdout",
     "output_type": "stream",
     "text": [
      "[10, 20, 30, 'Apple', True, 8.1, 30, 40]\n",
      "[40, 30, 8.1, True, 'Apple', 30, 20, 10]\n"
     ]
    }
   ],
   "source": [
    "#Assignment 1\n",
    "my_list=[10,20,30,\"Apple\",True,8.10]\n",
    "my_list.append(30)\n",
    "my_list.append(40)\n",
    "print(my_list)\n",
    "my_list.reverse() #this cannot be assigned to a new variable\n",
    "print(my_list)\n",
    "#reversed_list=[]\n",
    "#for i in range(len(my_list)-1,-1,-1):\n",
    "#    reversed_list.append(my_list[i])\n",
    "#print(reversed_list)\n",
    "    \n",
    "    "
   ]
  },
  {
   "cell_type": "code",
   "execution_count": 32,
   "metadata": {},
   "outputs": [
    {
     "name": "stdout",
     "output_type": "stream",
     "text": [
      "[1, 2, 3]\n",
      "{1: 'data', 2: 'information'}\n",
      "{1: 'data', 2: 'information', 4: 'Features'}\n",
      "data\n"
     ]
    }
   ],
   "source": [
    "#Assignment 2\n",
    "\n",
    "dict1={1:\"data\",2:\"information\",3:\"Text\"}\n",
    "list1 =list(dict1.keys())\n",
    "list2=dict1.values()\n",
    "print(list1)\n",
    "for i in list1:\n",
    "    if dict1[i] == \"Text\":\n",
    "        dict1.pop(i)\n",
    "print(dict1)\n",
    "\n",
    "dict1[4]=\"Features\"\n",
    "print(dict1)\n",
    "list1 =list(dict1.keys())\n",
    "for i in list1:\n",
    "    if dict1[i] == \"data\":\n",
    "        print(dict1[i])\n"
   ]
  },
  {
   "cell_type": "code",
   "execution_count": 36,
   "metadata": {},
   "outputs": [
    {
     "name": "stdout",
     "output_type": "stream",
     "text": [
      "10\n",
      "(1, 2, 3, 'apple', 'mango', 10, 20, 30, 40, 50)\n",
      "(1, 2, 3, 'apple', 'mango', 1, 2, 3, 'apple', 'mango')\n"
     ]
    }
   ],
   "source": [
    "#assignment 3\n",
    "\n",
    "t1=(1,2,3,\"apple\",\"mango\")\n",
    "t2=(10,20,30,40,50)\n",
    "mini =min(t2)\n",
    "r1=t1+t2\n",
    "newdupli = t1*2\n",
    "print(mini)\n",
    "print(r1)\n",
    "print(newdupli)"
   ]
  },
  {
   "cell_type": "code",
   "execution_count": 40,
   "metadata": {},
   "outputs": [
    {
     "name": "stdout",
     "output_type": "stream",
     "text": [
      "{1, 2, 3, 4, 5, 6, 7}\n",
      "{1, 2, 3}\n",
      "{4, 5}\n"
     ]
    }
   ],
   "source": [
    "#assignment 5\n",
    "\n",
    "set1={1,2,3,4,5}\n",
    "set2={2,3,7,6,1}\n",
    "\n",
    "s3= set1.union(set2)\n",
    "print(s3)\n",
    "s4= set1.intersection(set2)\n",
    "print(s4)\n",
    "s5= set1- set2\n",
    "print(s5)"
   ]
  },
  {
   "cell_type": "markdown",
   "metadata": {},
   "source": [
    "# MODULE 2\n"
   ]
  },
  {
   "cell_type": "code",
   "execution_count": 4,
   "metadata": {},
   "outputs": [
    {
     "name": "stdout",
     "output_type": "stream",
     "text": [
      "(10, 20, 30, 40, 50, 60)\n",
      "20\n",
      "(10, 20, 30)\n",
      "(40, 50, 60)\n"
     ]
    }
   ],
   "source": [
    "#DS 2\n",
    "\n",
    "t1=(10,20,30)\n",
    "t2=(40,50,60)\n",
    "t_combine=t1+t2\n",
    "print(t_combine)\n",
    "print(t_combine[1])\n",
    "print(t_combine[:3])\n",
    "print(t_combine[-3:])"
   ]
  },
  {
   "cell_type": "code",
   "execution_count": 5,
   "metadata": {},
   "outputs": [
    {
     "name": "stdout",
     "output_type": "stream",
     "text": [
      "[(1, 2, 3), ('a', 'b', 'c'), (True, False), ['sparta', 123]]\n"
     ]
    }
   ],
   "source": [
    "my_list=[(1,2,3),('a','b','c'),(True,False)]\n",
    "my_list.append([\"sparta\",123])\n",
    "print(my_list)"
   ]
  },
  {
   "cell_type": "code",
   "execution_count": 17,
   "metadata": {},
   "outputs": [
    {
     "name": "stdout",
     "output_type": "stream",
     "text": [
      "dict_values([['apple', 'banana', 'mango', 'guava'], [85, 30, 40, 90]])\n"
     ]
    }
   ],
   "source": [
    "dict1={\"Fruit\":[\"apple\",\"banana\",\"mango\",\"guava\"],\"cost\":[85,30,40,90]}\n",
    "print(dict1.values())\n",
    "print(dict1.keys())"
   ]
  },
  {
   "cell_type": "code",
   "execution_count": 18,
   "metadata": {},
   "outputs": [
    {
     "name": "stdout",
     "output_type": "stream",
     "text": [
      "{1, 'a', 'True'}\n"
     ]
    }
   ],
   "source": [
    "set1={1,1,\"a\",True,\"a\",\"True\",1,\"a\"}\n",
    "print(set1)"
   ]
  },
  {
   "cell_type": "markdown",
   "metadata": {},
   "source": [
    "# MODULE3\n"
   ]
  },
  {
   "cell_type": "code",
   "execution_count": 10,
   "metadata": {},
   "outputs": [
    {
     "name": "stdout",
     "output_type": "stream",
     "text": [
      "Enter the year2003\n",
      "It is not a leap year\n"
     ]
    }
   ],
   "source": [
    "year=int(input(\"Enter the year\"))\n",
    "if year %4==0:\n",
    "    if year % 100 == 0 and year % 400 ==0:\n",
    "        print(\"The year is a leap year\")\n",
    "    elif year % 100 == 0 and year %400 !=0:\n",
    "        print(\"The year is not a leap year\")\n",
    "    else:\n",
    "        print(\"The year is a leap year\")\n",
    "else:\n",
    "    print(\"It is not a leap year\")\n"
   ]
  },
  {
   "cell_type": "code",
   "execution_count": 15,
   "metadata": {},
   "outputs": [
    {
     "name": "stdout",
     "output_type": "stream",
     "text": [
      "[1, 4, 9, 16, 25, 36, 49, 64, 81]\n"
     ]
    }
   ],
   "source": [
    "l1=[pow(x,2) for x in range(1,10)]\n",
    "print(l1)"
   ]
  },
  {
   "cell_type": "code",
   "execution_count": 45,
   "metadata": {},
   "outputs": [
    {
     "name": "stdout",
     "output_type": "stream",
     "text": [
      "2 5\n",
      "0 1 [2. 0.]\n",
      "0 4 [2. 0. 4. 6. 0.]\n",
      "1 1 [2. 0. 4. 6. 0. 2. 0.]\n",
      "a2 [[2 0 4 6 0]\n",
      " [2 0 4 6 6]]\n"
     ]
    }
   ],
   "source": [
    "import numpy as np\n",
    "\n",
    "def arr1(a1):\n",
    "    a2=np.array([])\n",
    "    r,c=np.shape(a1)\n",
    "    print(r,c)\n",
    "    for i in range(0,r):\n",
    "        for j in range(0,c):\n",
    "            if a1[i,j] %2 ==0:\n",
    "                a2=np.append(a2,a1[i,j])\n",
    "            else:\n",
    "                a2=np.append(a2,0)\n",
    "                print(i,j,a2)\n",
    "    a2=a2.reshape(r,c)\n",
    "    return a2\n",
    "\n",
    "a1=np.array([[2,3,4,6,7],[2,3,4,6,6]])\n",
    "a2=np.array(arr1(a1),dtype=int)\n",
    "print(\"a2\",a2)\n"
   ]
  },
  {
   "cell_type": "code",
   "execution_count": 80,
   "metadata": {},
   "outputs": [
    {
     "name": "stdout",
     "output_type": "stream",
     "text": [
      "a3 [2 4 6]\n"
     ]
    }
   ],
   "source": [
    "def arr1(a1,a2):\n",
    "    a3=np.array([])\n",
    "    r,c=np.shape(a1)\n",
    "    r1,c1=np.shape(a2)\n",
    "    for i in range(0,r):\n",
    "        for j in range(0,c):\n",
    "            for i1 in range(0,r1):\n",
    "                 for j1 in range(0,c1):\n",
    "                    if a1[i,j] == a2[i1,j1]:\n",
    "                        if a1[i,j] not in(a3):\n",
    "                            a3=np.append(a3,a1[i,j])\n",
    "    return a3\n",
    "    \n",
    "\n",
    "a1=np.array([[2,4],[6,9]])\n",
    "a2=np.array([[2,4],[3,2],[6,12]])\n",
    "a3=np.array(arr1(a1,a2),dtype=int)\n",
    "print(\"a3\",a3)\n"
   ]
  },
  {
   "cell_type": "code",
   "execution_count": null,
   "metadata": {},
   "outputs": [],
   "source": []
  }
 ],
 "metadata": {
  "kernelspec": {
   "display_name": "Python 3",
   "language": "python",
   "name": "python3"
  },
  "language_info": {
   "codemirror_mode": {
    "name": "ipython",
    "version": 3
   },
   "file_extension": ".py",
   "mimetype": "text/x-python",
   "name": "python",
   "nbconvert_exporter": "python",
   "pygments_lexer": "ipython3",
   "version": "3.8.5"
  }
 },
 "nbformat": 4,
 "nbformat_minor": 4
}
