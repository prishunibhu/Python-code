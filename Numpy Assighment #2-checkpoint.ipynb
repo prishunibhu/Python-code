{
 "cells": [
  {
   "cell_type": "code",
   "execution_count": 2,
   "metadata": {},
   "outputs": [
    {
     "data": {
      "text/plain": [
       "array([[1, 2, 3],\n",
       "       [4, 5, 6]])"
      ]
     },
     "execution_count": 2,
     "metadata": {},
     "output_type": "execute_result"
    }
   ],
   "source": [
    "import numpy as np\n",
    "np.array([1,2,3])\n",
    "np.array([[1,2,3],[4,5,6]])"
   ]
  },
  {
   "cell_type": "code",
   "execution_count": 7,
   "metadata": {},
   "outputs": [
    {
     "name": "stdout",
     "output_type": "stream",
     "text": [
      "[[2.    2.889 3.778]\n",
      " [4.667 5.556 6.445]\n",
      " [7.334 8.223 9.112]]\n"
     ]
    }
   ],
   "source": [
    "#assignment 1\n",
    "\n",
    "import numpy as np\n",
    "a1=np.arange(2,10,.889).reshape(3,3)\n",
    "print(a1)"
   ]
  },
  {
   "cell_type": "code",
   "execution_count": 5,
   "metadata": {},
   "outputs": [
    {
     "name": "stdout",
     "output_type": "stream",
     "text": [
      "Enter the list. zero to end1\n",
      "Enter the list. zero to end1\n",
      "Enter the list. zero to end2\n",
      "Enter the list. zero to end3\n",
      "Enter the list. zero to end0\n",
      "[1, 1, 2, 3]\n",
      "[1 1 2 3]\n",
      "[1. 1. 2. 3.]\n"
     ]
    }
   ],
   "source": [
    "#Assignment 2\n",
    "\n",
    "l1=[]\n",
    "while(True):\n",
    "    num=int(input(\"Enter the list. zero to end\"))\n",
    "    if num==0:\n",
    "        break\n",
    "    else:\n",
    "        l1.append(num)\n",
    "print(l1)\n",
    "\n",
    "a1=np.array(l1)\n",
    "print(a1)\n",
    "#a1=np.array(a1,dtype=float)\n",
    "a1=a1.astype(float)\n",
    "print(a1)"
   ]
  },
  {
   "cell_type": "code",
   "execution_count": 11,
   "metadata": {},
   "outputs": [
    {
     "name": "stdout",
     "output_type": "stream",
     "text": [
      "Enter the list. zero to end1\n",
      "Enter the list. zero to end1\n",
      "Enter the list. zero to end2\n",
      "Enter the list. zero to end3\n",
      "Enter the list. zero to end0\n",
      "[1 1 2 3]\n"
     ]
    }
   ],
   "source": [
    "#Assighment 3\n",
    "\n",
    "l1=[]\n",
    "while(True):\n",
    "    num=int(input(\"Enter the list. zero to end\"))\n",
    "    if num==0:\n",
    "        break\n",
    "    else:\n",
    "        l1.append(num)\n",
    "\n",
    "a1=np.array(l1)\n",
    "a2=[10,20,30,40]\n",
    "a1=np.append(a1,a2)\n",
    "print(a1)"
   ]
  },
  {
   "cell_type": "code",
   "execution_count": 9,
   "metadata": {},
   "outputs": [
    {
     "name": "stdout",
     "output_type": "stream",
     "text": [
      "[[11 22 33]\n",
      " [44 55 66]]\n"
     ]
    }
   ],
   "source": [
    "#Assignment 4\n",
    "\n",
    "a1=np.array([[1,2,3],[4,5,6]])\n",
    "a2=np.arange(10,70,10).reshape(2,3)\n",
    "#a2=np.array([[10,20,30,40],[50,60,70,80],[90,100,110,120]])\n",
    "#Sumarray = a1+a2\n",
    "Sumarray = np.add(a1,a2)\n",
    "print(Sumarray)\n",
    "\n"
   ]
  },
  {
   "cell_type": "code",
   "execution_count": 16,
   "metadata": {},
   "outputs": [
    {
     "name": "stdout",
     "output_type": "stream",
     "text": [
      "2\n",
      "[[10 20 30]]\n",
      "3 3\n",
      "[[90]]\n"
     ]
    }
   ],
   "source": [
    "#assignment 5\n",
    "\n",
    "a1=np.arange(10,100,10).reshape(3,3)\n",
    "print(a1.ndim)\n",
    "print(a1[:1])\n",
    "#print(a1[a1.ndim:,a1.ndim:])\n",
    "\n",
    "r,c =a1.shape\n",
    "print(r,c)\n",
    "print(a1[r-1:,c-1:])"
   ]
  },
  {
   "cell_type": "code",
   "execution_count": null,
   "metadata": {},
   "outputs": [],
   "source": []
  }
 ],
 "metadata": {
  "kernelspec": {
   "display_name": "Python 3",
   "language": "python",
   "name": "python3"
  },
  "language_info": {
   "codemirror_mode": {
    "name": "ipython",
    "version": 3
   },
   "file_extension": ".py",
   "mimetype": "text/x-python",
   "name": "python",
   "nbconvert_exporter": "python",
   "pygments_lexer": "ipython3",
   "version": "3.8.5"
  }
 },
 "nbformat": 4,
 "nbformat_minor": 4
}
