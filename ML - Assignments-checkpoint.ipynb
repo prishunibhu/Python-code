{
 "cells": [
  {
   "cell_type": "code",
   "execution_count": 54,
   "metadata": {},
   "outputs": [],
   "source": [
    "import pandas as pd\n",
    "import numpy as np\n",
    "import matplotlib.pyplot as plt\n",
    "from sklearn.metrics import *\n",
    "from sklearn.model_selection import train_test_split\n",
    "from sklearn.linear_model import LinearRegression\n",
    "from sklearn.linear_model import LogisticRegression\n",
    "from sklearn.tree import *\n",
    "from sklearn.ensemble import RandomForestClassifier\n",
    "from sklearn.naive_bayes import GaussianNB\n",
    "import math"
   ]
  },
  {
   "cell_type": "markdown",
   "metadata": {},
   "source": [
    "# Assignment 1 - Linear Regression"
   ]
  },
  {
   "cell_type": "code",
   "execution_count": 3,
   "metadata": {},
   "outputs": [
    {
     "name": "stdout",
     "output_type": "stream",
     "text": [
      "<class 'pandas.core.frame.DataFrame'>\n",
      "RangeIndex: 30 entries, 0 to 29\n",
      "Data columns (total 2 columns):\n",
      " #   Column           Non-Null Count  Dtype  \n",
      "---  ------           --------------  -----  \n",
      " 0   YearsExperience  30 non-null     float64\n",
      " 1   Salary           30 non-null     float64\n",
      "dtypes: float64(2)\n",
      "memory usage: 608.0 bytes\n"
     ]
    }
   ],
   "source": [
    "df_data=pd.read_csv(\"data.csv\")\n",
    "df_data.info()\n"
   ]
  },
  {
   "cell_type": "code",
   "execution_count": 31,
   "metadata": {},
   "outputs": [],
   "source": [
    "x=pd.DataFrame(df_data['YearsExperience'])\n",
    "y=pd.DataFrame(df_data['Salary'])\n",
    "\n",
    "x_train,x_test,y_train,y_test=train_test_split(x,y,test_size=0.33,random_state=3)"
   ]
  },
  {
   "cell_type": "code",
   "execution_count": 32,
   "metadata": {},
   "outputs": [
    {
     "name": "stdout",
     "output_type": "stream",
     "text": [
      "[[ 72857.88384587]\n",
      " [ 53935.95296434]\n",
      " [101240.78016817]\n",
      " [116378.3248734 ]\n",
      " [ 82318.84928664]\n",
      " [ 69073.49766956]\n",
      " [ 65289.11149326]\n",
      " [ 40690.60134726]\n",
      " [ 74750.07693402]\n",
      " [ 38798.40825911]]         Salary\n",
      "15   67938.0\n",
      "5    56642.0\n",
      "22  101302.0\n",
      "26  116969.0\n",
      "18   81363.0\n",
      "14   61111.0\n",
      "13   57081.0\n",
      "2    37731.0\n",
      "16   66029.0\n",
      "1    46205.0\n",
      "Regression intercept [26499.15318611]\n",
      "Regression Coeff [[9460.96544077]]\n",
      "Mean squared error 30324272.811151206\n",
      "Root mean squared error 5506.747934230439\n"
     ]
    }
   ],
   "source": [
    "linreg=LinearRegression()\n",
    "linreg.fit(x_train,y_train)\n",
    "y_pred=linreg.predict(x_test)\n",
    "print(y_pred,\" \",y_test)\n",
    "print(\"Regression intercept\",linreg.intercept_)  #C\n",
    "print(\"Regression Coeff\",linreg.coef_)  #M\n",
    "mse = mean_squared_error(y_test,y_pred)\n",
    "print(\"Mean squared error\",mse)\n",
    "rmse=math.sqrt(mse)\n",
    "print(\"Root mean squared error\",rmse)"
   ]
  },
  {
   "cell_type": "markdown",
   "metadata": {},
   "source": [
    "# Assignment 2 - Logistic Regression\n"
   ]
  },
  {
   "cell_type": "code",
   "execution_count": 28,
   "metadata": {},
   "outputs": [
    {
     "name": "stdout",
     "output_type": "stream",
     "text": [
      "<class 'pandas.core.frame.DataFrame'>\n",
      "RangeIndex: 768 entries, 0 to 767\n",
      "Data columns (total 9 columns):\n",
      " #   Column                    Non-Null Count  Dtype  \n",
      "---  ------                    --------------  -----  \n",
      " 0   Pregnancies               768 non-null    int64  \n",
      " 1   Glucose                   768 non-null    int64  \n",
      " 2   BloodPressure             768 non-null    int64  \n",
      " 3   SkinThickness             768 non-null    int64  \n",
      " 4   Insulin                   768 non-null    int64  \n",
      " 5   BMI                       768 non-null    float64\n",
      " 6   DiabetesPedigreeFunction  768 non-null    float64\n",
      " 7   Age                       768 non-null    int64  \n",
      " 8   Outcome                   768 non-null    int64  \n",
      "dtypes: float64(2), int64(7)\n",
      "memory usage: 54.1 KB\n"
     ]
    }
   ],
   "source": [
    "df_diab=pd.read_csv(\"diabetes.csv\")\n",
    "df_diab.info()"
   ]
  },
  {
   "cell_type": "code",
   "execution_count": 37,
   "metadata": {},
   "outputs": [
    {
     "name": "stdout",
     "output_type": "stream",
     "text": [
      "     Pregnancies  Glucose  BloodPressure  SkinThickness  Insulin   BMI  \\\n",
      "390            1      100             66             29      196  32.0   \n",
      "146            9       57             80             37        0  32.8   \n",
      "136            0      100             70             26       50  30.8   \n",
      "420            1      119             88             41      170  45.3   \n",
      "328            2      102             86             36      120  45.5   \n",
      "..           ...      ...            ...            ...      ...   ...   \n",
      "647            0      179             50             36      159  37.8   \n",
      "216            5      109             62             41      129  35.8   \n",
      "730            3      130             78             23       79  28.4   \n",
      "682            0       95             64             39      105  44.6   \n",
      "347            3      116              0              0        0  23.5   \n",
      "\n",
      "     DiabetesPedigreeFunction  Age  \n",
      "390                     0.444   42  \n",
      "146                     0.096   41  \n",
      "136                     0.597   21  \n",
      "420                     0.507   26  \n",
      "328                     0.127   23  \n",
      "..                        ...  ...  \n",
      "647                     0.455   22  \n",
      "216                     0.514   25  \n",
      "730                     0.323   34  \n",
      "682                     0.366   22  \n",
      "347                     0.187   23  \n",
      "\n",
      "[231 rows x 8 columns]\n"
     ]
    }
   ],
   "source": [
    "x=df_diab.iloc[:,:8]\n",
    "y=df_diab.iloc[:,8]\n",
    "x_train,x_test,y_train,y_test=train_test_split(x,y,test_size=0.3,random_state=4)"
   ]
  },
  {
   "cell_type": "code",
   "execution_count": 42,
   "metadata": {},
   "outputs": [
    {
     "name": "stdout",
     "output_type": "stream",
     "text": [
      "[[136  28]\n",
      " [ 16  51]]\n",
      "0.8095238095238095\n"
     ]
    },
    {
     "name": "stderr",
     "output_type": "stream",
     "text": [
      "C:\\Users\\Priyadarshini\\anaconda3\\lib\\site-packages\\sklearn\\linear_model\\_logistic.py:762: ConvergenceWarning: lbfgs failed to converge (status=1):\n",
      "STOP: TOTAL NO. of ITERATIONS REACHED LIMIT.\n",
      "\n",
      "Increase the number of iterations (max_iter) or scale the data as shown in:\n",
      "    https://scikit-learn.org/stable/modules/preprocessing.html\n",
      "Please also refer to the documentation for alternative solver options:\n",
      "    https://scikit-learn.org/stable/modules/linear_model.html#logistic-regression\n",
      "  n_iter_i = _check_optimize_result(\n"
     ]
    }
   ],
   "source": [
    "Logreg=LogisticRegression()\n",
    "Logreg.fit(x_train,y_train)\n",
    "y_pred=Logreg.predict(x_test)\n",
    "cf_matrix=confusion_matrix(y_pred,y_test)\n",
    "score=accuracy_score(y_test,y_pred)\n",
    "print(cf_matrix)\n",
    "print(score)"
   ]
  },
  {
   "cell_type": "markdown",
   "metadata": {},
   "source": [
    "# Assignment 3\n"
   ]
  },
  {
   "cell_type": "code",
   "execution_count": 44,
   "metadata": {},
   "outputs": [
    {
     "name": "stdout",
     "output_type": "stream",
     "text": [
      "[[114  34]\n",
      " [ 38  45]]\n",
      "0.6883116883116883\n"
     ]
    }
   ],
   "source": [
    "DecTree=DecisionTreeClassifier()\n",
    "DecTree.fit(x_train,y_train)\n",
    "y_pred=DecTree.predict(x_test)\n",
    "cf_matrix=confusion_matrix(y_pred,y_test)\n",
    "score=accuracy_score(y_test,y_pred)\n",
    "print(cf_matrix)\n",
    "print(score)"
   ]
  },
  {
   "cell_type": "markdown",
   "metadata": {},
   "source": [
    "# Assignment 4\n"
   ]
  },
  {
   "cell_type": "code",
   "execution_count": 53,
   "metadata": {},
   "outputs": [
    {
     "name": "stdout",
     "output_type": "stream",
     "text": [
      "[[129  24]\n",
      " [ 23  55]]\n",
      "0.7965367965367965\n"
     ]
    }
   ],
   "source": [
    "RanFor=RandomForestClassifier(n_estimators=100)\n",
    "RanFor.fit(x_train,y_train)\n",
    "y_pred=RanFor.predict(x_test)\n",
    "cf_matrix=confusion_matrix(y_pred,y_test)\n",
    "score=accuracy_score(y_test,y_pred)\n",
    "print(cf_matrix)\n",
    "print(score)"
   ]
  },
  {
   "cell_type": "markdown",
   "metadata": {},
   "source": [
    "# Assignment 5\n"
   ]
  },
  {
   "cell_type": "code",
   "execution_count": 56,
   "metadata": {},
   "outputs": [
    {
     "name": "stdout",
     "output_type": "stream",
     "text": [
      "[[129  26]\n",
      " [ 23  53]]\n",
      "0.7878787878787878\n"
     ]
    }
   ],
   "source": [
    "NaiveB = GaussianNB()\n",
    "NaiveB.fit(x_train,y_train)\n",
    "y_pred=NaiveB.predict(x_test)\n",
    "cf_matrix=confusion_matrix(y_pred,y_test)\n",
    "score=accuracy_score(y_test,y_pred)\n",
    "print(cf_matrix)\n",
    "print(score)"
   ]
  }
 ],
 "metadata": {
  "kernelspec": {
   "display_name": "Python 3",
   "language": "python",
   "name": "python3"
  },
  "language_info": {
   "codemirror_mode": {
    "name": "ipython",
    "version": 3
   },
   "file_extension": ".py",
   "mimetype": "text/x-python",
   "name": "python",
   "nbconvert_exporter": "python",
   "pygments_lexer": "ipython3",
   "version": "3.8.5"
  }
 },
 "nbformat": 4,
 "nbformat_minor": 4
}
