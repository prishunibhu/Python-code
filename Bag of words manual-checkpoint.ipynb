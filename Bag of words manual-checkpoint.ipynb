{
 "cells": [
  {
   "cell_type": "code",
   "execution_count": 7,
   "metadata": {},
   "outputs": [],
   "source": [
    "import numpy as np\n",
    "import nltk\n",
    "from nltk.tokenize import word_tokenize\n",
    "from nltk.corpus import stopwords\n",
    "\n"
   ]
  },
  {
   "cell_type": "code",
   "execution_count": 26,
   "metadata": {},
   "outputs": [
    {
     "name": "stderr",
     "output_type": "stream",
     "text": [
      "[nltk_data] Downloading package punkt to\n",
      "[nltk_data]     C:\\Users\\Priyadarshini\\AppData\\Roaming\\nltk_data...\n",
      "[nltk_data]   Unzipping tokenizers\\punkt.zip.\n"
     ]
    },
    {
     "data": {
      "text/plain": [
       "True"
      ]
     },
     "execution_count": 26,
     "metadata": {},
     "output_type": "execute_result"
    }
   ],
   "source": [
    "#nltk.download('stopwords')\n",
    "#nltk.download('punkt')"
   ]
  },
  {
   "cell_type": "markdown",
   "metadata": {},
   "source": [
    "# Preprocessing"
   ]
  },
  {
   "cell_type": "code",
   "execution_count": 15,
   "metadata": {},
   "outputs": [],
   "source": [
    "stop_words=set((stopwords.words('english'))"
   ]
  },
  {
   "cell_type": "code",
   "execution_count": 18,
   "metadata": {},
   "outputs": [
    {
     "name": "stdout",
     "output_type": "stream",
     "text": [
      "['a', 'about', 'above', 'after', 'again', 'against', 'ain', 'all', 'am', 'an', 'and', 'any', 'are', 'aren', \"aren't\", 'as', 'at', 'be', 'because', 'been', 'before', 'being', 'below', 'between', 'both', 'but', 'by', 'can', 'couldn', \"couldn't\", 'd', 'did', 'didn', \"didn't\", 'do', 'does', 'doesn', \"doesn't\", 'doing', 'don', \"don't\", 'down', 'during', 'each', 'few', 'for', 'from', 'further', 'had', 'hadn', \"hadn't\", 'has', 'hasn', \"hasn't\", 'have', 'haven', \"haven't\", 'having', 'he', 'her', 'here', 'hers', 'herself', 'him', 'himself', 'his', 'how', 'i', 'if', 'in', 'into', 'is', 'isn', \"isn't\", 'it', \"it's\", 'its', 'itself', 'just', 'll', 'm', 'ma', 'me', 'mightn', \"mightn't\", 'more', 'most', 'mustn', \"mustn't\", 'my', 'myself', 'needn', \"needn't\", 'no', 'nor', 'not', 'now', 'o', 'of', 'off', 'on', 'once', 'only', 'or', 'other', 'our', 'ours', 'ourselves', 'out', 'over', 'own', 're', 's', 'same', 'shan', \"shan't\", 'she', \"she's\", 'should', \"should've\", 'shouldn', \"shouldn't\", 'so', 'some', 'such', 't', 'than', 'that', \"that'll\", 'the', 'their', 'theirs', 'them', 'themselves', 'then', 'there', 'these', 'they', 'this', 'those', 'through', 'to', 'too', 'under', 'until', 'up', 've', 'very', 'was', 'wasn', \"wasn't\", 'we', 'were', 'weren', \"weren't\", 'what', 'when', 'where', 'which', 'while', 'who', 'whom', 'why', 'will', 'with', 'won', \"won't\", 'wouldn', \"wouldn't\", 'y', 'you', \"you'd\", \"you'll\", \"you're\", \"you've\", 'your', 'yours', 'yourself', 'yourselves']\n",
      "179\n"
     ]
    }
   ],
   "source": [
    "print(sorted(stop_words))\n",
    "print(len(stop_words))"
   ]
  },
  {
   "cell_type": "code",
   "execution_count": 31,
   "metadata": {},
   "outputs": [],
   "source": [
    "def extract_words(sentence):\n",
    "    words=nltk.word_tokenize(sentence)\n",
    "    cleaned_sentence = [w.lower() for w in words if w not in stop_words]\n",
    "    print(\"Cleaned Sentences\",cleaned_sentence)\n",
    "    return cleaned_sentence\n",
    "    "
   ]
  },
  {
   "cell_type": "markdown",
   "metadata": {},
   "source": [
    "# Vocabulary\n"
   ]
  },
  {
   "cell_type": "code",
   "execution_count": 53,
   "metadata": {},
   "outputs": [],
   "source": [
    "def Tokenize(sentences):\n",
    "    w=[]\n",
    "    for sentence in sentences:\n",
    "        uniquewords=extract_words(sentence)\n",
    "        w.extend(uniquewords)\n",
    "    words=sorted(list(set(w)))\n",
    "    print(\"words\",words)\n",
    "    return words"
   ]
  },
  {
   "cell_type": "markdown",
   "metadata": {},
   "source": [
    "# Tokenization"
   ]
  },
  {
   "cell_type": "code",
   "execution_count": 66,
   "metadata": {},
   "outputs": [],
   "source": [
    "def BagofWords(sentence,words):\n",
    "    sentence_words=extract_words(sentence)\n",
    "    result=enumerate(sentence_words)\n",
    "    for element in result:\n",
    "        print(\"Enumerate\",element)\n",
    "    bag=np.zeros(len(words))\n",
    "    for w in sentence_words:\n",
    "        for i,sw in enumerate(words):\n",
    "            if sw==w:\n",
    "                bag[i] +=1\n",
    "    return bag\n",
    "\n",
    "        "
   ]
  },
  {
   "cell_type": "code",
   "execution_count": 64,
   "metadata": {},
   "outputs": [
    {
     "name": "stdout",
     "output_type": "stream",
     "text": [
      "['Hi, How are you?', 'What is your problem', 'Problem in life is consistent', 'Peace and Harmony is the desire', 'Let happiness and harmony begin', 'Om Shanthi']\n",
      "Cleaned Sentences ['hi', ',', 'how', '?']\n",
      "Cleaned Sentences ['what', 'problem']\n",
      "Cleaned Sentences ['problem', 'life', 'consistent']\n",
      "Cleaned Sentences ['peace', 'harmony', 'desire']\n",
      "Cleaned Sentences ['let', 'happiness', 'harmony', 'begin']\n",
      "Cleaned Sentences ['om', 'shanthi']\n",
      "words [',', '?', 'begin', 'consistent', 'desire', 'happiness', 'harmony', 'hi', 'how', 'let', 'life', 'om', 'peace', 'problem', 'shanthi', 'what']\n",
      "[',', '?', 'begin', 'consistent', 'desire', 'happiness', 'harmony', 'hi', 'how', 'let', 'life', 'om', 'peace', 'problem', 'shanthi', 'what']\n"
     ]
    }
   ],
   "source": [
    "data=[\"Hi, How are you?\",\n",
    "     \"What is your problem\",\n",
    "     \"Problem in life is consistent\",\n",
    "     \"Peace and Harmony is the desire\",\n",
    "     \"Let happiness and harmony begin\",\n",
    "     \"Om Shanthi\"]\n",
    "\n",
    "print(data)\n",
    "vocabulary=Tokenize(data)\n",
    "print(vocabulary)\n"
   ]
  },
  {
   "cell_type": "code",
   "execution_count": 70,
   "metadata": {},
   "outputs": [
    {
     "name": "stdout",
     "output_type": "stream",
     "text": [
      "Cleaned Sentences ['peace', 'harmony']\n",
      "Enumerate (0, 'peace')\n",
      "Enumerate (1, 'harmony')\n",
      "[0. 0. 0. 0. 0. 0. 1. 0. 0. 0. 0. 0. 1. 0. 0. 0.]\n"
     ]
    },
    {
     "data": {
      "text/plain": [
       "16"
      ]
     },
     "execution_count": 70,
     "metadata": {},
     "output_type": "execute_result"
    }
   ],
   "source": [
    "found=BagofWords('Peace is the Harmony',vocabulary)\n",
    "print(found)\n",
    "\n",
    "len(vocabulary)"
   ]
  },
  {
   "cell_type": "code",
   "execution_count": null,
   "metadata": {},
   "outputs": [],
   "source": []
  }
 ],
 "metadata": {
  "kernelspec": {
   "display_name": "Python 3",
   "language": "python",
   "name": "python3"
  },
  "language_info": {
   "codemirror_mode": {
    "name": "ipython",
    "version": 3
   },
   "file_extension": ".py",
   "mimetype": "text/x-python",
   "name": "python",
   "nbconvert_exporter": "python",
   "pygments_lexer": "ipython3",
   "version": "3.8.5"
  }
 },
 "nbformat": 4,
 "nbformat_minor": 4
}
