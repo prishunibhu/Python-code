{
 "cells": [
  {
   "cell_type": "code",
   "execution_count": 2,
   "metadata": {},
   "outputs": [
    {
     "name": "stdout",
     "output_type": "stream",
     "text": [
      "Hello\n",
      "This is function1 in the modified super class\n"
     ]
    }
   ],
   "source": [
    "class super:\n",
    "    def func1(Self,msg1):\n",
    "        print(msg1)\n",
    "        print(\"This is function 1 in the super class\")\n",
    "class Modified_super:\n",
    "    def func1(Self,msg1):\n",
    "        print(msg1) \n",
    "        print(\"This is function1 in the modified super class\")\n",
    "    def func2(Self,msg1):\n",
    "        print(msg1)\n",
    "        print(\"This is function 2 in the modified super class\")\n",
    "M1 =Modified_super()\n",
    "M1.func1(\"Hello\")"
   ]
  },
  {
   "cell_type": "code",
   "execution_count": 6,
   "metadata": {},
   "outputs": [
    {
     "ename": "TypeError",
     "evalue": "fun1() missing 1 required positional argument: 'msg2'",
     "output_type": "error",
     "traceback": [
      "\u001b[1;31m---------------------------------------------------------------------------\u001b[0m",
      "\u001b[1;31mTypeError\u001b[0m                                 Traceback (most recent call last)",
      "\u001b[1;32m<ipython-input-6-90bcc9917ebe>\u001b[0m in \u001b[0;36m<module>\u001b[1;34m\u001b[0m\n\u001b[0;32m      8\u001b[0m \u001b[1;33m\u001b[0m\u001b[0m\n\u001b[0;32m      9\u001b[0m \u001b[0mH1\u001b[0m\u001b[1;33m=\u001b[0m\u001b[0mHello\u001b[0m\u001b[1;33m(\u001b[0m\u001b[1;33m)\u001b[0m\u001b[1;33m\u001b[0m\u001b[1;33m\u001b[0m\u001b[0m\n\u001b[1;32m---> 10\u001b[1;33m \u001b[0mH1\u001b[0m\u001b[1;33m.\u001b[0m\u001b[0mfun1\u001b[0m\u001b[1;33m(\u001b[0m\u001b[1;34m\"Hello\"\u001b[0m\u001b[1;33m)\u001b[0m\u001b[1;33m\u001b[0m\u001b[1;33m\u001b[0m\u001b[0m\n\u001b[0m\u001b[0;32m     11\u001b[0m \u001b[0mH1\u001b[0m\u001b[1;33m.\u001b[0m\u001b[0mfun2\u001b[0m\u001b[1;33m\u001b[0m\u001b[1;33m\u001b[0m\u001b[0m\n",
      "\u001b[1;31mTypeError\u001b[0m: fun1() missing 1 required positional argument: 'msg2'"
     ]
    }
   ],
   "source": [
    "#fucntion overload errors\n",
    "\n",
    "class Hello:\n",
    "    def fun1(Self,msg1):\n",
    "        print(msg1)\n",
    "    def fun1(Self,msg1,msg2):\n",
    "        print(msg1,msg2)\n",
    "\n",
    "H1=Hello()\n",
    "H1.fun1(\"Hello\")\n",
    "H1.fun2"
   ]
  },
  {
   "cell_type": "code",
   "execution_count": 16,
   "metadata": {},
   "outputs": [
    {
     "name": "stdout",
     "output_type": "stream",
     "text": [
      "Enter the number-0 to denote end3\n",
      "Enter the number-0 to denote end4\n",
      "Enter the number-0 to denote end6\n",
      "Enter the number-0 to denote end8\n",
      "Enter the number-0 to denote end1\n",
      "Enter the number-0 to denote end9\n",
      "Enter the number-0 to denote end9\n",
      "Enter the number-0 to denote end0\n",
      "The sum of the number is 40\n"
     ]
    }
   ],
   "source": [
    "def Sum():\n",
    "    sum=0\n",
    "    while(1):\n",
    "        num1 = int(input(\"Enter the number-0 to denote end\"))\n",
    "        sum = sum+num1\n",
    "        if num1==0:\n",
    "            break\n",
    "    print(\"The sum of the number is\",sum)\n",
    "\n",
    "Sum()"
   ]
  },
  {
   "cell_type": "code",
   "execution_count": 26,
   "metadata": {},
   "outputs": [
    {
     "name": "stdout",
     "output_type": "stream",
     "text": [
      "<__main__.Encapsulation object at 0x000001BACE50C0D0>\n",
      "10\n",
      "20\n",
      "20\n",
      "10\n"
     ]
    }
   ],
   "source": [
    "class Encapsulation:\n",
    "    def __init__(self):\n",
    "        self.original_value =10\n",
    "    def Value(self):\n",
    "        return self.original_value\n",
    "    def SetValue(self,new_value):\n",
    "        self.original_value = new_value\n",
    "        return self.original_value\n",
    "E1=Encapsulation()\n",
    "E2=Encapsulation()\n",
    "print(E1)\n",
    "print(E1.Value())\n",
    "print(E1.SetValue(20))\n",
    "print(E1.Value())\n",
    "print(E2.Value())\n"
   ]
  }
 ],
 "metadata": {
  "kernelspec": {
   "display_name": "Python 3",
   "language": "python",
   "name": "python3"
  },
  "language_info": {
   "codemirror_mode": {
    "name": "ipython",
    "version": 3
   },
   "file_extension": ".py",
   "mimetype": "text/x-python",
   "name": "python",
   "nbconvert_exporter": "python",
   "pygments_lexer": "ipython3",
   "version": "3.8.5"
  }
 },
 "nbformat": 4,
 "nbformat_minor": 4
}
