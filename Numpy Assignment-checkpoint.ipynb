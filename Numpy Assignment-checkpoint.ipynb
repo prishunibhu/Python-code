{
 "cells": [
  {
   "cell_type": "code",
   "execution_count": 31,
   "metadata": {},
   "outputs": [
    {
     "name": "stdout",
     "output_type": "stream",
     "text": [
      "Enter the tuple in the format x,x :5,5\n",
      "(5, 5)\n",
      "<class 'tuple'>\n",
      "Enter the number you want to fill:9\n",
      "[[9 9 9 9 9]\n",
      " [9 9 9 9 9]\n",
      " [9 9 9 9 9]\n",
      " [9 9 9 9 9]\n",
      " [9 9 9 9 9]]\n"
     ]
    }
   ],
   "source": [
    "#Assignment 1\n",
    "import numpy as np\n",
    "\n",
    "def Array(t1,num):\n",
    "    a1=np.full(t1,num)\n",
    "    print(a1)\n",
    "\n",
    "\n",
    "t1=str(input(\"Enter the tuple in the format x,x :\"))\n",
    "t1=tuple(int(x) for x in t1.split(','))\n",
    "print(t1)\n",
    "num = int(input(\"Enter the number you want to fill:\"))\n",
    "Array(t1,num)\n",
    "\n"
   ]
  },
  {
   "cell_type": "code",
   "execution_count": 15,
   "metadata": {},
   "outputs": [
    {
     "name": "stdout",
     "output_type": "stream",
     "text": [
      "Enter the input for  the array10\n",
      "[ 0  2  4  6  8 10 12 14 16 18]\n"
     ]
    }
   ],
   "source": [
    "#Assignment 2\n",
    "\n",
    "def ArraySum(num):\n",
    "    a1=np.arange(num)\n",
    "    a2=np.arange(num)\n",
    "    print(a1+a2)\n",
    "num =int(input(\"Enter the input for  the array\"))\n",
    "ArraySum(num)\n"
   ]
  },
  {
   "cell_type": "code",
   "execution_count": 28,
   "metadata": {},
   "outputs": [
    {
     "name": "stdout",
     "output_type": "stream",
     "text": [
      "Enter the X dimention1\n",
      "Enter the Y dimension1\n",
      "[[3]]\n"
     ]
    }
   ],
   "source": [
    "#Assighment 3\n",
    "def func1(arr,m,n):\n",
    "    mn=arr[:m,:n]\n",
    "    print(mn)\n",
    "\n",
    "a1 =np.array([[3,4,5],[6,7,9],[1,2,3]])\n",
    "x=int(input(\"Enter the X dimention\"))\n",
    "y=int(input(\"Enter the Y dimension\"))\n",
    "func1(a1,x,y)\n"
   ]
  },
  {
   "cell_type": "code",
   "execution_count": 23,
   "metadata": {},
   "outputs": [
    {
     "name": "stdout",
     "output_type": "stream",
     "text": [
      "Enter the X dimention to create array5\n",
      "Enter the Y dimension to create array5\n",
      "[[ 0  1  2  3  4]\n",
      " [ 5  6  7  8  9]\n",
      " [10 11 12 13 14]\n",
      " [15 16 17 18 19]\n",
      " [20 21 22 23 24]]\n",
      "Enter the X dimention3\n",
      "Enter the Y dimension2\n",
      "[[13 14]\n",
      " [18 19]\n",
      " [23 24]]\n"
     ]
    }
   ],
   "source": [
    "#Assighment 4\n",
    "n=int(input(\"Enter the X dimention to create array\"))\n",
    "m=int(input(\"Enter the Y dimension to create array\"))\n",
    "a1 =np.arange(m*n).reshape(n,m)\n",
    "print(a1)\n",
    "n=int(input(\"Enter the X dimention\"))\n",
    "m=int(input(\"Enter the Y dimension\"))\n",
    "nm=a1[m:,n:]\n",
    "print(nm)"
   ]
  },
  {
   "cell_type": "code",
   "execution_count": 29,
   "metadata": {},
   "outputs": [
    {
     "name": "stdout",
     "output_type": "stream",
     "text": [
      "Enter the number to create the array3\n",
      "1.0\n",
      "0.816496580927726\n",
      "{'Mean': 1.0, 'Std': 0.816496580927726}\n"
     ]
    }
   ],
   "source": [
    "#Assignment 5\n",
    "def compute(a1): \n",
    "    sum_array = np.sum(a1)\n",
    "    mean_array=np.mean(a1)\n",
    "    std_array=np.std(a1)\n",
    "    print(mean_array)\n",
    "    print(std_array)\n",
    "    d1={}\n",
    "    d1 ={\"Mean\": mean_array, \"Std\":std_array}\n",
    "    print(d1)\n",
    "\n",
    "num=int(input(\"Enter the number to create the array\"))\n",
    "a1=np.arange(num)\n",
    "compute(a1)"
   ]
  }
 ],
 "metadata": {
  "kernelspec": {
   "display_name": "Python 3",
   "language": "python",
   "name": "python3"
  },
  "language_info": {
   "codemirror_mode": {
    "name": "ipython",
    "version": 3
   },
   "file_extension": ".py",
   "mimetype": "text/x-python",
   "name": "python",
   "nbconvert_exporter": "python",
   "pygments_lexer": "ipython3",
   "version": "3.8.5"
  }
 },
 "nbformat": 4,
 "nbformat_minor": 4
}
