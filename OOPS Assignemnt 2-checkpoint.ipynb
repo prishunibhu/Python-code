{
 "cells": [
  {
   "cell_type": "code",
   "execution_count": 6,
   "metadata": {},
   "outputs": [
    {
     "name": "stdout",
     "output_type": "stream",
     "text": [
      "Enter the number to get the factorial:5\n",
      "120\n"
     ]
    }
   ],
   "source": [
    "def fact(num1):\n",
    "    result = 1\n",
    "    for i in range(num1,1,-1):\n",
    "        result = result * i\n",
    "    return result\n",
    "\n",
    "num1 = int(input(\"Enter the number to get the factorial:\"))\n",
    "Ans = fact(num1)\n",
    "print(Ans)"
   ]
  },
  {
   "cell_type": "code",
   "execution_count": 16,
   "metadata": {},
   "outputs": [
    {
     "name": "stdout",
     "output_type": "stream",
     "text": [
      "Enter the string:Swerwe\n",
      "Swerwe does not contain the letter s\n"
     ]
    }
   ],
   "source": [
    "def check(str1):\n",
    "    try:\n",
    "        ind = str1.index('s')\n",
    "        if ind > 0:\n",
    "            print(\"%s contains the letter s\" %str1)\n",
    "        else:\n",
    "            raise Exception()\n",
    "    except Exception as ex:\n",
    "        print(\"%s does not contain the letter s\" %str1)\n",
    "str1=input(\"Enter the string:\")\n",
    "check(str1)"
   ]
  },
  {
   "cell_type": "code",
   "execution_count": 29,
   "metadata": {},
   "outputs": [
    {
     "name": "stdout",
     "output_type": "stream",
     "text": [
      "Enter the student nameTeju\n",
      "Enter the rolno12\n",
      "The student name and roll no is ['Teju', 12]\n"
     ]
    }
   ],
   "source": [
    "class student:\n",
    "    def func(Self):\n",
    "        l1 =[]\n",
    "        name = input(\"Enter the student name\")\n",
    "        rollno = int(input(\"Enter the rolno\"))\n",
    "        l1.append(name)\n",
    "        l1.append(rollno)\n",
    "        return l1\n",
    "    def printit(Self,l1):\n",
    "        print(\"The student name and roll no is\",l1)\n",
    "\n",
    "S1=student()\n",
    "l1=S1.func()\n",
    "S1.printit(l1)\n",
    "\n",
    "        \n",
    "    "
   ]
  },
  {
   "cell_type": "code",
   "execution_count": 36,
   "metadata": {},
   "outputs": [
    {
     "name": "stdout",
     "output_type": "stream",
     "text": [
      "Enter the number2\n",
      "Enter the number:3\n",
      "6\n"
     ]
    }
   ],
   "source": [
    "double_num = lambda x,y: x*y\n",
    "\n",
    "num = int(input(\"Enter the number\"))\n",
    "num1 = int(input(\"Enter the number:\"))\n",
    "print(double_num(num,num1))"
   ]
  },
  {
   "cell_type": "code",
   "execution_count": 125,
   "metadata": {},
   "outputs": [
    {
     "name": "stdout",
     "output_type": "stream",
     "text": [
      "Enter the stringmermaid\n",
      "['d', 'i', 'a', 'm', 'r', 'e', 'm']\n",
      "d\n",
      "i\n",
      "a\n",
      "m\n",
      "r\n",
      "e\n",
      "m\n",
      "diamrem\n",
      "The word mermaid is not a palindrome\n"
     ]
    }
   ],
   "source": [
    "str1 = input(\"Enter the string\")\n",
    "l1=[]\n",
    "for i in range(len(str1)-1,-1,-1):\n",
    "    l1.append(str1[i]) \n",
    "print(l1)\n",
    "str2=' '\n",
    "for x in l1:\n",
    "    print(x)\n",
    "    str2 = str2+x\n",
    "str3 = \"\".join(str2.split())\n",
    "print(str3)\n",
    "if str1==str3:\n",
    "    print(\"The word %s is a palindrome\" %str1)\n",
    "else:\n",
    "    print(\"The word %s is not a palindrome\" %str1)"
   ]
  },
  {
   "cell_type": "code",
   "execution_count": 99,
   "metadata": {},
   "outputs": [
    {
     "name": "stdout",
     "output_type": "stream",
     "text": [
      "0\n",
      "1\n"
     ]
    }
   ],
   "source": [
    "for i in range(0,2):\n",
    "    print(i)"
   ]
  }
 ],
 "metadata": {
  "kernelspec": {
   "display_name": "Python 3",
   "language": "python",
   "name": "python3"
  },
  "language_info": {
   "codemirror_mode": {
    "name": "ipython",
    "version": 3
   },
   "file_extension": ".py",
   "mimetype": "text/x-python",
   "name": "python",
   "nbconvert_exporter": "python",
   "pygments_lexer": "ipython3",
   "version": "3.8.5"
  }
 },
 "nbformat": 4,
 "nbformat_minor": 4
}
