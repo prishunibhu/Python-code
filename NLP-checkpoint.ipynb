{
 "cells": [
  {
   "cell_type": "code",
   "execution_count": 1,
   "metadata": {},
   "outputs": [],
   "source": [
    "import numpy as np\n",
    "import pandas as pd\n",
    "import matplotlib.pyplot as plt\n",
    "import seaborn as sns\n",
    "import re\n",
    "import nltk\n",
    "import spacy\n",
    "import string\n"
   ]
  },
  {
   "cell_type": "code",
   "execution_count": 2,
   "metadata": {},
   "outputs": [],
   "source": [
    "import warnings\n",
    "warnings.filterwarnings(\"ignore\")"
   ]
  },
  {
   "cell_type": "code",
   "execution_count": 3,
   "metadata": {},
   "outputs": [],
   "source": [
    "df_twit=pd.read_csv(r\"C:\\Users\\Priyadarshini\\Downloads\\Python datasets\\twitter.csv\",encoding='unicode_escape')"
   ]
  },
  {
   "cell_type": "code",
   "execution_count": 4,
   "metadata": {},
   "outputs": [],
   "source": [
    "df_twit.columns=['TweetID','Weekday','Hour','Day','Lang','IsReshare','Reach','RetweetCount','Klout',\n",
    "                 'Sentiment','text','LocationID','UserID','Likes']"
   ]
  },
  {
   "cell_type": "code",
   "execution_count": 5,
   "metadata": {},
   "outputs": [],
   "source": [
    "df_twit['text_lower'] = df_twit['text'].str.lower()"
   ]
  },
  {
   "cell_type": "code",
   "execution_count": 6,
   "metadata": {},
   "outputs": [],
   "source": [
    "PUNCT_TO_REMOVE=string.punctuation\n",
    "def remove_punc(text):\n",
    "    return str(text).translate(str.maketrans('','',PUNCT_TO_REMOVE))\n",
    "   \n",
    "df_twit['text_punc'] =df_twit['text_lower'].apply(lambda text:remove_punc(text))"
   ]
  },
  {
   "cell_type": "code",
   "execution_count": 7,
   "metadata": {},
   "outputs": [],
   "source": [
    "from nltk.corpus import stopwords\n",
    "stop_words=list(set(stopwords.words('english')))"
   ]
  },
  {
   "cell_type": "code",
   "execution_count": 8,
   "metadata": {},
   "outputs": [],
   "source": [
    "def remove_stopwords(text):\n",
    "    return \" \".join([word for word in str(text).split() if word not in stop_words] )\n",
    "\n",
    "df_twit['text_stop'] = df_twit['text_punc'].apply(lambda text:remove_stopwords(text))\n"
   ]
  },
  {
   "cell_type": "code",
   "execution_count": 9,
   "metadata": {},
   "outputs": [],
   "source": [
    "df_twit.drop(['text','text_lower','text_punc'],axis=1,inplace=True)"
   ]
  },
  {
   "cell_type": "markdown",
   "metadata": {},
   "source": [
    "# removal of frequent words\n"
   ]
  },
  {
   "cell_type": "code",
   "execution_count": 10,
   "metadata": {},
   "outputs": [
    {
     "data": {
      "text/plain": [
       "[('aws', 90333),\n",
       " ('rt', 37012),\n",
       " ('amazon', 21393),\n",
       " ('cloud', 19865),\n",
       " ('awscloud', 15130),\n",
       " ('services', 12596),\n",
       " ('web', 11338),\n",
       " ('new', 7984),\n",
       " ('amp', 6973),\n",
       " ('lambda', 5916),\n",
       " ('job', 5257),\n",
       " ('jobs', 5139),\n",
       " ('azure', 5076),\n",
       " ('google', 4962),\n",
       " ('engineer', 4767),\n",
       " ('data', 4650),\n",
       " ('via', 3818),\n",
       " ('hiring', 3798),\n",
       " ('service', 3742),\n",
       " ('using', 3671)]"
      ]
     },
     "execution_count": 10,
     "metadata": {},
     "output_type": "execute_result"
    }
   ],
   "source": [
    "from collections import Counter\n",
    "cnt=Counter()\n",
    "for text in df_twit['text_stop'].values:\n",
    "    for word in text.split():\n",
    "        cnt[word] +=1\n",
    "\n",
    "cnt.most_common(20)"
   ]
  },
  {
   "cell_type": "code",
   "execution_count": 11,
   "metadata": {},
   "outputs": [],
   "source": [
    "FREQWORDS = set(w for (w,wc) in cnt.most_common(10))\n",
    "def remove_freq(text):\n",
    "    return \" \".join([word for word in str(text).split() if word not in FREQWORDS] )\n",
    "\n",
    "df_twit['text_stopfreq'] = df_twit['text_stop'].apply(lambda text:remove_freq(text))"
   ]
  },
  {
   "cell_type": "code",
   "execution_count": 12,
   "metadata": {},
   "outputs": [],
   "source": [
    "n_rare_words=10\n",
    "RAREWORDS = set(w for (w,wc) in cnt.most_common()[:-n_rare_words-1:-1])\n",
    "def remove_rare(text):\n",
    "    return \" \".join([word for word in str(text).split() if word not in RAREWORDS] )\n",
    "\n",
    "df_twit['text_stopfreqrare'] = df_twit['text_stopfreq'].apply(lambda text:remove_rare(text))"
   ]
  },
  {
   "cell_type": "code",
   "execution_count": 13,
   "metadata": {},
   "outputs": [],
   "source": [
    "df_twit.drop(['text_stopfreq','text_stop'],axis=1,inplace=True)"
   ]
  },
  {
   "cell_type": "markdown",
   "metadata": {},
   "source": [
    "# Remove url"
   ]
  },
  {
   "cell_type": "code",
   "execution_count": 14,
   "metadata": {},
   "outputs": [],
   "source": [
    "def remove_url(text):\n",
    "    url_pattern = re.complile(r'http?://\\S+|www\\.\\S+')\n",
    "    return url_patter.sub(r'',text)\n",
    "\n",
    "df_twit['text_url'] = df_twit['text_stopfreqrare'].apply(lambda text:remove_rare(text))"
   ]
  },
  {
   "cell_type": "code",
   "execution_count": 15,
   "metadata": {},
   "outputs": [],
   "source": [
    "def remove_html(text):\n",
    "    url_pattern = re.complile('<.*?>')\n",
    "    return url_patter.sub(r'',text)\n",
    "\n",
    "df_twit['text_html'] = df_twit['text_url'].apply(lambda text:remove_rare(text))"
   ]
  },
  {
   "cell_type": "markdown",
   "metadata": {},
   "source": [
    "# Semming.\n"
   ]
  },
  {
   "cell_type": "code",
   "execution_count": null,
   "metadata": {},
   "outputs": [],
   "source": [
    "from nl"
   ]
  },
  {
   "cell_type": "code",
   "execution_count": null,
   "metadata": {},
   "outputs": [],
   "source": []
  }
 ],
 "metadata": {
  "kernelspec": {
   "display_name": "Python 3",
   "language": "python",
   "name": "python3"
  },
  "language_info": {
   "codemirror_mode": {
    "name": "ipython",
    "version": 3
   },
   "file_extension": ".py",
   "mimetype": "text/x-python",
   "name": "python",
   "nbconvert_exporter": "python",
   "pygments_lexer": "ipython3",
   "version": "3.8.5"
  }
 },
 "nbformat": 4,
 "nbformat_minor": 4
}
