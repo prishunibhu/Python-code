{
 "cells": [
  {
   "cell_type": "code",
   "execution_count": 9,
   "metadata": {},
   "outputs": [
    {
     "name": "stdout",
     "output_type": "stream",
     "text": [
      "The name of the car is Baleno\n",
      "The price of the car is 623000\n",
      "The color of the car is Blue\n",
      "The Category of the car is Sigma\n",
      "<__main__.Vehicle object at 0x000001A8011FEF70>\n"
     ]
    }
   ],
   "source": [
    "#Classes and Objects\n",
    "\n",
    "class Vehicle:\n",
    "    def __init__(Self,name,price,color,Category):\n",
    "        Self.name = name\n",
    "        Self.price = price\n",
    "        Self.color = color\n",
    "        Self.Category = Category\n",
    "    def printdata(Self):\n",
    "        print(\"The name of the car is %s\" %Self.name)\n",
    "        print(\"The price of the car is %s\" %Self.price)\n",
    "        print(\"The color of the car is %s\" %Self.color)\n",
    "        print(\"The Category of the car is %s\" %Self.Category)\n",
    "    \n",
    "    def __Str__(Self):\n",
    "        return Self.price\n",
    "\n",
    "o1 = Vehicle(\"Baleno\",623000,\"Blue\",\"Sigma\")\n",
    "o1.printdata()\n",
    "print(o1)"
   ]
  },
  {
   "cell_type": "code",
   "execution_count": null,
   "metadata": {},
   "outputs": [],
   "source": []
  },
  {
   "cell_type": "code",
   "execution_count": 17,
   "metadata": {},
   "outputs": [
    {
     "name": "stdout",
     "output_type": "stream",
     "text": [
      "The name of the car is MG\n",
      "The price of the car is 220000\n",
      "The color of the car is Maroon\n",
      "The Category of the car is SUV\n",
      "MG The model is SUV\n",
      "This is to understand Overriding\n",
      "Ciaz The model is Sedan\n"
     ]
    }
   ],
   "source": [
    "class SUV(Vehicle):\n",
    "    def __init__(Self,name,price,color,Category):\n",
    "        super().__init__(name,price,color,Category)\n",
    "    def Model(Self):\n",
    "        print(\"%s The model is SUV\" %Self.name)\n",
    "        \n",
    "class Sedan(Vehicle):\n",
    "    def __init__(Self,name,price,color,Category):\n",
    "        super().__init__(name,price,color,Category)\n",
    "    def Model(Self):\n",
    "        print(\"%s The model is Sedan\" %Self.name)\n",
    "    def printdata(Self):\n",
    "        print(\"This is to understand Overriding\")\n",
    "        \n",
    "o1=SUV(\"MG\",\"220000\",\"Maroon\",\"SUV\")\n",
    "o1.printdata()\n",
    "o1.Model()\n",
    "\n",
    "o2=Sedan(\"Ciaz\",\"120000\",\"Brown\",\"Sedan\")\n",
    "o2.printdata()\n",
    "o2.Model()"
   ]
  },
  {
   "cell_type": "code",
   "execution_count": 22,
   "metadata": {},
   "outputs": [
    {
     "ename": "ModuleNotFoundError",
     "evalue": "No module named 'Basic_programming'",
     "output_type": "error",
     "traceback": [
      "\u001b[1;31m---------------------------------------------------------------------------\u001b[0m",
      "\u001b[1;31mModuleNotFoundError\u001b[0m                       Traceback (most recent call last)",
      "\u001b[1;32m<ipython-input-22-1f9fdd4d75a4>\u001b[0m in \u001b[0;36m<module>\u001b[1;34m\u001b[0m\n\u001b[0;32m      1\u001b[0m \u001b[1;31m#Python modules\u001b[0m\u001b[1;33m\u001b[0m\u001b[1;33m\u001b[0m\u001b[1;33m\u001b[0m\u001b[0m\n\u001b[1;32m----> 2\u001b[1;33m \u001b[1;32mfrom\u001b[0m \u001b[0mBasic_programming\u001b[0m \u001b[1;32mimport\u001b[0m \u001b[1;33m*\u001b[0m\u001b[1;33m\u001b[0m\u001b[1;33m\u001b[0m\u001b[0m\n\u001b[0m\u001b[0;32m      3\u001b[0m \u001b[1;33m\u001b[0m\u001b[0m\n\u001b[0;32m      4\u001b[0m \u001b[0ml1\u001b[0m \u001b[1;33m=\u001b[0m\u001b[1;33m[\u001b[0m\u001b[1;36m10\u001b[0m\u001b[1;33m,\u001b[0m\u001b[1;36m20\u001b[0m\u001b[1;33m,\u001b[0m\u001b[1;36m30\u001b[0m\u001b[1;33m]\u001b[0m\u001b[1;33m\u001b[0m\u001b[1;33m\u001b[0m\u001b[0m\n\u001b[0;32m      5\u001b[0m \u001b[0ml2\u001b[0m\u001b[1;33m=\u001b[0m\u001b[1;33m[\u001b[0m\u001b[1;36m30\u001b[0m\u001b[1;33m,\u001b[0m\u001b[1;36m40\u001b[0m\u001b[1;33m,\u001b[0m\u001b[1;36m50\u001b[0m\u001b[1;33m]\u001b[0m\u001b[1;33m\u001b[0m\u001b[1;33m\u001b[0m\u001b[0m\n",
      "\u001b[1;31mModuleNotFoundError\u001b[0m: No module named 'Basic_programming'"
     ]
    }
   ],
   "source": [
    "#Python modules\n",
    "from Basic_programming import *\n",
    "\n",
    "l1 =[10,20,30]\n",
    "l2=[30,40,50]\n",
    "\n",
    "Basic_programming.func1(l1,l2)\n"
   ]
  },
  {
   "cell_type": "code",
   "execution_count": 26,
   "metadata": {},
   "outputs": [
    {
     "ename": "ModuleNotFoundError",
     "evalue": "No module named 'Basic_programming'",
     "output_type": "error",
     "traceback": [
      "\u001b[1;31m---------------------------------------------------------------------------\u001b[0m",
      "\u001b[1;31mModuleNotFoundError\u001b[0m                       Traceback (most recent call last)",
      "\u001b[1;32m<ipython-input-26-d11d67f2ce66>\u001b[0m in \u001b[0;36m<module>\u001b[1;34m\u001b[0m\n\u001b[0;32m      5\u001b[0m \u001b[1;32mimport\u001b[0m \u001b[0mnumpy\u001b[0m \u001b[1;32mas\u001b[0m \u001b[0mnp\u001b[0m\u001b[1;33m\u001b[0m\u001b[1;33m\u001b[0m\u001b[0m\n\u001b[0;32m      6\u001b[0m \u001b[1;33m\u001b[0m\u001b[0m\n\u001b[1;32m----> 7\u001b[1;33m \u001b[1;32mimport\u001b[0m \u001b[0mBasic_programming\u001b[0m \u001b[1;32mas\u001b[0m \u001b[0mBP\u001b[0m\u001b[1;33m\u001b[0m\u001b[1;33m\u001b[0m\u001b[0m\n\u001b[0m",
      "\u001b[1;31mModuleNotFoundError\u001b[0m: No module named 'Basic_programming'"
     ]
    }
   ],
   "source": []
  },
  {
   "cell_type": "code",
   "execution_count": 36,
   "metadata": {},
   "outputs": [
    {
     "name": "stdout",
     "output_type": "stream",
     "text": [
      "Divide by Zero may occur\n",
      "Print it anyways. This is finally\n"
     ]
    }
   ],
   "source": [
    "#Exceptions\n",
    "\n",
    "def Func(num1,num2):\n",
    "    if num1==0 or num2==0:\n",
    "        raise Exception(\"Divide by Zero may occur\")\n",
    "    else:\n",
    "        return num1/num2\n",
    "try:\n",
    "    result=Func(1,0)\n",
    "    print(result)\n",
    "except Exception as ex:\n",
    "     print(ex)\n",
    "finally:\n",
    "    print(\"Print it anyways. This is finally\")"
   ]
  },
  {
   "cell_type": "code",
   "execution_count": 59,
   "metadata": {},
   "outputs": [
    {
     "name": "stdout",
     "output_type": "stream",
     "text": [
      "Wow my exception\n"
     ]
    }
   ],
   "source": [
    "class E1(Exception):\n",
    "    def __init__(Self):\n",
    "        super().__init__()\n",
    "        Self.args = (\"Wow my exception\",)\n",
    "\n",
    "try:\n",
    "    raise E1()\n",
    "except E1 as ex:\n",
    "    print(ex)"
   ]
  },
  {
   "cell_type": "code",
   "execution_count": 94,
   "metadata": {},
   "outputs": [
    {
     "name": "stdout",
     "output_type": "stream",
     "text": [
      "Priya\n",
      "88000\n",
      " \n"
     ]
    }
   ],
   "source": [
    "#Assignemnt Case stydy #1\n",
    "\n",
    "class Employee:\n",
    "    def __init__(Self,name,salary):\n",
    "        Self.name = name\n",
    "        Self.salary = salary\n",
    "    def __str__(Self):\n",
    "        print(Self.name)\n",
    "        print(Self.salary)\n",
    "        return ' '\n",
    "       \n",
    "        \n",
    "\n",
    "E1 = Employee(\"Priya\",88000)\n",
    "print(E1)"
   ]
  },
  {
   "cell_type": "code",
   "execution_count": 97,
   "metadata": {},
   "outputs": [
    {
     "name": "stdout",
     "output_type": "stream",
     "text": [
      "Enter the number 1 39\n",
      "Enter the number 2 23\n",
      "Enter the function to performMul\n",
      "897\n"
     ]
    }
   ],
   "source": [
    "#Assignemnt Case stydy #2\n",
    "\n",
    "class Calculator:\n",
    "    def Execute(Self,func,num1,num2):\n",
    "        if func == 'Add':\n",
    "            return num1 + num2\n",
    "        elif func== 'Sub':\n",
    "            return num1 - num2\n",
    "        elif func == 'Mul':\n",
    "            return num1 * num2\n",
    "        else:\n",
    "            return num1 / num2\n",
    "\n",
    "num1 = int(input(\"Enter the number 1\"))\n",
    "num2 = int(input(\"Enter the number 2\"))\n",
    "f = input(\"Enter the function to perform\")\n",
    "\n",
    "C1 = Calculator()\n",
    "Result = C1.Execute(f,num1,num2)\n",
    "print(Result)"
   ]
  },
  {
   "cell_type": "code",
   "execution_count": 4,
   "metadata": {},
   "outputs": [
    {
     "name": "stdout",
     "output_type": "stream",
     "text": [
      "Wow my exception\n"
     ]
    }
   ],
   "source": [
    "#Assignment 2 -#1\n",
    "\n",
    "class E1(Exception):\n",
    "    def __init__(Self):\n",
    "        super().__init__()\n",
    "        Self.args = (\"Wow my exception\",)\n",
    "\n",
    "try:\n",
    "     raise E1()\n",
    "except E1 as ex:\n",
    "    print(ex)"
   ]
  },
  {
   "cell_type": "code",
   "execution_count": 59,
   "metadata": {},
   "outputs": [
    {
     "name": "stdout",
     "output_type": "stream",
     "text": [
      "Enter the number 119\n",
      "Enter the number 20\n",
      "Enter the function to performSub\n",
      "Divide by zero possibility\n"
     ]
    }
   ],
   "source": [
    "#Assignemnt Case stydy #2\n",
    "\n",
    "class Calculator:\n",
    "    def Execute(Self,func,num1,num2):\n",
    "        if func == 'Add':\n",
    "            return num1 + num2\n",
    "        elif func == 'Sub':\n",
    "            return num1 - num2\n",
    "        elif func == 'Mul':\n",
    "            return num1 * num2\n",
    "        else:\n",
    "            return num1 / num2\n",
    "\n",
    "num1 = int(input(\"Enter the number 1\"))\n",
    "num2 = int(input(\"Enter the number 2\"))\n",
    "f = input(\"Enter the function to perform\")\n",
    "\n",
    "try:\n",
    "    if num1==0 or num2==0:\n",
    "        raise Exception()\n",
    "    else:\n",
    "        C1 = Calculator()\n",
    "        Result = C1.Execute(f,num1,num2)\n",
    "        print(Result)  \n",
    "except Exception as ex:\n",
    "    print(\"Divide by zero possibility\")\n",
    "            \n"
   ]
  },
  {
   "cell_type": "code",
   "execution_count": 9,
   "metadata": {},
   "outputs": [
    {
     "name": "stdout",
     "output_type": "stream",
     "text": [
      "Overflow math error occurred\n"
     ]
    }
   ],
   "source": [
    "import math as m1\n",
    "try:\n",
    "    print(m1.exp(324241))\n",
    "except Exception as E1:\n",
    "    print(\"Overflow math error occurred\")\n",
    "\n",
    "\n",
    "    "
   ]
  },
  {
   "cell_type": "code",
   "execution_count": 30,
   "metadata": {},
   "outputs": [
    {
     "name": "stdout",
     "output_type": "stream",
     "text": [
      "Hello World\n"
     ]
    }
   ],
   "source": [
    "import colorama as c1\n",
    "import termcolor as t1\n",
    "\n",
    "c1.init()\n",
    "t1.cprint(t1.colored(\"Hello World\",color='green', on_color='on_red'))\n"
   ]
  },
  {
   "cell_type": "code",
   "execution_count": 88,
   "metadata": {},
   "outputs": [
    {
     "name": "stdout",
     "output_type": "stream",
     "text": [
      "Enter the number1-34\n",
      "Enter the number222\n",
      "only positive\n"
     ]
    }
   ],
   "source": [
    "class E1(Exception):\n",
    "    def __init__(Self):\n",
    "        super().__init__()\n",
    "        print(\"only positive\")\n",
    "\n",
    "def Execute(func,num1,num2):\n",
    "        try:\n",
    "            if num1==0 or num2==0:\n",
    "                raise Exception()\n",
    "            else:\n",
    "                if func == 'Add':\n",
    "                    return num1 + num2\n",
    "                elif func== 'Sub':\n",
    "                    return num1 - num2\n",
    "                elif func == 'Mul':\n",
    "                    return num1 * num2\n",
    "                else:\n",
    "                    return num1 / num2\n",
    "        except Exception as ex:\n",
    "            print(\"Divide by zero possibility\")\n",
    "   \n",
    "        \n",
    "try:\n",
    "    num1=int(input(\"Enter the number1\"))\n",
    "    num2=int(input(\"Enter the number2\"))\n",
    "    if num1 < 0 or num2 < 0:\n",
    "        raise E1()\n",
    "    else:\n",
    "        func = input(\"Enter the function to perform\")\n",
    "        b=Execute(func,num1,num2)\n",
    "        print(b)\n",
    "except E1 as ex:\n",
    "    pass\n",
    "    \n",
    "\n",
    "\n",
    "        "
   ]
  },
  {
   "cell_type": "code",
   "execution_count": 2,
   "metadata": {},
   "outputs": [
    {
     "name": "stdout",
     "output_type": "stream",
     "text": [
      "\u001b[34mhey how are you doing\u001b[0m\n",
      "\u001b[41m\u001b[32mHello World\u001b[0m\n"
     ]
    }
   ],
   "source": [
    "import colorama as c1\n",
    "import termcolor as t1\n",
    "print(t1.colored(\"hey how are you doing\",'blue'))\n",
    "print(t1.colored(\"Hello World\",color='green', on_color='on_red'))\n"
   ]
  },
  {
   "cell_type": "code",
   "execution_count": null,
   "metadata": {},
   "outputs": [],
   "source": []
  },
  {
   "cell_type": "code",
   "execution_count": 1,
   "metadata": {},
   "outputs": [
    {
     "name": "stdout",
     "output_type": "stream",
     "text": [
      "\u001b[41m\u001b[32mHello World\u001b[0m\n"
     ]
    }
   ],
   "source": [
    "import colorama as c1\n",
    "import termcolor as t1\n",
    "\n",
    "print(t1.colored(\"Hello World\",color='green', on_color='on_red'))\n",
    "\n"
   ]
  }
 ],
 "metadata": {
  "kernelspec": {
   "display_name": "Python 3",
   "language": "python",
   "name": "python3"
  },
  "language_info": {
   "codemirror_mode": {
    "name": "ipython",
    "version": 3
   },
   "file_extension": ".py",
   "mimetype": "text/x-python",
   "name": "python",
   "nbconvert_exporter": "python",
   "pygments_lexer": "ipython3",
   "version": "3.8.5"
  }
 },
 "nbformat": 4,
 "nbformat_minor": 4
}
