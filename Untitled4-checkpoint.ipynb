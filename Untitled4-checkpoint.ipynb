{
 "cells": [
  {
   "cell_type": "code",
   "execution_count": 15,
   "metadata": {},
   "outputs": [
    {
     "name": "stdout",
     "output_type": "stream",
     "text": [
      "The number and reversed number is 2178 8712\n",
      "The number and reversed number is 21978 87912\n",
      "The number and reversed number is 219978 879912\n"
     ]
    }
   ],
   "source": [
    "\n",
    "for num in range(1000,1000000):\n",
    "    new_num1 = num * 4\n",
    "    new_num = num * 4\n",
    "    reversed_num = 0\n",
    "    while new_num >= 1:\n",
    "        digit = new_num % 10\n",
    "        reversed_num = reversed_num * 10 + digit\n",
    "        new_num =int(new_num / 10)\n",
    "    if reversed_num==num:\n",
    "        print(\"The number and reversed number is\",reversed_num,new_num1)\n",
    "    "
   ]
  },
  {
   "cell_type": "code",
   "execution_count": 54,
   "metadata": {},
   "outputs": [
    {
     "name": "stdout",
     "output_type": "stream",
     "text": [
      "The num and reverse num 2178 8712\n",
      "The num and reverse num 21978 87912\n",
      "The num and reverse num 219978 879912\n",
      "No output\n"
     ]
    }
   ],
   "source": [
    "for num in range(1000,1000000):\n",
    "    new_num = str(num * 4)\n",
    "    reverse_num=(str(num)[::-1])\n",
    "    if(new_num==reverse_num):\n",
    "        print(\"The num and reverse num\",num,new_num)\n",
    "print(\"No output\")"
   ]
  }
 ],
 "metadata": {
  "kernelspec": {
   "display_name": "Python 3",
   "language": "python",
   "name": "python3"
  },
  "language_info": {
   "codemirror_mode": {
    "name": "ipython",
    "version": 3
   },
   "file_extension": ".py",
   "mimetype": "text/x-python",
   "name": "python",
   "nbconvert_exporter": "python",
   "pygments_lexer": "ipython3",
   "version": "3.8.5"
  }
 },
 "nbformat": 4,
 "nbformat_minor": 4
}
