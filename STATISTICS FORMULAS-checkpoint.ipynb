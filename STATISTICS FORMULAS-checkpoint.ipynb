{
 "cells": [
  {
   "cell_type": "code",
   "execution_count": null,
   "metadata": {},
   "outputs": [],
   "source": [
    "LINEAR REGRESSION\n",
    "\n",
    "LEAST SQUARE METHOD\n",
    "\n",
    "Y=MX+C\n",
    "M=SUM((X-MEAN(X)(Y-MEAN(Y))) / SUM((X-MEAN(X)^2)))\n",
    "\n",
    "c= mean(y) - mean(x)* m\n",
    "\n",
    "With M and C values , we can now predict the y values for the new set of x values\n",
    "\n",
    "m is the slope and c is the point of slope on y intercept\n",
    "\n",
    "Perform the same with different values of m and c to get the best fit line and that will give minimum errors\n",
    "\n",
    "The parameter to determine that is R2\n",
    "\n",
    "R2=sum((ypred-mean)^2)/sum((y-mean(y)^2)\n",
    "                           \n",
    "r squared ranges betweeen 0 to 1 and likewise is independence - dependence\n",
    "  \n",
    "r2 =1 means the error is nil\n",
    "                           "
   ]
  },
  {
   "cell_type": "code",
   "execution_count": null,
   "metadata": {},
   "outputs": [],
   "source": [
    "LOGISTIC REGRESSION\n",
    "\n",
    "FIRST FIND THE BEST FIT LINE\n",
    "\n",
    "SIGMOID FUNCTION\n",
    "\n",
    "LOG(ODDS) = LOG(P(SPAM)/1-P(SPAM))\n",
    "\n",
    "SIGMOID FUNCTION = (E^LOG(ODDS))/(1+E^LOG(ODDS))\n",
    "\n"
   ]
  },
  {
   "cell_type": "code",
   "execution_count": null,
   "metadata": {},
   "outputs": [],
   "source": [
    "naives theroem\n",
    "\n",
    "p(B/A) = (p(A/b) * P(A))/p(B)\n"
   ]
  },
  {
   "cell_type": "code",
   "execution_count": null,
   "metadata": {},
   "outputs": [],
   "source": [
    "DECISION TREE\n",
    "\n",
    "Entropy = - p(yes) log(p(yes)) - p(no) log(p(no))\n",
    "\n",
    "Information gain is for each feature\n",
    "= Enrtopy-(weighted avg * entropy(each feature))\n",
    "\n",
    "The max information gain becomes the root node\n",
    "\n",
    "Gini Index=\n"
   ]
  },
  {
   "cell_type": "code",
   "execution_count": null,
   "metadata": {},
   "outputs": [],
   "source": [
    "Ensemble method\n",
    "\n"
   ]
  }
 ],
 "metadata": {
  "kernelspec": {
   "display_name": "Python 3",
   "language": "python",
   "name": "python3"
  },
  "language_info": {
   "codemirror_mode": {
    "name": "ipython",
    "version": 3
   },
   "file_extension": ".py",
   "mimetype": "text/x-python",
   "name": "python",
   "nbconvert_exporter": "python",
   "pygments_lexer": "ipython3",
   "version": "3.8.5"
  }
 },
 "nbformat": 4,
 "nbformat_minor": 4
}
