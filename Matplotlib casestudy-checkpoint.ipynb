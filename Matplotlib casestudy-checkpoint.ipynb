{
 "cells": [
  {
   "cell_type": "code",
   "execution_count": 38,
   "metadata": {},
   "outputs": [],
   "source": [
    "import pandas as pd\n",
    "import matplotlib.pyplot as plt\n",
    "import math\n",
    "import numpy as np"
   ]
  },
  {
   "cell_type": "code",
   "execution_count": 3,
   "metadata": {},
   "outputs": [],
   "source": [
    "df_cars=pd.read_csv(\"Cars.csv\")"
   ]
  },
  {
   "cell_type": "code",
   "execution_count": 11,
   "metadata": {},
   "outputs": [
    {
     "name": "stdout",
     "output_type": "stream",
     "text": [
      "<class 'pandas.core.frame.DataFrame'>\n",
      "RangeIndex: 32 entries, 0 to 31\n",
      "Data columns (total 13 columns):\n",
      " #   Column  Non-Null Count  Dtype  \n",
      "---  ------  --------------  -----  \n",
      " 0   S.No    32 non-null     int64  \n",
      " 1   model   32 non-null     object \n",
      " 2   mpg     32 non-null     float64\n",
      " 3   cyl     32 non-null     int64  \n",
      " 4   disp    32 non-null     float64\n",
      " 5   hp      32 non-null     int64  \n",
      " 6   drat    32 non-null     float64\n",
      " 7   wt      32 non-null     float64\n",
      " 8   qsec    29 non-null     float64\n",
      " 9   vs      32 non-null     int64  \n",
      " 10  am      32 non-null     int64  \n",
      " 11  gear    32 non-null     int64  \n",
      " 12  carb    32 non-null     int64  \n",
      "dtypes: float64(5), int64(7), object(1)\n",
      "memory usage: 3.4+ KB\n"
     ]
    },
    {
     "data": {
      "text/plain": [
       "8    14\n",
       "4    11\n",
       "6     7\n",
       "Name: cyl, dtype: int64"
      ]
     },
     "execution_count": 11,
     "metadata": {},
     "output_type": "execute_result"
    }
   ],
   "source": [
    "df_cars.info()\n",
    "freq=df_cars['cyl'].value_counts()\n",
    "freq"
   ]
  },
  {
   "cell_type": "code",
   "execution_count": 10,
   "metadata": {},
   "outputs": [
    {
     "data": {
      "text/plain": [
       "<BarContainer object of 3 artists>"
      ]
     },
     "execution_count": 10,
     "metadata": {},
     "output_type": "execute_result"
    },
    {
     "data": {
      "image/png": "[encoded data removed]",
      "text/plain": [
       "<Figure size 432x288 with 1 Axes>"
      ]
     },
     "metadata": {
      "needs_background": "light"
     },
     "output_type": "display_data"
    }
   ],
   "source": [
    "x=list(freq.index)\n",
    "y=list(freq.values)\n",
    "plt.bar(x,y,color='red')"
   ]
  },
  {
   "cell_type": "code",
   "execution_count": 23,
   "metadata": {},
   "outputs": [],
   "source": [
    "data=df_cars.isna().sum()\n"
   ]
  },
  {
   "cell_type": "code",
   "execution_count": 24,
   "metadata": {},
   "outputs": [
    {
     "data": {
      "text/plain": [
       "S.No     0\n",
       "model    0\n",
       "mpg      0\n",
       "cyl      0\n",
       "disp     0\n",
       "hp       0\n",
       "drat     0\n",
       "wt       0\n",
       "qsec     3\n",
       "vs       0\n",
       "am       0\n",
       "gear     0\n",
       "carb     0\n",
       "dtype: int64"
      ]
     },
     "execution_count": 24,
     "metadata": {},
     "output_type": "execute_result"
    }
   ],
   "source": [
    "data"
   ]
  },
  {
   "cell_type": "code",
   "execution_count": 25,
   "metadata": {},
   "outputs": [
    {
     "data": {
      "text/plain": [
       "<BarContainer object of 13 artists>"
      ]
     },
     "execution_count": 25,
     "metadata": {},
     "output_type": "execute_result"
    },
    {
     "data": {
      "image/png": "[encoded data removed]",
      "text/plain": [
       "<Figure size 432x288 with 1 Axes>"
      ]
     },
     "metadata": {
      "needs_background": "light"
     },
     "output_type": "display_data"
    }
   ],
   "source": [
    "x=list(data.index)\n",
    "y=list(data.values)\n",
    "plt.bar(x,y,color='b')"
   ]
  },
  {
   "cell_type": "code",
   "execution_count": 30,
   "metadata": {},
   "outputs": [
    {
     "data": {
      "text/plain": [
       "([<matplotlib.patches.Wedge at 0x1e7fec56550>,\n",
       "  <matplotlib.patches.Wedge at 0x1e7fec56a30>,\n",
       "  <matplotlib.patches.Wedge at 0x1e7fec56eb0>,\n",
       "  <matplotlib.patches.Wedge at 0x1e7fec65370>,\n",
       "  <matplotlib.patches.Wedge at 0x1e7fec657f0>,\n",
       "  <matplotlib.patches.Wedge at 0x1e7fec65c70>,\n",
       "  <matplotlib.patches.Wedge at 0x1e7fec71130>,\n",
       "  <matplotlib.patches.Wedge at 0x1e7fec715b0>,\n",
       "  <matplotlib.patches.Wedge at 0x1e7fec71a30>,\n",
       "  <matplotlib.patches.Wedge at 0x1e7fec71eb0>,\n",
       "  <matplotlib.patches.Wedge at 0x1e7fea85f70>,\n",
       "  <matplotlib.patches.Wedge at 0x1e7fec807c0>,\n",
       "  <matplotlib.patches.Wedge at 0x1e7fec80c40>],\n",
       " [Text(1.1, 0.0, 'S.No'),\n",
       "  Text(1.1, 0.0, 'model'),\n",
       "  Text(1.1, 0.0, 'mpg'),\n",
       "  Text(1.1, 0.0, 'cyl'),\n",
       "  Text(1.1, 0.0, 'disp'),\n",
       "  Text(1.1, 0.0, 'hp'),\n",
       "  Text(1.1, 0.0, 'drat'),\n",
       "  Text(1.1, 0.0, 'wt'),\n",
       "  Text(-1.1, 1.3471114790620887e-16, 'qsec'),\n",
       "  Text(1.1, -2.6942229581241775e-16, 'vs'),\n",
       "  Text(1.1, -2.6942229581241775e-16, 'am'),\n",
       "  Text(1.1, -2.6942229581241775e-16, 'gear'),\n",
       "  Text(1.1, -2.6942229581241775e-16, 'carb')])"
      ]
     },
     "execution_count": 30,
     "metadata": {},
     "output_type": "execute_result"
    },
    {
     "data": {
      "image/png": "[encoded data removed]",
      "text/plain": [
       "<Figure size 432x288 with 1 Axes>"
      ]
     },
     "metadata": {},
     "output_type": "display_data"
    }
   ],
   "source": [
    "plt.pie(x=data,labels=list(data.index))"
   ]
  },
  {
   "cell_type": "code",
   "execution_count": 40,
   "metadata": {},
   "outputs": [
    {
     "data": {
      "text/plain": [
       "(array([ 6., 12.,  8.,  2.]),\n",
       " array([10.4, 15.2, 20. , 24.8, 29.6]),\n",
       " <BarContainer object of 4 artists>)"
      ]
     },
     "execution_count": 40,
     "metadata": {},
     "output_type": "execute_result"
    },
    {
     "data": {
      "image/png": "[encoded data removed]",
      "text/plain": [
       "<Figure size 432x288 with 1 Axes>"
      ]
     },
     "metadata": {
      "needs_background": "light"
     },
     "output_type": "display_data"
    }
   ],
   "source": [
    "interval=math.ceil(df_cars['mpg'].max() - df_cars['mpg'].min())/5\n",
    "bins=np.arange(df_cars['mpg'].min(),df_cars['mpg'].max(),interval)\n",
    "plt.hist(x=df_cars['mpg'],bins=bins,color='r')"
   ]
  },
  {
   "cell_type": "code",
   "execution_count": 44,
   "metadata": {},
   "outputs": [
    {
     "data": {
      "image/png": "[encoded data removed]",
      "text/plain": [
       "<Figure size 432x288 with 1 Axes>"
      ]
     },
     "metadata": {
      "needs_background": "light"
     },
     "output_type": "display_data"
    }
   ],
   "source": [
    "plt.boxplot(x=df_cars['hp'],showmeans=True)\n",
    "plt.style.use('ggplot')"
   ]
  },
  {
   "cell_type": "markdown",
   "metadata": {},
   "source": [
    "# CASE STUDY 1\n"
   ]
  },
  {
   "cell_type": "code",
   "execution_count": 45,
   "metadata": {},
   "outputs": [],
   "source": [
    "df_cust=pd.read_csv(\"customer_churn.csv\")"
   ]
  },
  {
   "cell_type": "code",
   "execution_count": 46,
   "metadata": {},
   "outputs": [],
   "source": [
    "df_data=df_cust['Contract'].value_counts()"
   ]
  },
  {
   "cell_type": "code",
   "execution_count": 47,
   "metadata": {},
   "outputs": [
    {
     "data": {
      "text/plain": [
       "<BarContainer object of 3 artists>"
      ]
     },
     "execution_count": 47,
     "metadata": {},
     "output_type": "execute_result"
    },
    {
     "data": {
      "image/png": "[encoded data removed]",
      "text/plain": [
       "<Figure size 432x288 with 1 Axes>"
      ]
     },
     "metadata": {},
     "output_type": "display_data"
    }
   ],
   "source": [
    "plt.bar(df_data.index,df_data.values,color='orange')"
   ]
  },
  {
   "cell_type": "code",
   "execution_count": 54,
   "metadata": {},
   "outputs": [
    {
     "data": {
      "text/plain": [
       "(array([1617.,  234.,  579.,  601.,  664., 1031., 1051.,  862.,  393.]),\n",
       " array([ 18.25,  29.25,  40.25,  51.25,  62.25,  73.25,  84.25,  95.25,\n",
       "        106.25, 117.25]),\n",
       " <BarContainer object of 9 artists>)"
      ]
     },
     "execution_count": 54,
     "metadata": {},
     "output_type": "execute_result"
    },
    {
     "data": {
      "image/png": "[encoded data removed]",
      "text/plain": [
       "<Figure size 432x288 with 1 Axes>"
      ]
     },
     "metadata": {},
     "output_type": "display_data"
    }
   ],
   "source": [
    "interval=math.ceil((df_cust['MonthlyCharges'].max()-df_cust['MonthlyCharges'].min())/10)\n",
    "bins=np.arange(df_cust['MonthlyCharges'].min(),df_cust['MonthlyCharges'].max(),interval)\n",
    "plt.style.use('ggplot')\n",
    "plt.hist(df_cust['MonthlyCharges'],bins=bins,color='forestgreen')"
   ]
  },
  {
   "cell_type": "code",
   "execution_count": null,
   "metadata": {},
   "outputs": [],
   "source": [
    "plt.scatter(df_cust['tenure'],df_cust['TotalCharges'],color='olive')\n",
    "plt.show()"
   ]
  },
  {
   "cell_type": "code",
   "execution_count": null,
   "metadata": {},
   "outputs": [],
   "source": [
    "plt.box(df_cust['MonthlyCharges'],df_cust['PaymentMethod'],color='indigo')"
   ]
  }
 ],
 "metadata": {
  "kernelspec": {
   "display_name": "Python 3",
   "language": "python",
   "name": "python3"
  },
  "language_info": {
   "codemirror_mode": {
    "name": "ipython",
    "version": 3
   },
   "file_extension": ".py",
   "mimetype": "text/x-python",
   "name": "python",
   "nbconvert_exporter": "python",
   "pygments_lexer": "ipython3",
   "version": "3.8.5"
  }
 },
 "nbformat": 4,
 "nbformat_minor": 4
}
