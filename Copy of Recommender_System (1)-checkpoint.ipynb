{
 "cells": [
  {
   "cell_type": "markdown",
   "metadata": {
    "id": "VlgE51WDdNth"
   },
   "source": [
    "#  Recommendation System for Netflix Prize Dataset using SVD"
   ]
  },
  {
   "cell_type": "code",
   "execution_count": 2,
   "metadata": {
    "executionInfo": {
     "elapsed": 20,
     "status": "ok",
     "timestamp": 1637418498199,
     "user": {
      "displayName": "Priyadarshini Ramani",
      "photoUrl": "https://lh3.googleusercontent.com/a-/AOh14GggzNBofkyB7m9-jAHiPaAxXK805Wc2QnFep-vMYw=s64",
      "userId": "05892824697582018262"
     },
     "user_tz": -330
    },
    "id": "LkxyLvfodNtl"
   },
   "outputs": [],
   "source": [
    "# Import libraries\n",
    "import numpy as np\n",
    "import pandas as pd\n",
    "import matplotlib.pyplot as plt"
   ]
  },
  {
   "cell_type": "markdown",
   "metadata": {
    "id": "bcuQyKjOdNtm"
   },
   "source": [
    "# To load the 'combined_data_1' dataset after uploading it to Jupyter notebook"
   ]
  },
  {
   "cell_type": "code",
   "execution_count": 3,
   "metadata": {
    "colab": {
     "base_uri": "https://localhost:8080/",
     "height": 0
    },
    "executionInfo": {
     "elapsed": 18,
     "status": "error",
     "timestamp": 1637418498201,
     "user": {
      "displayName": "Priyadarshini Ramani",
      "photoUrl": "https://lh3.googleusercontent.com/a-/AOh14GggzNBofkyB7m9-jAHiPaAxXK805Wc2QnFep-vMYw=s64",
      "userId": "05892824697582018262"
     },
     "user_tz": -330
    },
    "id": "mAv4Zz-sdNtn",
    "outputId": "09299975-89bd-46e3-e6f4-99c40605e8de"
   },
   "outputs": [],
   "source": [
    "# Reading dataset file\n",
    "dataset = pd.read_csv(r'C:\\Users\\Priyadarshini\\Downloads\\Python datasets\\neflix\\combined_data_nf.txt',header = None, names = ['Cust_Id', 'Rating'], usecols = [0,1])\n",
    "\n",
    "# Convert Ratings column to a float\n",
    "dataset['Rating'] = dataset['Rating'].astype(float)"
   ]
  },
  {
   "cell_type": "code",
   "execution_count": 4,
   "metadata": {
    "id": "-NTqqQC3dNtn",
    "outputId": "eee7996d-872d-4d98-9ab8-3ad54205fcb2"
   },
   "outputs": [
    {
     "data": {
      "text/plain": [
       "Cust_Id     object\n",
       "Rating     float64\n",
       "dtype: object"
      ]
     },
     "execution_count": 4,
     "metadata": {},
     "output_type": "execute_result"
    }
   ],
   "source": [
    "#To print the datatype of columns\n",
    "dataset.dtypes"
   ]
  },
  {
   "cell_type": "code",
   "execution_count": 5,
   "metadata": {
    "id": "UPwC_bpudNto",
    "outputId": "9b882499-c91e-49c1-e922-dceed76728c6"
   },
   "outputs": [
    {
     "data": {
      "text/plain": [
       "(24058263, 2)"
      ]
     },
     "execution_count": 5,
     "metadata": {},
     "output_type": "execute_result"
    }
   ],
   "source": [
    "#To inspect the shape of the datset\n",
    "dataset.shape\n",
    "\n"
   ]
  },
  {
   "cell_type": "code",
   "execution_count": 6,
   "metadata": {
    "id": "r7RunPncdNtp",
    "outputId": "78ac3166-5bb7-45e1-f7c9-12d3adbc3f55"
   },
   "outputs": [
    {
     "data": {
      "text/html": [
       "<div>\n",
       "<style scoped>\n",
       "    .dataframe tbody tr th:only-of-type {\n",
       "        vertical-align: middle;\n",
       "    }\n",
       "\n",
       "    .dataframe tbody tr th {\n",
       "        vertical-align: top;\n",
       "    }\n",
       "\n",
       "    .dataframe thead th {\n",
       "        text-align: right;\n",
       "    }\n",
       "</style>\n",
       "<table border=\"1\" class=\"dataframe\">\n",
       "  <thead>\n",
       "    <tr style=\"text-align: right;\">\n",
       "      <th></th>\n",
       "      <th>Cust_Id</th>\n",
       "      <th>Rating</th>\n",
       "    </tr>\n",
       "  </thead>\n",
       "  <tbody>\n",
       "    <tr>\n",
       "      <th>0</th>\n",
       "      <td>1:</td>\n",
       "      <td>NaN</td>\n",
       "    </tr>\n",
       "    <tr>\n",
       "      <th>1</th>\n",
       "      <td>1488844</td>\n",
       "      <td>3.0</td>\n",
       "    </tr>\n",
       "    <tr>\n",
       "      <th>2</th>\n",
       "      <td>822109</td>\n",
       "      <td>5.0</td>\n",
       "    </tr>\n",
       "    <tr>\n",
       "      <th>3</th>\n",
       "      <td>885013</td>\n",
       "      <td>4.0</td>\n",
       "    </tr>\n",
       "    <tr>\n",
       "      <th>4</th>\n",
       "      <td>30878</td>\n",
       "      <td>4.0</td>\n",
       "    </tr>\n",
       "  </tbody>\n",
       "</table>\n",
       "</div>"
      ],
      "text/plain": [
       "   Cust_Id  Rating\n",
       "0       1:     NaN\n",
       "1  1488844     3.0\n",
       "2   822109     5.0\n",
       "3   885013     4.0\n",
       "4    30878     4.0"
      ]
     },
     "execution_count": 6,
     "metadata": {},
     "output_type": "execute_result"
    }
   ],
   "source": [
    "#To print the head of dataset\n",
    "dataset.head()"
   ]
  },
  {
   "cell_type": "code",
   "execution_count": 7,
   "metadata": {
    "id": "iH_PazdodNtp",
    "outputId": "e6bc3d54-dd89-4c72-9c03-3692e7a484c3"
   },
   "outputs": [
    {
     "data": {
      "text/html": [
       "<div>\n",
       "<style scoped>\n",
       "    .dataframe tbody tr th:only-of-type {\n",
       "        vertical-align: middle;\n",
       "    }\n",
       "\n",
       "    .dataframe tbody tr th {\n",
       "        vertical-align: top;\n",
       "    }\n",
       "\n",
       "    .dataframe thead th {\n",
       "        text-align: right;\n",
       "    }\n",
       "</style>\n",
       "<table border=\"1\" class=\"dataframe\">\n",
       "  <thead>\n",
       "    <tr style=\"text-align: right;\">\n",
       "      <th></th>\n",
       "      <th>count</th>\n",
       "    </tr>\n",
       "    <tr>\n",
       "      <th>Rating</th>\n",
       "      <th></th>\n",
       "    </tr>\n",
       "  </thead>\n",
       "  <tbody>\n",
       "    <tr>\n",
       "      <th>1.0</th>\n",
       "      <td>1118186</td>\n",
       "    </tr>\n",
       "    <tr>\n",
       "      <th>2.0</th>\n",
       "      <td>2439073</td>\n",
       "    </tr>\n",
       "    <tr>\n",
       "      <th>3.0</th>\n",
       "      <td>6904181</td>\n",
       "    </tr>\n",
       "    <tr>\n",
       "      <th>4.0</th>\n",
       "      <td>8085741</td>\n",
       "    </tr>\n",
       "    <tr>\n",
       "      <th>5.0</th>\n",
       "      <td>5506583</td>\n",
       "    </tr>\n",
       "  </tbody>\n",
       "</table>\n",
       "</div>"
      ],
      "text/plain": [
       "          count\n",
       "Rating         \n",
       "1.0     1118186\n",
       "2.0     2439073\n",
       "3.0     6904181\n",
       "4.0     8085741\n",
       "5.0     5506583"
      ]
     },
     "execution_count": 7,
     "metadata": {},
     "output_type": "execute_result"
    }
   ],
   "source": [
    "#To find the distribution of different ratings in the datset\n",
    "p = dataset.groupby('Rating')['Rating'].agg(['count'])\n",
    "\n",
    "p"
   ]
  },
  {
   "cell_type": "code",
   "execution_count": 9,
   "metadata": {
    "id": "588vO_4ddNtq",
    "outputId": "b8639907-3275-4043-f7d7-e1e264892ee2"
   },
   "outputs": [
    {
     "data": {
      "text/plain": [
       "4499"
      ]
     },
     "execution_count": 9,
     "metadata": {},
     "output_type": "execute_result"
    }
   ],
   "source": [
    "# get movie count by counting nan values\n",
    "\n",
    "movie_count = dataset.isnull().sum()[1]\n",
    "\n",
    "movie_count"
   ]
  },
  {
   "cell_type": "code",
   "execution_count": 12,
   "metadata": {},
   "outputs": [
    {
     "data": {
      "text/plain": [
       "475257"
      ]
     },
     "execution_count": 12,
     "metadata": {},
     "output_type": "execute_result"
    }
   ],
   "source": [
    "dataset['Cust_Id'].nunique()"
   ]
  },
  {
   "cell_type": "code",
   "execution_count": 16,
   "metadata": {
    "id": "cTm-f3WZdNtr",
    "outputId": "7b7f7208-1bda-4842-b1b8-729efca0e4c6"
   },
   "outputs": [
    {
     "data": {
      "text/plain": [
       "Cust_Id    475257\n",
       "Rating     470758\n",
       "dtype: int64"
      ]
     },
     "execution_count": 16,
     "metadata": {},
     "output_type": "execute_result"
    }
   ],
   "source": [
    "# get customer count\n",
    "cust_count = dataset['Cust_Id'].nunique()-movie_count\n",
    "\n",
    "cust_count"
   ]
  },
  {
   "cell_type": "code",
   "execution_count": 17,
   "metadata": {
    "id": "FKAjfdTodNts",
    "outputId": "6a2531f8-ff98-4af1-a2bd-a152086f350d"
   },
   "outputs": [
    {
     "data": {
      "text/plain": [
       "Cust_Id    24058263\n",
       "Rating     24053764\n",
       "dtype: int64"
      ]
     },
     "execution_count": 17,
     "metadata": {},
     "output_type": "execute_result"
    }
   ],
   "source": [
    "# get rating count\n",
    "\n",
    "rating_count = dataset['Cust_Id'].count() - movie_count\n",
    "\n",
    "rating_count"
   ]
  },
  {
   "cell_type": "markdown",
   "metadata": {
    "id": "n__41wvXdNts"
   },
   "source": [
    "## To plot the distribution of the ratings in as a bar plot"
   ]
  },
  {
   "cell_type": "code",
   "execution_count": 18,
   "metadata": {
    "id": "ojcdC69MdNtt",
    "outputId": "55d1af2b-0840-4966-b2cd-3fb4569aadf0"
   },
   "outputs": [
    {
     "data": {
      "text/plain": [
       "(0.0, 8490028.05, -0.5, 4.5)"
      ]
     },
     "execution_count": 18,
     "metadata": {},
     "output_type": "execute_result"
    },
    {
     "data": {
      "image/png": "[encoded data removed]",
      "text/plain": [
       "<Figure size 1080x720 with 1 Axes>"
      ]
     },
     "metadata": {
      "needs_background": "light"
     },
     "output_type": "display_data"
    }
   ],
   "source": [
    "ax = p.plot(kind = 'barh', legend = False, figsize = (15,10))\n",
    "plt.title(f'Total pool: {movie_count} Movies, {cust_count} customers, {rating_count} ratings given', fontsize=20)\n",
    "plt.axis('off')\n",
    "\n",
    "for i in range(1,6):\n",
    "    ax.text(p.iloc[i-1][0]/4, i-1, 'Rating {}: {:.0f}%'.format(i, p.iloc[i-1][0]*100 / p.sum()[0]), color = 'white', weight = 'bold')"
   ]
  },
  {
   "cell_type": "markdown",
   "metadata": {
    "id": "hfzxlKP8dNtt"
   },
   "source": [
    "# To create a numpy array containing movie ids corresponding to the rows in the 'ratings' dataset"
   ]
  },
  {
   "cell_type": "code",
   "execution_count": null,
   "metadata": {
    "id": "XT2dlza5dNtu",
    "outputId": "0a845cc2-4020-4036-98e1-d97776e4e239"
   },
   "outputs": [
    {
     "data": {
      "text/html": [
       "<div>\n",
       "<style scoped>\n",
       "    .dataframe tbody tr th:only-of-type {\n",
       "        vertical-align: middle;\n",
       "    }\n",
       "\n",
       "    .dataframe tbody tr th {\n",
       "        vertical-align: top;\n",
       "    }\n",
       "\n",
       "    .dataframe thead th {\n",
       "        text-align: right;\n",
       "    }\n",
       "</style>\n",
       "<table border=\"1\" class=\"dataframe\">\n",
       "  <thead>\n",
       "    <tr style=\"text-align: right;\">\n",
       "      <th></th>\n",
       "      <th>Rating</th>\n",
       "    </tr>\n",
       "  </thead>\n",
       "  <tbody>\n",
       "    <tr>\n",
       "      <th>0</th>\n",
       "      <td>True</td>\n",
       "    </tr>\n",
       "    <tr>\n",
       "      <th>1</th>\n",
       "      <td>False</td>\n",
       "    </tr>\n",
       "    <tr>\n",
       "      <th>2</th>\n",
       "      <td>False</td>\n",
       "    </tr>\n",
       "    <tr>\n",
       "      <th>3</th>\n",
       "      <td>False</td>\n",
       "    </tr>\n",
       "    <tr>\n",
       "      <th>4</th>\n",
       "      <td>False</td>\n",
       "    </tr>\n",
       "  </tbody>\n",
       "</table>\n",
       "</div>"
      ],
      "text/plain": [
       "   Rating\n",
       "0    True\n",
       "1   False\n",
       "2   False\n",
       "3   False\n",
       "4   False"
      ]
     },
     "execution_count": 11,
     "metadata": {},
     "output_type": "execute_result"
    }
   ],
   "source": [
    "# To count all the 'nan' values in the Ratings column in the 'ratings' dataset\n",
    "df_nan = pd.DataFrame(pd.isnull(dataset.Rating), )\n",
    "\n",
    "df_nan.head()"
   ]
  },
  {
   "cell_type": "code",
   "execution_count": null,
   "metadata": {
    "id": "CPdtfukldNtu",
    "outputId": "75958d09-7574-4e69-c5be-46bcac5cca8b"
   },
   "outputs": [
    {
     "data": {
      "text/plain": [
       "(4499, 1)"
      ]
     },
     "execution_count": 12,
     "metadata": {},
     "output_type": "execute_result"
    }
   ],
   "source": [
    "# To store the index of all the rows containing 'nan' values\n",
    "df_nan = df_nan[df_nan['Rating'] == True]\n",
    "\n",
    "\n",
    "df_nan.shape"
   ]
  },
  {
   "cell_type": "code",
   "execution_count": null,
   "metadata": {
    "id": "YjnMlZxQdNtu",
    "outputId": "80407573-84ea-4c8f-e65b-963e2e93c35e"
   },
   "outputs": [
    {
     "data": {
      "text/html": [
       "<div>\n",
       "<style scoped>\n",
       "    .dataframe tbody tr th:only-of-type {\n",
       "        vertical-align: middle;\n",
       "    }\n",
       "\n",
       "    .dataframe tbody tr th {\n",
       "        vertical-align: top;\n",
       "    }\n",
       "\n",
       "    .dataframe thead th {\n",
       "        text-align: right;\n",
       "    }\n",
       "</style>\n",
       "<table border=\"1\" class=\"dataframe\">\n",
       "  <thead>\n",
       "    <tr style=\"text-align: right;\">\n",
       "      <th></th>\n",
       "      <th>index</th>\n",
       "      <th>Rating</th>\n",
       "    </tr>\n",
       "  </thead>\n",
       "  <tbody>\n",
       "    <tr>\n",
       "      <th>0</th>\n",
       "      <td>0</td>\n",
       "      <td>True</td>\n",
       "    </tr>\n",
       "    <tr>\n",
       "      <th>1</th>\n",
       "      <td>548</td>\n",
       "      <td>True</td>\n",
       "    </tr>\n",
       "    <tr>\n",
       "      <th>2</th>\n",
       "      <td>694</td>\n",
       "      <td>True</td>\n",
       "    </tr>\n",
       "    <tr>\n",
       "      <th>3</th>\n",
       "      <td>2707</td>\n",
       "      <td>True</td>\n",
       "    </tr>\n",
       "    <tr>\n",
       "      <th>4</th>\n",
       "      <td>2850</td>\n",
       "      <td>True</td>\n",
       "    </tr>\n",
       "  </tbody>\n",
       "</table>\n",
       "</div>"
      ],
      "text/plain": [
       "   index  Rating\n",
       "0      0    True\n",
       "1    548    True\n",
       "2    694    True\n",
       "3   2707    True\n",
       "4   2850    True"
      ]
     },
     "execution_count": 13,
     "metadata": {},
     "output_type": "execute_result"
    }
   ],
   "source": [
    "# To reset the index of the dataframe\n",
    "df_nan = df_nan.reset_index()\n",
    "\n",
    "\n",
    "\n",
    "df_nan.head()"
   ]
  },
  {
   "cell_type": "code",
   "execution_count": null,
   "metadata": {
    "id": "im33OMKadNtv",
    "outputId": "386ad542-9377-4c87-f98a-683c66fa0abb"
   },
   "outputs": [
    {
     "name": "stdout",
     "output_type": "stream",
     "text": [
      "Movie numpy: [1.000e+00 1.000e+00 1.000e+00 ... 4.499e+03 4.499e+03 4.499e+03]\n",
      "Length: 24053764\n"
     ]
    }
   ],
   "source": [
    "#To create a numpy array containing movie ids according the 'ratings' dataset\n",
    "\n",
    "movie_np = []\n",
    "movie_id = 1\n",
    "\n",
    "for i,j in zip(df_nan['index'][1:],df_nan['index'][:-1]):\n",
    "    # numpy approach\n",
    "    temp = np.full((1,i-j-1), movie_id)\n",
    "    movie_np = np.append(movie_np, temp)\n",
    "    movie_id += 1\n",
    "\n",
    "# Account for last record and corresponding length\n",
    "# numpy approach\n",
    "last_record = np.full((1,len(dataset) - df_nan.iloc[-1, 0] - 1),movie_id)\n",
    "movie_np = np.append(movie_np, last_record)\n",
    "\n",
    "print(f'Movie numpy: {movie_np}')\n",
    "print(f'Length: {len(movie_np)}')"
   ]
  },
  {
   "cell_type": "code",
   "execution_count": null,
   "metadata": {
    "id": "X9loygCtdNtv"
   },
   "outputs": [],
   "source": [
    "#x =zip(df_nan['index'][1:],df_nan['index'][:-1])"
   ]
  },
  {
   "cell_type": "code",
   "execution_count": null,
   "metadata": {
    "id": "UbFOHbaVdNtv"
   },
   "outputs": [],
   "source": [
    "#temp = np.full((1,547), 1)"
   ]
  },
  {
   "cell_type": "code",
   "execution_count": null,
   "metadata": {
    "id": "pNOiHkuudNtv"
   },
   "outputs": [],
   "source": [
    "#print(temp)"
   ]
  },
  {
   "cell_type": "code",
   "execution_count": null,
   "metadata": {
    "id": "w11arKX7dNtw"
   },
   "outputs": [],
   "source": [
    "#tuple(x)"
   ]
  },
  {
   "cell_type": "code",
   "execution_count": null,
   "metadata": {
    "id": "fn35gijJdNtw",
    "outputId": "951d1431-625a-4bd9-856d-afbf756449f2"
   },
   "outputs": [
    {
     "name": "stdout",
     "output_type": "stream",
     "text": [
      "-Dataset examples-\n"
     ]
    },
    {
     "data": {
      "text/html": [
       "<div>\n",
       "<style scoped>\n",
       "    .dataframe tbody tr th:only-of-type {\n",
       "        vertical-align: middle;\n",
       "    }\n",
       "\n",
       "    .dataframe tbody tr th {\n",
       "        vertical-align: top;\n",
       "    }\n",
       "\n",
       "    .dataframe thead th {\n",
       "        text-align: right;\n",
       "    }\n",
       "</style>\n",
       "<table border=\"1\" class=\"dataframe\">\n",
       "  <thead>\n",
       "    <tr style=\"text-align: right;\">\n",
       "      <th></th>\n",
       "      <th>Cust_Id</th>\n",
       "      <th>Rating</th>\n",
       "      <th>Movie_Id</th>\n",
       "    </tr>\n",
       "  </thead>\n",
       "  <tbody>\n",
       "    <tr>\n",
       "      <th>1</th>\n",
       "      <td>1488844</td>\n",
       "      <td>3.0</td>\n",
       "      <td>1</td>\n",
       "    </tr>\n",
       "    <tr>\n",
       "      <th>2</th>\n",
       "      <td>822109</td>\n",
       "      <td>5.0</td>\n",
       "      <td>1</td>\n",
       "    </tr>\n",
       "    <tr>\n",
       "      <th>3</th>\n",
       "      <td>885013</td>\n",
       "      <td>4.0</td>\n",
       "      <td>1</td>\n",
       "    </tr>\n",
       "    <tr>\n",
       "      <th>4</th>\n",
       "      <td>30878</td>\n",
       "      <td>4.0</td>\n",
       "      <td>1</td>\n",
       "    </tr>\n",
       "    <tr>\n",
       "      <th>5</th>\n",
       "      <td>823519</td>\n",
       "      <td>3.0</td>\n",
       "      <td>1</td>\n",
       "    </tr>\n",
       "  </tbody>\n",
       "</table>\n",
       "</div>"
      ],
      "text/plain": [
       "   Cust_Id  Rating  Movie_Id\n",
       "1  1488844     3.0         1\n",
       "2   822109     5.0         1\n",
       "3   885013     4.0         1\n",
       "4    30878     4.0         1\n",
       "5   823519     3.0         1"
      ]
     },
     "execution_count": 15,
     "metadata": {},
     "output_type": "execute_result"
    }
   ],
   "source": [
    "#To append the above created array to the datset after removing the 'nan' rows\n",
    "dataset = dataset[pd.notnull(dataset['Rating'])]\n",
    "\n",
    "dataset['Movie_Id'] = movie_np.astype(int)\n",
    "dataset['Cust_Id'] =dataset['Cust_Id'].astype(int)\n",
    "print('-Dataset examples-')\n",
    "dataset.head()"
   ]
  },
  {
   "cell_type": "code",
   "execution_count": null,
   "metadata": {
    "id": "BE0o26JodNtw",
    "outputId": "643e7dda-9135-4b73-a6e4-f5298d4b652e"
   },
   "outputs": [
    {
     "data": {
      "text/plain": [
       "(24053764, 3)"
      ]
     },
     "execution_count": 16,
     "metadata": {},
     "output_type": "execute_result"
    }
   ],
   "source": [
    "dataset.shape"
   ]
  },
  {
   "cell_type": "markdown",
   "metadata": {
    "id": "PwIiCXLLdNtw"
   },
   "source": [
    "# Data Cleaning"
   ]
  },
  {
   "cell_type": "code",
   "execution_count": null,
   "metadata": {
    "id": "DKjU42uxdNtw"
   },
   "outputs": [],
   "source": [
    "f = ['count','mean']\n",
    "\n"
   ]
  },
  {
   "cell_type": "code",
   "execution_count": null,
   "metadata": {
    "id": "HbXlxxjddNtx",
    "outputId": "1cdbe89b-d10e-4e12-c447-0fe28ef9591c"
   },
   "outputs": [
    {
     "name": "stdout",
     "output_type": "stream",
     "text": [
      "Movie minimum times of review: 1799.0\n"
     ]
    }
   ],
   "source": [
    "#To create a list of all the movies rated less often(only include top 30% rated movies)\n",
    "dataset_movie_summary = dataset.groupby('Movie_Id')['Rating'].agg(f)\n",
    "\n",
    "dataset_movie_summary.index = dataset_movie_summary.index.map(int)\n",
    "\n",
    "movie_benchmark = round(dataset_movie_summary['count'].quantile(0.7),0)\n",
    "\n",
    "drop_movie_list = dataset_movie_summary[dataset_movie_summary['count'] < movie_benchmark].index\n",
    "\n",
    "print('Movie minimum times of review: {}'.format(movie_benchmark))"
   ]
  },
  {
   "cell_type": "code",
   "execution_count": null,
   "metadata": {
    "id": "rRPcBW4EdNtx"
   },
   "outputs": [],
   "source": []
  },
  {
   "cell_type": "code",
   "execution_count": null,
   "metadata": {
    "id": "zmd6jgG2dNtx"
   },
   "outputs": [],
   "source": []
  },
  {
   "cell_type": "code",
   "execution_count": null,
   "metadata": {
    "id": "KORonzysdNtx",
    "outputId": "73a6c406-d6f0-440a-e3a5-08e94047b152"
   },
   "outputs": [
    {
     "name": "stdout",
     "output_type": "stream",
     "text": [
      "Customer minimum times of review: 52.0\n"
     ]
    }
   ],
   "source": [
    "#To create a list of all the inactive users(users who rate less often)\n",
    "dataset_cust_summary = dataset.groupby('Cust_Id')['Rating'].agg(f)\n",
    "dataset_cust_summary.index = dataset_cust_summary.index.map(int)\n",
    "cust_benchmark = round(dataset_cust_summary['count'].quantile(0.7),0)\n",
    "drop_cust_list = dataset_cust_summary[dataset_cust_summary['count'] < cust_benchmark].index\n",
    "\n",
    "print(f'Customer minimum times of review: {cust_benchmark}')"
   ]
  },
  {
   "cell_type": "code",
   "execution_count": null,
   "metadata": {
    "id": "Gol8oxlXdNtx",
    "outputId": "b44bdda6-e1df-44a7-b972-1e175650056a"
   },
   "outputs": [
    {
     "name": "stdout",
     "output_type": "stream",
     "text": [
      "Original Shape: (24053764, 3)\n"
     ]
    }
   ],
   "source": [
    "print(f'Original Shape: {dataset.shape}')\n"
   ]
  },
  {
   "cell_type": "code",
   "execution_count": null,
   "metadata": {
    "id": "_RZFI7P-dNtx",
    "outputId": "7515bb7f-42e1-4fd5-d274-5f4d7998679f"
   },
   "outputs": [
    {
     "name": "stdout",
     "output_type": "stream",
     "text": [
      "After Trim Shape: (17337458, 3)\n"
     ]
    }
   ],
   "source": [
    "dataset = dataset[~dataset['Movie_Id'].isin(drop_movie_list)]\n",
    "dataset = dataset[~dataset['Cust_Id'].isin(drop_cust_list)]\n",
    "print('After Trim Shape: {}'.format(dataset.shape))"
   ]
  },
  {
   "cell_type": "code",
   "execution_count": null,
   "metadata": {
    "id": "3jJYPljrdNty",
    "outputId": "13642b6e-6e50-4749-cdb4-242dd5b6e489"
   },
   "outputs": [
    {
     "name": "stdout",
     "output_type": "stream",
     "text": [
      "-Data Examples-\n"
     ]
    },
    {
     "data": {
      "text/html": [
       "<div>\n",
       "<style scoped>\n",
       "    .dataframe tbody tr th:only-of-type {\n",
       "        vertical-align: middle;\n",
       "    }\n",
       "\n",
       "    .dataframe tbody tr th {\n",
       "        vertical-align: top;\n",
       "    }\n",
       "\n",
       "    .dataframe thead th {\n",
       "        text-align: right;\n",
       "    }\n",
       "</style>\n",
       "<table border=\"1\" class=\"dataframe\">\n",
       "  <thead>\n",
       "    <tr style=\"text-align: right;\">\n",
       "      <th></th>\n",
       "      <th>Cust_Id</th>\n",
       "      <th>Rating</th>\n",
       "      <th>Movie_Id</th>\n",
       "    </tr>\n",
       "  </thead>\n",
       "  <tbody>\n",
       "    <tr>\n",
       "      <th>696</th>\n",
       "      <td>712664</td>\n",
       "      <td>5.0</td>\n",
       "      <td>3</td>\n",
       "    </tr>\n",
       "    <tr>\n",
       "      <th>697</th>\n",
       "      <td>1331154</td>\n",
       "      <td>4.0</td>\n",
       "      <td>3</td>\n",
       "    </tr>\n",
       "    <tr>\n",
       "      <th>698</th>\n",
       "      <td>2632461</td>\n",
       "      <td>3.0</td>\n",
       "      <td>3</td>\n",
       "    </tr>\n",
       "    <tr>\n",
       "      <th>699</th>\n",
       "      <td>44937</td>\n",
       "      <td>5.0</td>\n",
       "      <td>3</td>\n",
       "    </tr>\n",
       "    <tr>\n",
       "      <th>700</th>\n",
       "      <td>656399</td>\n",
       "      <td>4.0</td>\n",
       "      <td>3</td>\n",
       "    </tr>\n",
       "  </tbody>\n",
       "</table>\n",
       "</div>"
      ],
      "text/plain": [
       "     Cust_Id  Rating  Movie_Id\n",
       "696   712664     5.0         3\n",
       "697  1331154     4.0         3\n",
       "698  2632461     3.0         3\n",
       "699    44937     5.0         3\n",
       "700   656399     4.0         3"
      ]
     },
     "execution_count": 28,
     "metadata": {},
     "output_type": "execute_result"
    }
   ],
   "source": [
    "\n",
    "print('-Data Examples-')\n",
    "dataset.head()"
   ]
  },
  {
   "cell_type": "markdown",
   "metadata": {
    "id": "BKtANEUudNty"
   },
   "source": [
    "# Create ratings matrix for 'ratings' matrix with Rows = userId, Columns = movieId"
   ]
  },
  {
   "cell_type": "code",
   "execution_count": null,
   "metadata": {
    "id": "uFNa9y6AdNty",
    "outputId": "6d1f3c38-bd0d-4613-9d4b-3e5395d411a7"
   },
   "outputs": [
    {
     "name": "stdout",
     "output_type": "stream",
     "text": [
      "(143458, 1350)\n"
     ]
    }
   ],
   "source": [
    "df_p = pd.pivot_table(dataset,values='Rating',index='Cust_Id',columns='Movie_Id')\n",
    "\n",
    "print(df_p.shape)"
   ]
  },
  {
   "cell_type": "code",
   "execution_count": null,
   "metadata": {
    "id": "z3zhlSiBdNty",
    "outputId": "8bc43a1b-a223-4e0c-f570-9579c5a9c1c0"
   },
   "outputs": [
    {
     "data": {
      "text/html": [
       "<div>\n",
       "<style scoped>\n",
       "    .dataframe tbody tr th:only-of-type {\n",
       "        vertical-align: middle;\n",
       "    }\n",
       "\n",
       "    .dataframe tbody tr th {\n",
       "        vertical-align: top;\n",
       "    }\n",
       "\n",
       "    .dataframe thead th {\n",
       "        text-align: right;\n",
       "    }\n",
       "</style>\n",
       "<table border=\"1\" class=\"dataframe\">\n",
       "  <thead>\n",
       "    <tr style=\"text-align: right;\">\n",
       "      <th>Movie_Id</th>\n",
       "      <th>3</th>\n",
       "      <th>8</th>\n",
       "      <th>16</th>\n",
       "      <th>17</th>\n",
       "      <th>18</th>\n",
       "      <th>26</th>\n",
       "      <th>28</th>\n",
       "      <th>30</th>\n",
       "      <th>32</th>\n",
       "      <th>33</th>\n",
       "      <th>...</th>\n",
       "      <th>4472</th>\n",
       "      <th>4474</th>\n",
       "      <th>4478</th>\n",
       "      <th>4479</th>\n",
       "      <th>4485</th>\n",
       "      <th>4488</th>\n",
       "      <th>4490</th>\n",
       "      <th>4492</th>\n",
       "      <th>4493</th>\n",
       "      <th>4496</th>\n",
       "    </tr>\n",
       "    <tr>\n",
       "      <th>Cust_Id</th>\n",
       "      <th></th>\n",
       "      <th></th>\n",
       "      <th></th>\n",
       "      <th></th>\n",
       "      <th></th>\n",
       "      <th></th>\n",
       "      <th></th>\n",
       "      <th></th>\n",
       "      <th></th>\n",
       "      <th></th>\n",
       "      <th></th>\n",
       "      <th></th>\n",
       "      <th></th>\n",
       "      <th></th>\n",
       "      <th></th>\n",
       "      <th></th>\n",
       "      <th></th>\n",
       "      <th></th>\n",
       "      <th></th>\n",
       "      <th></th>\n",
       "      <th></th>\n",
       "    </tr>\n",
       "  </thead>\n",
       "  <tbody>\n",
       "    <tr>\n",
       "      <th>6</th>\n",
       "      <td>NaN</td>\n",
       "      <td>NaN</td>\n",
       "      <td>NaN</td>\n",
       "      <td>NaN</td>\n",
       "      <td>NaN</td>\n",
       "      <td>NaN</td>\n",
       "      <td>NaN</td>\n",
       "      <td>3.0</td>\n",
       "      <td>NaN</td>\n",
       "      <td>NaN</td>\n",
       "      <td>...</td>\n",
       "      <td>3.0</td>\n",
       "      <td>NaN</td>\n",
       "      <td>NaN</td>\n",
       "      <td>NaN</td>\n",
       "      <td>NaN</td>\n",
       "      <td>NaN</td>\n",
       "      <td>NaN</td>\n",
       "      <td>NaN</td>\n",
       "      <td>NaN</td>\n",
       "      <td>NaN</td>\n",
       "    </tr>\n",
       "    <tr>\n",
       "      <th>7</th>\n",
       "      <td>NaN</td>\n",
       "      <td>5.0</td>\n",
       "      <td>NaN</td>\n",
       "      <td>NaN</td>\n",
       "      <td>NaN</td>\n",
       "      <td>NaN</td>\n",
       "      <td>4.0</td>\n",
       "      <td>5.0</td>\n",
       "      <td>NaN</td>\n",
       "      <td>NaN</td>\n",
       "      <td>...</td>\n",
       "      <td>3.0</td>\n",
       "      <td>NaN</td>\n",
       "      <td>NaN</td>\n",
       "      <td>5.0</td>\n",
       "      <td>NaN</td>\n",
       "      <td>NaN</td>\n",
       "      <td>NaN</td>\n",
       "      <td>NaN</td>\n",
       "      <td>NaN</td>\n",
       "      <td>NaN</td>\n",
       "    </tr>\n",
       "    <tr>\n",
       "      <th>79</th>\n",
       "      <td>NaN</td>\n",
       "      <td>NaN</td>\n",
       "      <td>NaN</td>\n",
       "      <td>NaN</td>\n",
       "      <td>NaN</td>\n",
       "      <td>NaN</td>\n",
       "      <td>NaN</td>\n",
       "      <td>3.0</td>\n",
       "      <td>NaN</td>\n",
       "      <td>NaN</td>\n",
       "      <td>...</td>\n",
       "      <td>4.0</td>\n",
       "      <td>NaN</td>\n",
       "      <td>NaN</td>\n",
       "      <td>NaN</td>\n",
       "      <td>NaN</td>\n",
       "      <td>NaN</td>\n",
       "      <td>4.0</td>\n",
       "      <td>NaN</td>\n",
       "      <td>NaN</td>\n",
       "      <td>NaN</td>\n",
       "    </tr>\n",
       "    <tr>\n",
       "      <th>97</th>\n",
       "      <td>NaN</td>\n",
       "      <td>NaN</td>\n",
       "      <td>NaN</td>\n",
       "      <td>NaN</td>\n",
       "      <td>NaN</td>\n",
       "      <td>NaN</td>\n",
       "      <td>NaN</td>\n",
       "      <td>NaN</td>\n",
       "      <td>NaN</td>\n",
       "      <td>NaN</td>\n",
       "      <td>...</td>\n",
       "      <td>NaN</td>\n",
       "      <td>NaN</td>\n",
       "      <td>NaN</td>\n",
       "      <td>NaN</td>\n",
       "      <td>NaN</td>\n",
       "      <td>NaN</td>\n",
       "      <td>NaN</td>\n",
       "      <td>NaN</td>\n",
       "      <td>NaN</td>\n",
       "      <td>NaN</td>\n",
       "    </tr>\n",
       "    <tr>\n",
       "      <th>134</th>\n",
       "      <td>NaN</td>\n",
       "      <td>NaN</td>\n",
       "      <td>NaN</td>\n",
       "      <td>NaN</td>\n",
       "      <td>NaN</td>\n",
       "      <td>NaN</td>\n",
       "      <td>5.0</td>\n",
       "      <td>NaN</td>\n",
       "      <td>NaN</td>\n",
       "      <td>NaN</td>\n",
       "      <td>...</td>\n",
       "      <td>NaN</td>\n",
       "      <td>NaN</td>\n",
       "      <td>NaN</td>\n",
       "      <td>NaN</td>\n",
       "      <td>NaN</td>\n",
       "      <td>NaN</td>\n",
       "      <td>NaN</td>\n",
       "      <td>NaN</td>\n",
       "      <td>NaN</td>\n",
       "      <td>NaN</td>\n",
       "    </tr>\n",
       "  </tbody>\n",
       "</table>\n",
       "<p>5 rows × 1350 columns</p>\n",
       "</div>"
      ],
      "text/plain": [
       "Movie_Id  3     8     16    17    18    26    28    30    32    33    ...  \\\n",
       "Cust_Id                                                               ...   \n",
       "6          NaN   NaN   NaN   NaN   NaN   NaN   NaN   3.0   NaN   NaN  ...   \n",
       "7          NaN   5.0   NaN   NaN   NaN   NaN   4.0   5.0   NaN   NaN  ...   \n",
       "79         NaN   NaN   NaN   NaN   NaN   NaN   NaN   3.0   NaN   NaN  ...   \n",
       "97         NaN   NaN   NaN   NaN   NaN   NaN   NaN   NaN   NaN   NaN  ...   \n",
       "134        NaN   NaN   NaN   NaN   NaN   NaN   5.0   NaN   NaN   NaN  ...   \n",
       "\n",
       "Movie_Id  4472  4474  4478  4479  4485  4488  4490  4492  4493  4496  \n",
       "Cust_Id                                                               \n",
       "6          3.0   NaN   NaN   NaN   NaN   NaN   NaN   NaN   NaN   NaN  \n",
       "7          3.0   NaN   NaN   5.0   NaN   NaN   NaN   NaN   NaN   NaN  \n",
       "79         4.0   NaN   NaN   NaN   NaN   NaN   4.0   NaN   NaN   NaN  \n",
       "97         NaN   NaN   NaN   NaN   NaN   NaN   NaN   NaN   NaN   NaN  \n",
       "134        NaN   NaN   NaN   NaN   NaN   NaN   NaN   NaN   NaN   NaN  \n",
       "\n",
       "[5 rows x 1350 columns]"
      ]
     },
     "execution_count": 30,
     "metadata": {},
     "output_type": "execute_result"
    }
   ],
   "source": [
    "df_p.head()"
   ]
  },
  {
   "cell_type": "markdown",
   "metadata": {
    "id": "yhPqMFhZdNty"
   },
   "source": [
    "### To load the movie_titles dataset"
   ]
  },
  {
   "cell_type": "code",
   "execution_count": null,
   "metadata": {
    "id": "dB955segdNtz",
    "outputId": "fa854f39-adf5-4e95-b717-cbed460c4d53"
   },
   "outputs": [
    {
     "name": "stdout",
     "output_type": "stream",
     "text": [
      "            Year                          Name\n",
      "Movie_Id                                      \n",
      "1         2003.0               Dinosaur Planet\n",
      "2         2004.0    Isle of Man TT 2004 Review\n",
      "3         1997.0                     Character\n",
      "4         1994.0  Paula Abdul's Get Up & Dance\n",
      "5         2004.0      The Rise and Fall of ECW\n",
      "6         1997.0                          Sick\n",
      "7         1992.0                         8 Man\n",
      "8         2004.0    What the #$*! Do We Know!?\n",
      "9         1991.0      Class of Nuke 'Em High 2\n",
      "10        2001.0                       Fighter\n"
     ]
    }
   ],
   "source": [
    "df_title = pd.read_csv('movie_titles.csv', encoding = \"ISO-8859-1\", header = None, names = ['Movie_Id', 'Year', 'Name'])\n",
    "\n",
    "df_title.set_index('Movie_Id', inplace = True)\n",
    "\n",
    "print (df_title.head(10))"
   ]
  },
  {
   "cell_type": "markdown",
   "metadata": {
    "id": "OU_Jb8VidNtz"
   },
   "source": [
    "# To install the scikit-surprise library for implementing SVD"
   ]
  },
  {
   "cell_type": "markdown",
   "metadata": {
    "id": "YgcQSgh5dNtz"
   },
   "source": [
    "### Run the following command in the Anaconda Prompt to install surprise package"
   ]
  },
  {
   "cell_type": "code",
   "execution_count": null,
   "metadata": {
    "id": "ZHpVjjr4dNtz"
   },
   "outputs": [],
   "source": [
    "#conda install -c conda-forge scikit-surprise"
   ]
  },
  {
   "cell_type": "code",
   "execution_count": null,
   "metadata": {
    "id": "qb8MQXFYdNtz"
   },
   "outputs": [],
   "source": [
    "# Import required libraries\n",
    "import math\n",
    "import re\n",
    "import matplotlib.pyplot as plt\n",
    "\n",
    "from surprise import Reader, Dataset, SVD\n",
    "from surprise.model_selection import cross_validate"
   ]
  },
  {
   "cell_type": "code",
   "execution_count": null,
   "metadata": {
    "id": "FQRQ7fU7dNtz",
    "outputId": "e78817a4-9446-432f-f94a-038b56e7964e"
   },
   "outputs": [
    {
     "name": "stdout",
     "output_type": "stream",
     "text": [
      "Evaluating RMSE, MAE of algorithm SVD on 3 split(s).\n",
      "\n",
      "                  Fold 1  Fold 2  Fold 3  Mean    Std     \n",
      "RMSE (testset)    1.0037  0.9920  0.9975  0.9977  0.0048  \n",
      "MAE (testset)     0.8083  0.7966  0.8039  0.8029  0.0048  \n",
      "Fit time          3.79    3.64    3.71    3.72    0.06    \n",
      "Test time         0.17    0.25    0.17    0.20    0.04    \n"
     ]
    },
    {
     "data": {
      "text/plain": [
       "{'test_rmse': array([1.0036749 , 0.99200842, 0.99751972]),\n",
       " 'test_mae': array([0.80832566, 0.79661763, 0.80385189]),\n",
       " 'fit_time': (3.7909035682678223, 3.641662836074829, 3.714344024658203),\n",
       " 'test_time': (0.1735367774963379, 0.24933338165283203, 0.17453360557556152)}"
      ]
     },
     "execution_count": 34,
     "metadata": {},
     "output_type": "execute_result"
    }
   ],
   "source": [
    "# Load Reader library\n",
    "reader = Reader()\n",
    "\n",
    "# get just top 100K rows for faster run time\n",
    "data = Dataset.load_from_df(dataset[['Cust_Id', 'Movie_Id', 'Rating']][:100000], reader)\n",
    "\n",
    "# Use the SVD algorithm.\n",
    "svd = SVD()\n",
    "\n",
    "# Compute the RMSE of the SVD algorithm\n",
    "cross_validate(svd, data, measures=['RMSE', 'MAE'], cv=3, verbose=True)"
   ]
  },
  {
   "cell_type": "code",
   "execution_count": null,
   "metadata": {
    "id": "72DteE-ZdNt0",
    "outputId": "fbd5e694-6309-4bac-d9ae-434aacbbb573"
   },
   "outputs": [
    {
     "data": {
      "text/html": [
       "<div>\n",
       "<style scoped>\n",
       "    .dataframe tbody tr th:only-of-type {\n",
       "        vertical-align: middle;\n",
       "    }\n",
       "\n",
       "    .dataframe tbody tr th {\n",
       "        vertical-align: top;\n",
       "    }\n",
       "\n",
       "    .dataframe thead th {\n",
       "        text-align: right;\n",
       "    }\n",
       "</style>\n",
       "<table border=\"1\" class=\"dataframe\">\n",
       "  <thead>\n",
       "    <tr style=\"text-align: right;\">\n",
       "      <th></th>\n",
       "      <th>Cust_Id</th>\n",
       "      <th>Rating</th>\n",
       "      <th>Movie_Id</th>\n",
       "    </tr>\n",
       "  </thead>\n",
       "  <tbody>\n",
       "    <tr>\n",
       "      <th>696</th>\n",
       "      <td>712664</td>\n",
       "      <td>5.0</td>\n",
       "      <td>3</td>\n",
       "    </tr>\n",
       "    <tr>\n",
       "      <th>697</th>\n",
       "      <td>1331154</td>\n",
       "      <td>4.0</td>\n",
       "      <td>3</td>\n",
       "    </tr>\n",
       "    <tr>\n",
       "      <th>698</th>\n",
       "      <td>2632461</td>\n",
       "      <td>3.0</td>\n",
       "      <td>3</td>\n",
       "    </tr>\n",
       "    <tr>\n",
       "      <th>699</th>\n",
       "      <td>44937</td>\n",
       "      <td>5.0</td>\n",
       "      <td>3</td>\n",
       "    </tr>\n",
       "    <tr>\n",
       "      <th>700</th>\n",
       "      <td>656399</td>\n",
       "      <td>4.0</td>\n",
       "      <td>3</td>\n",
       "    </tr>\n",
       "  </tbody>\n",
       "</table>\n",
       "</div>"
      ],
      "text/plain": [
       "     Cust_Id  Rating  Movie_Id\n",
       "696   712664     5.0         3\n",
       "697  1331154     4.0         3\n",
       "698  2632461     3.0         3\n",
       "699    44937     5.0         3\n",
       "700   656399     4.0         3"
      ]
     },
     "execution_count": 35,
     "metadata": {},
     "output_type": "execute_result"
    }
   ],
   "source": [
    "dataset.head()"
   ]
  },
  {
   "cell_type": "markdown",
   "metadata": {
    "id": "SAW0QxlfdNt0"
   },
   "source": [
    "## To find all the movies rated as 5 stars by user with userId = 712664"
   ]
  },
  {
   "cell_type": "code",
   "execution_count": null,
   "metadata": {
    "id": "84eNfkSudNt0",
    "outputId": "64dc7330-fcb1-497d-fa5d-b4355a8cce80"
   },
   "outputs": [
    {
     "data": {
      "text/plain": [
       "Movie_Id\n",
       "3                              Character\n",
       "79                           The Killing\n",
       "175                       Reservoir Dogs\n",
       "199                      The Deer Hunter\n",
       "241                   North by Northwest\n",
       "256    Ghost Dog: The Way of the Samurai\n",
       "348        The Last Temptation of Christ\n",
       "357                House of Sand and Fog\n",
       "416                             Elephant\n",
       "442                  Mississippi Burning\n",
       "Name: Name, dtype: object"
      ]
     },
     "execution_count": 36,
     "metadata": {},
     "output_type": "execute_result"
    }
   ],
   "source": [
    "dataset_712664 = dataset[(dataset['Cust_Id'] == 712664) & (dataset['Rating'] == 5)]\n",
    "dataset_712664 = dataset_712664.set_index('Movie_Id')\n",
    "dataset_712664 = dataset_712664.join(df_title)['Name']\n",
    "dataset_712664.head(10)"
   ]
  },
  {
   "cell_type": "markdown",
   "metadata": {
    "id": "8EjKRiCRdNt0"
   },
   "source": [
    "# Train an SVD to predict ratings for user with userId = 1"
   ]
  },
  {
   "cell_type": "code",
   "execution_count": null,
   "metadata": {
    "id": "AyIJ1zsAdNt0",
    "outputId": "2fb703cf-37fa-4ebb-c472-af682bba97dd"
   },
   "outputs": [
    {
     "name": "stdout",
     "output_type": "stream",
     "text": [
      "        Year                                            Name  Estimate_Score\n",
      "4352  2002.0                  Curb Your Enthusiasm: Season 3        5.000000\n",
      "2018  2004.0                                Samurai Champloo        5.000000\n",
      "721   2003.0                              The Wire: Season 1        5.000000\n",
      "241   1995.0  Neon Genesis Evangelion: The End of Evangelion        5.000000\n",
      "871   1954.0                                   Seven Samurai        5.000000\n",
      "174   1992.0                                  Reservoir Dogs        5.000000\n",
      "2101  1994.0                          The Simpsons: Season 6        4.994354\n",
      "4114  1999.0                         The Simpsons: Bart Wars        4.972430\n",
      "2429  1979.0                      Alien: Collector's Edition        4.970744\n",
      "404   1987.0                                 Wings of Desire        4.952919\n"
     ]
    }
   ],
   "source": [
    "# Create a shallow copy for the movies dataset\n",
    "user_712664 = df_title.copy()\n",
    "\n",
    "user_712664 = user_712664.reset_index()\n",
    "\n",
    "#To remove all the movies rated less often \n",
    "user_712664 = user_712664[~user_712664['Movie_Id'].isin(drop_movie_list)]\n",
    "\n",
    "\n",
    "# getting full dataset\n",
    "data = Dataset.load_from_df(dataset[['Cust_Id', 'Movie_Id', 'Rating']], reader)\n",
    "\n",
    "#create a training set for svd\n",
    "trainset = data.build_full_trainset()\n",
    "svd.fit(trainset)\n",
    "\n",
    "#Predict the ratings for user_712664\n",
    "user_712664['Estimate_Score'] = user_712664['Movie_Id'].apply(lambda x: svd.predict(712664, x).est)\n",
    "\n",
    "#Drop extra columns from the user_712664 data frame\n",
    "user_712664 = user_712664.drop('Movie_Id', axis = 1)\n",
    "\n",
    "# Sort predicted ratings for user_712664 in descending order\n",
    "user_712664 = user_712664.sort_values('Estimate_Score', ascending=False)\n",
    "\n",
    "#Print top 10 recommendations\n",
    "print(user_712664.head(10))"
   ]
  },
  {
   "cell_type": "code",
   "execution_count": null,
   "metadata": {
    "id": "akJu4EtVdNt0"
   },
   "outputs": [],
   "source": []
  }
 ],
 "metadata": {
  "colab": {
   "name": "Copy of Recommender_System (1).ipynb",
   "provenance": [
    {
     "file_id": "15nqN1En5yUjrScK1Rz7X9iu-Owq7bB1W",
     "timestamp": 1637418448965
    }
   ]
  },
  "kernelspec": {
   "display_name": "Python 3",
   "language": "python",
   "name": "python3"
  },
  "language_info": {
   "codemirror_mode": {
    "name": "ipython",
    "version": 3
   },
   "file_extension": ".py",
   "mimetype": "text/x-python",
   "name": "python",
   "nbconvert_exporter": "python",
   "pygments_lexer": "ipython3",
   "version": "3.8.5"
  }
 },
 "nbformat": 4,
 "nbformat_minor": 1
}
