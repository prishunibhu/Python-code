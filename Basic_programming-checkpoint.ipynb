{
 "cells": [
  {
   "cell_type": "code",
   "execution_count": 54,
   "metadata": {},
   "outputs": [
    {
     "name": "stdout",
     "output_type": "stream",
     "text": [
      "Enter the Word:Priya\n",
      "Priya is a vowel data\n"
     ]
    }
   ],
   "source": [
    "#to Determine the presence of Vowels\n",
    "Var1 = input(\"Enter the Word:\")\n",
    "n=len(Var1)\n",
    "n\n",
    "i=0\n",
    "flag=0\n",
    "\n",
    "for i in range(i,n):\n",
    "   \n",
    "    if Var1[i] in('a','e','i','o','u','A','E','I','O','U'):\n",
    "            flag=1\n",
    "if flag==1:\n",
    "    print(\"%s is a vowel data\" %Var1)\n",
    "else:\n",
    "    print(\"It is not vowel\")\n",
    "\n",
    "\n"
   ]
  },
  {
   "cell_type": "code",
   "execution_count": 11,
   "metadata": {},
   "outputs": [
    {
     "data": {
      "text/plain": [
       "{1: 1, 2: 4, 3: 9, 4: 16, 5: 25, 6: 36, 7: 49, 8: 64, 9: 81, 10: 100}"
      ]
     },
     "execution_count": 11,
     "metadata": {},
     "output_type": "execute_result"
    }
   ],
   "source": [
    "# Comprehensions\n",
    "\n",
    "List_nums = [x for x in range(1,11)]\n",
    "List_nums\n",
    "Tuple_nums = tuple((x for x in range(2,12)))\n",
    "Tuple_nums\n",
    "dict_nums = {x:x*x for x in range(1,11)}\n",
    "dict_nums\n"
   ]
  },
  {
   "cell_type": "code",
   "execution_count": 40,
   "metadata": {
    "scrolled": true
   },
   "outputs": [
    {
     "name": "stdout",
     "output_type": "stream",
     "text": [
      "Calling function 12\n",
      "120\n"
     ]
    }
   ],
   "source": [
    "# functions #nesting functions\n",
    "\n",
    "\n",
    "\n",
    "def compute(x):\n",
    "    return lambda y : x * y\n",
    "\n",
    "multiply = compute(10)\n",
    "\n",
    "def execute(f,arg):\n",
    "    print(\"Calling function\",arg)\n",
    "    return f(arg)\n",
    "\n",
    "s=execute(multiply,12)\n",
    "print(s)"
   ]
  },
  {
   "cell_type": "code",
   "execution_count": 61,
   "metadata": {},
   "outputs": [
    {
     "data": {
      "text/plain": [
       "[1, 4, 9, 16, 25, 36, 49, 64, 81]"
      ]
     },
     "execution_count": 61,
     "metadata": {},
     "output_type": "execute_result"
    }
   ],
   "source": [
    "#Assignment 1 \n",
    "list1 = [x*x for x in range(1,10)]\n",
    "list1"
   ]
  },
  {
   "cell_type": "code",
   "execution_count": 9,
   "metadata": {},
   "outputs": [
    {
     "name": "stdout",
     "output_type": "stream",
     "text": [
      "Please enter the year2020\n",
      "2020 is a leap year\n"
     ]
    }
   ],
   "source": [
    "#Assignment 2\n",
    "Year = int(input(\"Please enter the year\"))\n",
    "if Year % 400 ==0 :\n",
    "    flag=1\n",
    "elif Year %100 ==0:\n",
    "    flag = 0\n",
    "elif Year %4 ==0:\n",
    "    flag =1\n",
    "else:\n",
    "    flag=0\n",
    "\n",
    "if flag == 1:\n",
    "    print(\"%d is a leap year\" %Year)\n",
    "else:\n",
    "    print(\"%d is not a leap year\" %Year)"
   ]
  },
  {
   "cell_type": "code",
   "execution_count": 71,
   "metadata": {},
   "outputs": [
    {
     "name": "stdout",
     "output_type": "stream",
     "text": [
      "[100, 23, 324, 123, 93, 230, 12]\n",
      "[100, 324, 230, 12]\n"
     ]
    }
   ],
   "source": [
    "#Assignment 3\n",
    "def func1(l):\n",
    "    y =list()\n",
    "    for x in l:\n",
    "        if x%2 ==0:\n",
    "            y.append(x)\n",
    "    return y\n",
    "\n",
    "l1=[100,23,324,123,93,230,12]\n",
    "print(l1)\n",
    "l2=func1(l1)\n",
    "print(l2)\n",
    "    "
   ]
  },
  {
   "cell_type": "code",
   "execution_count": 81,
   "metadata": {},
   "outputs": [
    {
     "name": "stdout",
     "output_type": "stream",
     "text": [
      "[30, 60]\n"
     ]
    }
   ],
   "source": [
    "#Assignment 4\n",
    "def func1(l1,l2):\n",
    "    l3 =list()\n",
    "    for x in l1:\n",
    "        for y in l2:\n",
    "            if x == y:\n",
    "                l3.append(x)\n",
    "    print(l3)\n",
    "\n",
    "l1=[10,20,30,60]\n",
    "l2=[30,40,50,60]\n",
    "func1(l1,l2)\n",
    "\n",
    "\n"
   ]
  },
  {
   "cell_type": "code",
   "execution_count": 128,
   "metadata": {},
   "outputs": [
    {
     "name": "stdout",
     "output_type": "stream",
     "text": [
      "15\n",
      "loop 0\n",
      "q 0\n",
      "loop 1\n",
      "q 5\n",
      "loop 6\n",
      "q 10\n",
      "loop 11\n",
      "q 14\n"
     ]
    }
   ],
   "source": [
    "# To find the index poisition of an element\n",
    "\n",
    "s1=\"queryq2342q231q\"\n",
    "pos =0\n",
    "n=len(s1)\n",
    "print(n)\n",
    "while(pos<=n-1):\n",
    "    print(\"loop\",pos)\n",
    "    pos1 = s1.index('q',pos)\n",
    "    pos=pos1+1\n",
    "    print('q',pos1)\n",
    "    \n"
   ]
  },
  {
   "cell_type": "code",
   "execution_count": 140,
   "metadata": {},
   "outputs": [
    {
     "name": "stdout",
     "output_type": "stream",
     "text": [
      "Combine 2 tuples (10, 20, 30, 40, 50, 60)\n",
      "Combine tuple - 3 times (10, 20, 30, 40, 50, 60, 10, 20, 30, 40, 50, 60, 10, 20, 30, 40, 50, 60)\n",
      "3rd element 30\n",
      "First 3 elements (10, 20, 30)\n",
      "Last 3 elements (40, 50, 60)\n"
     ]
    }
   ],
   "source": [
    "#Assignment 5\n",
    "\n",
    "t1=(10,20,30)\n",
    "t2=(40,50,60)\n",
    "t_combine=t1 + t2\n",
    "print(\"Combine 2 tuples\",t_combine)\n",
    "\n",
    "t4= t_combine+t_combine+t_combine\n",
    "a=t_combine[2]\n",
    "b=t_combine[:3]\n",
    "c=t_combine[-3:]\n",
    "print(\"Combine tuple - 3 times\",t4)\n",
    "print(\"3rd element\",a)\n",
    "print(\"First 3 elements\",b)\n",
    "print(\"Last 3 elements\",c)\n"
   ]
  },
  {
   "cell_type": "code",
   "execution_count": 168,
   "metadata": {},
   "outputs": [
    {
     "name": "stdout",
     "output_type": "stream",
     "text": [
      "[(1, 2, 3), ('a', 'b', 'c'), (True, False)]\n"
     ]
    },
    {
     "data": {
      "text/plain": [
       "[(1, 2, 3), ('a', 'b', 'c'), (True, False), (-1, 'a', True), ['saptra', 123]]"
      ]
     },
     "execution_count": 168,
     "metadata": {},
     "output_type": "execute_result"
    }
   ],
   "source": [
    "#Assignment 6\n",
    "\n",
    "my_list=[(1,2,3),(\"a\"',\"b\",\"c\"),(True,False)]\n",
    "print(my_list)\n",
    "tup1 = (-1,'a',True)\n",
    "my_list.append(tup1)\n",
    "my_list\n",
    "list1 = [\"saptra\",123]\n",
    "my_list.append(list1)\n",
    "my_list"
   ]
  },
  {
   "cell_type": "code",
   "execution_count": 178,
   "metadata": {},
   "outputs": [
    {
     "data": {
      "text/plain": [
       "[85, 54, 120, 70]"
      ]
     },
     "execution_count": 178,
     "metadata": {},
     "output_type": "execute_result"
    }
   ],
   "source": [
    "#assignment 7\n",
    "\n",
    "d1={\"Fruit\":[\"Apple\",\"Banana\",\"Mango\",\"Guava\"],\"Cost\":[85,54,120,70]}\n",
    "d1\n",
    "d1[\"Fruit\"]\n",
    "d1[\"Cost\"]"
   ]
  },
  {
   "cell_type": "code",
   "execution_count": 180,
   "metadata": {},
   "outputs": [
    {
     "data": {
      "text/plain": [
       "{1, 'a'}"
      ]
     },
     "execution_count": 180,
     "metadata": {},
     "output_type": "execute_result"
    }
   ],
   "source": [
    "#assignment 8\n",
    "\n",
    "my_set={1,1,\"a\",\"a\",True,True}\n",
    "my_set.add(1)\n",
    "my_set\n",
    "\n",
    "#myset - They can't keep redundant values\n"
   ]
  },
  {
   "cell_type": "code",
   "execution_count": 194,
   "metadata": {},
   "outputs": [
    {
     "name": "stdout",
     "output_type": "stream",
     "text": [
      "Enter the number:10\n",
      "Enter the 2nd number:20\n",
      "10 is less than 20\n"
     ]
    }
   ],
   "source": [
    "#If else Assignment\n",
    "\n",
    "a=int(input(\"Enter the number:\"))\n",
    "b=int(input(\"Enter the 2nd number:\"))\n",
    "if a>b:\n",
    "    print(\"%d is greater than %d\" % (a,b))\n",
    "elif a==b:\n",
    "    print(\"%d is equal to than %d\" % (a,b))\n",
    "else:\n",
    "    print(\"%d is less than %d\" % (a,b))"
   ]
  },
  {
   "cell_type": "code",
   "execution_count": 199,
   "metadata": {},
   "outputs": [
    {
     "name": "stdout",
     "output_type": "stream",
     "text": [
      "Enter the number:3\n",
      "Enter the 2nd number:3\n",
      "Enter the 3rd number:3\n",
      "All three numbers are equal\n"
     ]
    }
   ],
   "source": [
    "#If else Assignment\n",
    "\n",
    "a=int(input(\"Enter the number:\"))\n",
    "b=int(input(\"Enter the 2nd number:\"))\n",
    "c=int(input(\"Enter the 3rd number:\"))\n",
    "if a>b and a>c:\n",
    "    print(\"%d is the greatest of the three\" %a)\n",
    "elif b>a and b>c:\n",
    "    print(\"%d is the greatest of the three\" %b)\n",
    "elif c>a and c>b:\n",
    "    print(\"%d is the greatest of the three\" %c)\n",
    "elif a==b and a==c:\n",
    "    print(\"All three numbers are equal\")\n",
    "else:\n",
    "    print(\"No clue:Something wrong\")\n",
    "    \n",
    " "
   ]
  },
  {
   "cell_type": "code",
   "execution_count": 201,
   "metadata": {},
   "outputs": [
    {
     "name": "stdout",
     "output_type": "stream",
     "text": [
      "Enter the range to be derived:20\n",
      "1\n",
      "2\n",
      "3\n",
      "4\n",
      "5\n",
      "6\n",
      "7\n",
      "8\n",
      "9\n",
      "10\n",
      "11\n",
      "12\n",
      "13\n",
      "14\n",
      "15\n",
      "16\n",
      "17\n",
      "18\n",
      "19\n",
      "20\n"
     ]
    }
   ],
   "source": [
    "#Loop Assignment\n",
    "n=int(input(\"Enter the range to be derived:\"))\n",
    "for  i in range(1,n+1):\n",
    "    print(i)"
   ]
  },
  {
   "cell_type": "code",
   "execution_count": 205,
   "metadata": {},
   "outputs": [
    {
     "name": "stdout",
     "output_type": "stream",
     "text": [
      "Enter the range to be derived:20\n",
      "1\n",
      "2\n",
      "3\n",
      "4\n",
      "5\n",
      "6\n",
      "7\n",
      "8\n",
      "9\n",
      "10\n",
      "11\n",
      "12\n",
      "13\n",
      "14\n",
      "15\n",
      "16\n",
      "17\n",
      "18\n",
      "19\n",
      "20\n"
     ]
    }
   ],
   "source": [
    "#Loop Assignment\n",
    "n=int(input(\"Enter the range to be derived:\"))\n",
    "i=1\n",
    "while(i<=n):\n",
    "    print(i)\n",
    "    i=i+1"
   ]
  },
  {
   "cell_type": "code",
   "execution_count": 209,
   "metadata": {},
   "outputs": [
    {
     "name": "stdout",
     "output_type": "stream",
     "text": [
      "[10, 4, 26, 4, 24, 54]\n"
     ]
    }
   ],
   "source": [
    "#loop Assignment 2\n",
    "\n",
    "list1 = [10,23,4,26,4,75,24,54]\n",
    "l2=[]\n",
    "i=0\n",
    "while(i<len(list1)):\n",
    "    if list1[i]%2==0:\n",
    "        l2.append(list1[i])\n",
    "    i=i+1\n",
    "print(l2)"
   ]
  },
  {
   "cell_type": "code",
   "execution_count": 23,
   "metadata": {},
   "outputs": [
    {
     "name": "stdout",
     "output_type": "stream",
     "text": [
      "Enter the number.Insert 0 to mark the end:23\n",
      "Enter the number.Insert 0 to mark the end:71\n",
      "Enter the number.Insert 0 to mark the end:11\n",
      "Enter the number.Insert 0 to mark the end:6\n",
      "Enter the number.Insert 0 to mark the end:9\n",
      "Enter the number.Insert 0 to mark the end:17\n",
      "Enter the number.Insert 0 to mark the end:0\n",
      "[23, 71, 11, 6, 9, 17]\n",
      "23\n",
      "71\n",
      "11\n",
      "6\n",
      "9\n",
      "17\n",
      "[23, 71, 11, 17]\n"
     ]
    }
   ],
   "source": [
    "#Assignment 5 - Prime numbers\n",
    "l1=[]\n",
    "while(True):\n",
    "    num = int(input(\"Enter the number.Insert 0 to mark the end:\"))\n",
    "    if num==0:\n",
    "        break\n",
    "    else:\n",
    "        l1.append(num)\n",
    "\n",
    "print(l1)\n",
    "l2=[]\n",
    "for i in range(0,len(l1)):\n",
    "    print(l1[i])\n",
    "    flag =0\n",
    "    for j in range(2,l1[i]):\n",
    "        if l1[i]%j ==0:\n",
    "            flag = 1\n",
    "    if flag==0:\n",
    "        l2.append(l1[i])\n",
    "\n",
    "print(l2)\n",
    "    "
   ]
  },
  {
   "cell_type": "code",
   "execution_count": 24,
   "metadata": {},
   "outputs": [
    {
     "name": "stdout",
     "output_type": "stream",
     "text": [
      "<class 'function'>\n"
     ]
    }
   ],
   "source": [
    "print(type(lambda:None))"
   ]
  },
  {
   "cell_type": "code",
   "execution_count": 25,
   "metadata": {},
   "outputs": [
    {
     "name": "stdout",
     "output_type": "stream",
     "text": [
      "<class 'float'>\n"
     ]
    }
   ],
   "source": [
    "print(type(2/3))"
   ]
  }
 ],
 "metadata": {
  "kernelspec": {
   "display_name": "Python 3",
   "language": "python",
   "name": "python3"
  },
  "language_info": {
   "codemirror_mode": {
    "name": "ipython",
    "version": 3
   },
   "file_extension": ".py",
   "mimetype": "text/x-python",
   "name": "python",
   "nbconvert_exporter": "python",
   "pygments_lexer": "ipython3",
   "version": "3.8.5"
  }
 },
 "nbformat": 4,
 "nbformat_minor": 4
}
