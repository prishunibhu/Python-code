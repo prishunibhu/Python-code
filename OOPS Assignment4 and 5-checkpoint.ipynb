{
 "cells": [
  {
   "cell_type": "code",
   "execution_count": 5,
   "metadata": {},
   "outputs": [
    {
     "ename": "ModuleNotFoundError",
     "evalue": "No module named 'Module'",
     "output_type": "error",
     "traceback": [
      "\u001b[1;31m---------------------------------------------------------------------------\u001b[0m",
      "\u001b[1;31mModuleNotFoundError\u001b[0m                       Traceback (most recent call last)",
      "\u001b[1;32m<ipython-input-5-221826b46175>\u001b[0m in \u001b[0;36m<module>\u001b[1;34m\u001b[0m\n\u001b[1;32m----> 1\u001b[1;33m \u001b[1;32mimport\u001b[0m \u001b[0mModule\u001b[0m\u001b[1;33m\u001b[0m\u001b[1;33m\u001b[0m\u001b[0m\n\u001b[0m\u001b[0;32m      2\u001b[0m \u001b[0mprint\u001b[0m\u001b[1;33m(\u001b[0m\u001b[0mAdd\u001b[0m\u001b[1;33m(\u001b[0m\u001b[1;36m2\u001b[0m\u001b[1;33m,\u001b[0m\u001b[1;36m3\u001b[0m\u001b[1;33m)\u001b[0m\u001b[1;33m)\u001b[0m\u001b[1;33m\u001b[0m\u001b[1;33m\u001b[0m\u001b[0m\n",
      "\u001b[1;31mModuleNotFoundError\u001b[0m: No module named 'Module'"
     ]
    }
   ],
   "source": [
    "import Module as M1\n",
    "print(M1.Add(2,3))\n",
    "print(M1.Sub(3,2))\n",
    "print(M1.Mul(3,2))\n",
    "print(M1.Div(3,2))"
   ]
  },
  {
   "cell_type": "code",
   "execution_count": 11,
   "metadata": {},
   "outputs": [
    {
     "name": "stdout",
     "output_type": "stream",
     "text": [
      "10\n"
     ]
    }
   ],
   "source": [
    "class ParentClass:\n",
    "    global num \n",
    "    num = 10\n",
    "    num1 = 10\n",
    "\n",
    "class Childclass(ParentClass):\n",
    "    print(num)\n",
    "\n",
    "C1 =Childclass()"
   ]
  },
  {
   "cell_type": "code",
   "execution_count": 27,
   "metadata": {},
   "outputs": [
    {
     "name": "stdout",
     "output_type": "stream",
     "text": [
      "Priya\n"
     ]
    }
   ],
   "source": [
    "class A:\n",
    "    def __init__(Self):\n",
    "        global name,age\n",
    "        Self.name = \"Priya\"\n",
    "        Self.age = \"34\"\n",
    "    def details(Self):\n",
    "        return Self.name\n",
    "class B:\n",
    "    def __init__(Self):\n",
    "        Self.name = \"Aishu\"\n",
    "        Self.id = \"13\"\n",
    "    def details(Self):\n",
    "        return Self.name\n",
    "class C(A,B):\n",
    "    def Get_Details(Self):\n",
    "        return Self.name\n",
    "\n",
    "c = C()\n",
    "print(c.Get_Details())"
   ]
  },
  {
   "cell_type": "code",
   "execution_count": null,
   "metadata": {},
   "outputs": [],
   "source": []
  }
 ],
 "metadata": {
  "kernelspec": {
   "display_name": "Python 3",
   "language": "python",
   "name": "python3"
  },
  "language_info": {
   "codemirror_mode": {
    "name": "ipython",
    "version": 3
   },
   "file_extension": ".py",
   "mimetype": "text/x-python",
   "name": "python",
   "nbconvert_exporter": "python",
   "pygments_lexer": "ipython3",
   "version": "3.8.5"
  }
 },
 "nbformat": 4,
 "nbformat_minor": 4
}
